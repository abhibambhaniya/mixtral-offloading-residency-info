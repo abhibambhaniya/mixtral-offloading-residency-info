{
 "cells": [
  {
   "cell_type": "code",
   "execution_count": 1,
   "metadata": {},
   "outputs": [
    {
     "name": "stdout",
     "output_type": "stream",
     "text": [
      "Thu Apr 25 16:02:10 2024       \n",
      "+---------------------------------------------------------------------------------------+\n",
      "| NVIDIA-SMI 535.154.05             Driver Version: 535.154.05   CUDA Version: 12.2     |\n",
      "|-----------------------------------------+----------------------+----------------------+\n",
      "| GPU  Name                 Persistence-M | Bus-Id        Disp.A | Volatile Uncorr. ECC |\n",
      "| Fan  Temp   Perf          Pwr:Usage/Cap |         Memory-Usage | GPU-Util  Compute M. |\n",
      "|                                         |                      |               MIG M. |\n",
      "|=========================================+======================+======================|\n",
      "|   0  NVIDIA H100 80GB HBM3          On  | 00000000:0A:00.0 Off |                    0 |\n",
      "| N/A   31C    P0              72W / 700W |      0MiB / 81559MiB |      0%      Default |\n",
      "|                                         |                      |             Disabled |\n",
      "+-----------------------------------------+----------------------+----------------------+\n",
      "                                                                                         \n",
      "+---------------------------------------------------------------------------------------+\n",
      "| Processes:                                                                            |\n",
      "|  GPU   GI   CI        PID   Type   Process name                            GPU Memory |\n",
      "|        ID   ID                                                             Usage      |\n",
      "|=======================================================================================|\n",
      "|  No running processes found                                                           |\n",
      "+---------------------------------------------------------------------------------------+\n"
     ]
    }
   ],
   "source": [
    "!nvidia-smi"
   ]
  },
  {
   "cell_type": "code",
   "execution_count": 2,
   "metadata": {},
   "outputs": [
    {
     "name": "stdout",
     "output_type": "stream",
     "text": [
      "Requirement already satisfied: huggingface_hub in /scratch/615129/moe_offload/lib/python3.10/site-packages (0.22.2)\n",
      "Requirement already satisfied: filelock in /storage/ice1/7/8/skumar749/.local/lib/python3.10/site-packages (from huggingface_hub) (3.13.4)\n",
      "Requirement already satisfied: fsspec>=2023.5.0 in /scratch/615129/moe_offload/lib/python3.10/site-packages (from huggingface_hub) (2024.2.0)\n",
      "Requirement already satisfied: packaging>=20.9 in /scratch/615129/moe_offload/lib/python3.10/site-packages (from huggingface_hub) (24.0)\n",
      "Requirement already satisfied: pyyaml>=5.1 in /scratch/615129/moe_offload/lib/python3.10/site-packages (from huggingface_hub) (6.0.1)\n",
      "Requirement already satisfied: requests in /scratch/615129/moe_offload/lib/python3.10/site-packages (from huggingface_hub) (2.31.0)\n",
      "Requirement already satisfied: tqdm>=4.42.1 in /scratch/615129/moe_offload/lib/python3.10/site-packages (from huggingface_hub) (4.66.2)\n",
      "Requirement already satisfied: typing-extensions>=3.7.4.3 in /storage/ice1/7/8/skumar749/.local/lib/python3.10/site-packages (from huggingface_hub) (4.11.0)\n",
      "Requirement already satisfied: charset-normalizer<4,>=2 in /scratch/615129/moe_offload/lib/python3.10/site-packages (from requests->huggingface_hub) (3.3.2)\n",
      "Requirement already satisfied: idna<4,>=2.5 in /scratch/615129/moe_offload/lib/python3.10/site-packages (from requests->huggingface_hub) (3.7)\n",
      "Requirement already satisfied: urllib3<3,>=1.21.1 in /scratch/615129/moe_offload/lib/python3.10/site-packages (from requests->huggingface_hub) (2.2.1)\n",
      "Requirement already satisfied: certifi>=2017.4.17 in /scratch/615129/moe_offload/lib/python3.10/site-packages (from requests->huggingface_hub) (2024.2.2)\n"
     ]
    }
   ],
   "source": [
    "# fix numpy in colab\n",
    "import numpy\n",
    "from IPython.display import clear_output\n",
    "\n",
    "!pip install huggingface_hub\n",
    "!huggingface-cli login\n",
    "!huggingface-cli download lavawolfiee/Mixtral-8x7B-Instruct-v0.1-offloading-demo --quiet --cache-dir $TMP_DIR --local-dir Mixtral-8x7B-Instruct-v0.1-offloading-demo"
   ]
  },
  {
   "cell_type": "code",
   "execution_count": 3,
   "metadata": {},
   "outputs": [
    {
     "name": "stdout",
     "output_type": "stream",
     "text": [
      "\u001B[36mhqq_aten package not installed. HQQBackend.ATEN backend will not work unless you install the hqq_aten lib in hqq/kernels.\u001B[0m\n"
     ]
    }
   ],
   "source": [
    "\n",
    "import os, sys\n",
    "script_dir = os.getcwd()\n",
    "module_path = script_dir\n",
    "for _ in range(1):\n",
    "    module_path = os.path.abspath(os.path.join(module_path, '../'))\n",
    "    if module_path not in sys.path:\n",
    "        sys.path.insert(0,module_path)\n",
    "        \n",
    "sys.path.append(\"mixtral-offloading\")\n",
    "import torch\n",
    "from torch.nn import functional as F\n",
    "from hqq.core.quantize import BaseQuantizeConfig\n",
    "from huggingface_hub import snapshot_download\n",
    "from IPython.display import clear_output\n",
    "from tqdm.auto import trange\n",
    "from transformers import AutoConfig, AutoTokenizer\n",
    "from transformers.utils import logging as hf_logging\n",
    "import time\n",
    "import gc\n",
    "from src.build_model import OffloadConfig, QuantConfig, build_model"
   ]
  },
  {
   "cell_type": "code",
   "execution_count": 4,
   "metadata": {},
   "outputs": [],
   "source": [
    "# This will reload the imported modules (e.g. get_decode_model_characterstics) every time you execute the jupyter cells, so that you don't need to restart the notebook after updating the source codes.\n",
    "%load_ext autoreload\n",
    "%autoreload 2  "
   ]
  },
  {
   "cell_type": "code",
   "execution_count": 5,
   "metadata": {},
   "outputs": [],
   "source": [
    "%reload_ext autoreload"
   ]
  },
  {
   "cell_type": "code",
   "execution_count": 6,
   "metadata": {},
   "outputs": [],
   "source": [
    "import random\n",
    "\n",
    "# List of prompts\n",
    "prompts = [\n",
    "    \"What are the main causes of climate change?\",\n",
    "    \"How do you bake a chocolate cake from scratch?\",\n",
    "    \"What is the plot of Shakespeare's 'Macbeth'?\",\n",
    "    \"Can you explain the theory of relativity in simple terms?\",\n",
    "    \"What are the health benefits of daily exercise?\",\n",
    "    \"How does a blockchain work?\",\n",
    "    \"What are the top tourist attractions in Paris?\",\n",
    "    \"What is the process of photosynthesis in plants?\",\n",
    "    \"How can one improve their time management skills?\",\n",
    "    \"What are the rules of chess?\"\n",
    "]\n",
    "\n",
    "# Sampling and printing the selected prompts\n",
    "def get_prompts(b: int = 2):\n",
    "    random.shuffle(prompts)\n",
    "    return prompts[:b]"
   ]
  },
  {
   "cell_type": "code",
   "execution_count": 11,
   "metadata": {},
   "outputs": [],
   "source": [
    "from transformers import TextStreamer\n",
    "\n",
    "def run_for_config(offload_per_layer: int, attn_bits: int, ffn_bits: int, routing_strategy: str, alpha: float, n: int = 5, b_size:int = 1):\n",
    "    print (f\"Running with configs: {offload_per_layer}, {attn_bits}, {ffn_bits}, {routing_strategy}, {alpha}, {n}, {b_size}\")\n",
    "    model_name = \"mistralai/Mixtral-8x7B-Instruct-v0.1\"\n",
    "    quantized_model_name = \"lavawolfiee/Mixtral-8x7B-Instruct-v0.1-offloading-demo\"\n",
    "    state_path = \"Mixtral-8x7B-Instruct-v0.1-offloading-demo\"\n",
    "    \n",
    "    config = AutoConfig.from_pretrained(quantized_model_name)\n",
    "    \n",
    "    device = torch.device(\"cuda:0\")\n",
    "    \n",
    "    ##### Change this to 5 if you have only 12 GB of GPU VRAM #####\n",
    "    # offload_per_layer = 5\n",
    "    ###############################################################\n",
    "    \n",
    "    num_experts = config.num_local_experts\n",
    "    \n",
    "    offload_config = OffloadConfig(\n",
    "        main_size=config.num_hidden_layers * (num_experts - offload_per_layer),\n",
    "        offload_size=config.num_hidden_layers * offload_per_layer,\n",
    "        buffer_size=4,\n",
    "        offload_per_layer=offload_per_layer,\n",
    "    )\n",
    "    \n",
    "    attn_config = BaseQuantizeConfig(\n",
    "        nbits=attn_bits,\n",
    "        group_size=64,\n",
    "        quant_zero=True,\n",
    "        quant_scale=True,\n",
    "    )\n",
    "    attn_config[\"scale_quant_params\"][\"group_size\"] = 256\n",
    "    \n",
    "    \n",
    "    ffn_config = BaseQuantizeConfig(\n",
    "        nbits=ffn_bits,\n",
    "        group_size=16,\n",
    "        quant_zero=True,\n",
    "        quant_scale=True,\n",
    "    )\n",
    "    quant_config = QuantConfig(ffn_config=ffn_config, attn_config=attn_config)\n",
    "\n",
    "    if 'model' in locals():\n",
    "        print(\"Deleting existing model\")\n",
    "        del model\n",
    "    \n",
    "    model = build_model(\n",
    "        device=device,\n",
    "        quant_config=quant_config,\n",
    "        offload_config=offload_config,\n",
    "        state_path=state_path,\n",
    "        routing_strategy=routing_strategy,\n",
    "        routing_threshold=alpha\n",
    "    )\n",
    "\n",
    "    \n",
    "    tokenizer = AutoTokenizer.from_pretrained(model_name)\n",
    "    streamer = TextStreamer(tokenizer, skip_prompt=True, skip_special_tokens=True)\n",
    "    past_key_values = None\n",
    "    sequence = None\n",
    "    \n",
    "    seq_len = 0\n",
    "    # while True:\n",
    "    #user_input = \"Where is Georgia Tech? What is the name of its mascot?\"\n",
    "    #user_entry = dict(role=\"user\", content=user_input)\n",
    "    batch_prompts = get_prompts(b_size)\n",
    "    tokenizer.add_special_tokens({'pad_token': '[PAD]'})\n",
    "    inputs = tokenizer(batch_prompts, return_tensors=\"pt\", padding=True)\n",
    "    input_ids = inputs['input_ids'].to(model.device)\n",
    "    print (f\"Batch: {batch_prompts} | Input_ids: {input_ids.shape}\")\n",
    "    \n",
    "    if past_key_values is None:\n",
    "      attention_mask = torch.ones(input_ids.shape).long().to(device=model.device)\n",
    "    else:\n",
    "      seq_len = input_ids.size(1) + past_key_values[0][0][0].size(1)\n",
    "      attention_mask = torch.ones([1, seq_len - 1], dtype=torch.int, device=model.device)\n",
    "\n",
    "    results = []\n",
    "    \n",
    "    for idx in range(n):\n",
    "        start_time = time.time()\n",
    "        result = model.generate(\n",
    "            input_ids=input_ids,\n",
    "            attention_mask=attention_mask,\n",
    "            # streamer=streamer,\n",
    "            do_sample=False,\n",
    "            # temperature=0.9,\n",
    "            # top_p=0.9,\n",
    "            min_new_tokens=100,\n",
    "            max_new_tokens=100,\n",
    "            pad_token_id=tokenizer.eos_token_id,\n",
    "            return_dict_in_generate=True,\n",
    "            # output_hidden_states=True,\n",
    "            # decoder_router_logits=True, \n",
    "            output_router_logits=True,\n",
    "            # output_logits = False\n",
    "        )\n",
    "        latency = time.time() - start_time\n",
    "        total_experts_saved = 0\n",
    "        for i in result['router_logits'][-32:]:\n",
    "            total_experts_saved += i[1]\n",
    "        total_experts_saved \n",
    "        \n",
    "        Num_tokens = result['sequences'].shape[1] - input_ids.shape[1]\n",
    "        print(f\"Total Latency :{latency} sec, Throughput:{Num_tokens/latency}, Expert Loads saved:{total_experts_saved} \")\n",
    "\n",
    "        results.append({\"latency\": latency, \"throughput\": Num_tokens/latency, \"expert_loads_saved\": total_experts_saved})\n",
    "\n",
    "    return results"
   ]
  },
  {
   "cell_type": "code",
   "execution_count": 12,
   "metadata": {},
   "outputs": [
    {
     "name": "stdout",
     "output_type": "stream",
     "text": [
      "20\n"
     ]
    }
   ],
   "source": [
    "run_configs = [\n",
    "    {\"offload_per_layer\":3, \"attn_bits\":4, \"ffn_bits\": 2, \"routing_strategy\":'TOP-K', \"alpha\": 0.05, \"n\": 50},\n",
    "    {\"offload_per_layer\":4, \"attn_bits\":4, \"ffn_bits\": 2, \"routing_strategy\":'TOP-K', \"alpha\": 0.05, \"n\": 50},\n",
    "    {\"offload_per_layer\":5, \"attn_bits\":4, \"ffn_bits\": 2, \"routing_strategy\":'TOP-K', \"alpha\": 0.05, \"n\": 50},\n",
    "    {\"offload_per_layer\":6, \"attn_bits\":4, \"ffn_bits\": 2, \"routing_strategy\":'TOP-K', \"alpha\": 0.05, \"n\": 50},\n",
    "    {\"offload_per_layer\":3, \"attn_bits\":4, \"ffn_bits\": 2, \"routing_strategy\":'THRESHOLDING', \"alpha\": 0.05, \"n\": 50},\n",
    "    {\"offload_per_layer\":4, \"attn_bits\":4, \"ffn_bits\": 2, \"routing_strategy\":'THRESHOLDING', \"alpha\": 0.05, \"n\": 50},\n",
    "    {\"offload_per_layer\":5, \"attn_bits\":4, \"ffn_bits\": 2, \"routing_strategy\":'THRESHOLDING', \"alpha\": 0.05, \"n\": 50},\n",
    "    {\"offload_per_layer\":6, \"attn_bits\":4, \"ffn_bits\": 2, \"routing_strategy\":'THRESHOLDING', \"alpha\": 0.05, \"n\": 50},\n",
    "    {\"offload_per_layer\":3, \"attn_bits\":4, \"ffn_bits\": 2, \"routing_strategy\":'THRESHOLDING', \"alpha\": 0.15, \"n\": 50},\n",
    "    {\"offload_per_layer\":4, \"attn_bits\":4, \"ffn_bits\": 2, \"routing_strategy\":'THRESHOLDING', \"alpha\": 0.15, \"n\": 50},\n",
    "    {\"offload_per_layer\":5, \"attn_bits\":4, \"ffn_bits\": 2, \"routing_strategy\":'THRESHOLDING', \"alpha\": 0.15, \"n\": 50},\n",
    "    {\"offload_per_layer\":6, \"attn_bits\":4, \"ffn_bits\": 2, \"routing_strategy\":'THRESHOLDING', \"alpha\": 0.15, \"n\": 50},\n",
    "    {\"offload_per_layer\":3, \"attn_bits\":4, \"ffn_bits\": 2, \"routing_strategy\":'THRESHOLDING', \"alpha\": 0.25, \"n\": 50},\n",
    "    {\"offload_per_layer\":4, \"attn_bits\":4, \"ffn_bits\": 2, \"routing_strategy\":'THRESHOLDING', \"alpha\": 0.25, \"n\": 50},\n",
    "    {\"offload_per_layer\":5, \"attn_bits\":4, \"ffn_bits\": 2, \"routing_strategy\":'THRESHOLDING', \"alpha\": 0.25, \"n\": 50},\n",
    "    {\"offload_per_layer\":6, \"attn_bits\":4, \"ffn_bits\": 2, \"routing_strategy\":'THRESHOLDING', \"alpha\": 0.25, \"n\": 50},\n",
    "    {\"offload_per_layer\":3, \"attn_bits\":4, \"ffn_bits\": 2, \"routing_strategy\":'BIASING', \"alpha\": 0.05, \"n\": 50},\n",
    "    {\"offload_per_layer\":4, \"attn_bits\":4, \"ffn_bits\": 2, \"routing_strategy\":'BIASING', \"alpha\": 0.05, \"n\": 50},\n",
    "    {\"offload_per_layer\":5, \"attn_bits\":4, \"ffn_bits\": 2, \"routing_strategy\":'BIASING', \"alpha\": 0.05, \"n\": 50},\n",
    "    {\"offload_per_layer\":6, \"attn_bits\":4, \"ffn_bits\": 2, \"routing_strategy\":'BIASING', \"alpha\": 0.05, \"n\": 50},\n",
    "]\n",
    "\n",
    "print (len(run_configs))"
   ]
  },
  {
   "cell_type": "code",
   "execution_count": 13,
   "metadata": {},
   "outputs": [
    {
     "name": "stderr",
     "output_type": "stream",
     "text": [
      "0it [00:00, ?it/s]/scratch/615129/moe_offload/lib/python3.10/site-packages/torch/nn/init.py:452: UserWarning: Initializing zero-element tensors is a no-op\n",
      "  warnings.warn(\"Initializing zero-element tensors is a no-op\")\n"
     ]
    },
    {
     "name": "stdout",
     "output_type": "stream",
     "text": [
      "Running with configs: 3, 4, 2, TOP-K, 0.05, 50, 1\n"
     ]
    },
    {
     "data": {
      "application/vnd.jupyter.widget-view+json": {
       "model_id": "83a82921bd47400ab387389a74558594",
       "version_major": 2,
       "version_minor": 0
      },
      "text/plain": [
       "Loading experts:   0%|          | 0/32 [00:00<?, ?it/s]"
      ]
     },
     "metadata": {},
     "output_type": "display_data"
    },
    {
     "name": "stdout",
     "output_type": "stream",
     "text": [
      "Batch: [\"What is the plot of Shakespeare's 'Macbeth'?\"] | Input_ids: torch.Size([1, 15])\n",
      "Total Latency :18.18439745903015 sec, Throughput:5.499219879311492, Expert Loads saved:0 \n",
      "Total Latency :18.162853956222534 sec, Throughput:5.505742668031547, Expert Loads saved:0 \n",
      "Total Latency :18.160635232925415 sec, Throughput:5.506415316282494, Expert Loads saved:0 \n",
      "Total Latency :18.17613410949707 sec, Throughput:5.501719969580868, Expert Loads saved:0 \n",
      "Total Latency :18.319108486175537 sec, Throughput:5.4587809267828025, Expert Loads saved:0 \n",
      "Total Latency :18.17943525314331 sec, Throughput:5.500720930410065, Expert Loads saved:0 \n",
      "Total Latency :18.221656322479248 sec, Throughput:5.487975309721676, Expert Loads saved:0 \n",
      "Total Latency :18.224007606506348 sec, Throughput:5.487267244351782, Expert Loads saved:0 \n",
      "Total Latency :18.28162169456482 sec, Throughput:5.469974254512131, Expert Loads saved:0 \n",
      "Total Latency :18.214136838912964 sec, Throughput:5.4902409531896375, Expert Loads saved:0 \n",
      "Total Latency :18.237807273864746 sec, Throughput:5.483115294419336, Expert Loads saved:0 \n",
      "Total Latency :18.216707229614258 sec, Throughput:5.489466276179349, Expert Loads saved:0 \n",
      "Total Latency :18.240853548049927 sec, Throughput:5.4821995986416265, Expert Loads saved:0 \n",
      "Total Latency :18.180477619171143 sec, Throughput:5.500405550102322, Expert Loads saved:0 \n",
      "Total Latency :18.192598342895508 sec, Throughput:5.496740933603449, Expert Loads saved:0 \n",
      "Total Latency :18.19428014755249 sec, Throughput:5.496232837409184, Expert Loads saved:0 \n",
      "Total Latency :18.174635887145996 sec, Throughput:5.502173502728875, Expert Loads saved:0 \n",
      "Total Latency :18.16979193687439 sec, Throughput:5.503640346979242, Expert Loads saved:0 \n",
      "Total Latency :18.292137622833252 sec, Throughput:5.466829632594416, Expert Loads saved:0 \n",
      "Total Latency :18.150749921798706 sec, Throughput:5.509414235270902, Expert Loads saved:0 \n",
      "Total Latency :18.197303771972656 sec, Throughput:5.495319595313852, Expert Loads saved:0 \n",
      "Total Latency :18.167391777038574 sec, Throughput:5.504367452811147, Expert Loads saved:0 \n",
      "Total Latency :18.205303192138672 sec, Throughput:5.492904948882232, Expert Loads saved:0 \n",
      "Total Latency :18.163219928741455 sec, Throughput:5.505631732276727, Expert Loads saved:0 \n",
      "Total Latency :18.195926904678345 sec, Throughput:5.495735420562118, Expert Loads saved:0 \n",
      "Total Latency :18.138139009475708 sec, Throughput:5.513244768261954, Expert Loads saved:0 \n",
      "Total Latency :18.19349694252014 sec, Throughput:5.496469442677034, Expert Loads saved:0 \n",
      "Total Latency :18.144662380218506 sec, Throughput:5.511262645979074, Expert Loads saved:0 \n",
      "Total Latency :18.21590232849121 sec, Throughput:5.489708837733037, Expert Loads saved:0 \n",
      "Total Latency :18.147578477859497 sec, Throughput:5.510377052343514, Expert Loads saved:0 \n",
      "Total Latency :18.201263427734375 sec, Throughput:5.494124097320843, Expert Loads saved:0 \n",
      "Total Latency :18.214346885681152 sec, Throughput:5.490177640056532, Expert Loads saved:0 \n",
      "Total Latency :18.226046323776245 sec, Throughput:5.4866534531709155, Expert Loads saved:0 \n",
      "Total Latency :18.17525863647461 sec, Throughput:5.501984978597072, Expert Loads saved:0 \n",
      "Total Latency :18.18636727333069 sec, Throughput:5.498624244031656, Expert Loads saved:0 \n",
      "Total Latency :18.148962020874023 sec, Throughput:5.509956981836483, Expert Loads saved:0 \n",
      "Total Latency :18.18702268600464 sec, Throughput:5.498426088012331, Expert Loads saved:0 \n",
      "Total Latency :18.20798087120056 sec, Throughput:5.492097158239512, Expert Loads saved:0 \n",
      "Total Latency :18.360945463180542 sec, Throughput:5.44634262982434, Expert Loads saved:0 \n",
      "Total Latency :18.23024559020996 sec, Throughput:5.4853896238074915, Expert Loads saved:0 \n",
      "Total Latency :18.224461793899536 sec, Throughput:5.487130491473501, Expert Loads saved:0 \n",
      "Total Latency :18.221065044403076 sec, Throughput:5.488153395880488, Expert Loads saved:0 \n",
      "Total Latency :18.252928733825684 sec, Throughput:5.4785728612791615, Expert Loads saved:0 \n",
      "Total Latency :18.19712495803833 sec, Throughput:5.495373595037406, Expert Loads saved:0 \n",
      "Total Latency :18.274193286895752 sec, Throughput:5.472197783510862, Expert Loads saved:0 \n",
      "Total Latency :18.187331438064575 sec, Throughput:5.498332745545523, Expert Loads saved:0 \n",
      "Total Latency :18.21069359779358 sec, Throughput:5.491279036846574, Expert Loads saved:0 \n",
      "Total Latency :18.19357204437256 sec, Throughput:5.496446753617629, Expert Loads saved:0 \n",
      "Total Latency :18.19972515106201 sec, Throughput:5.494588471527806, Expert Loads saved:0 \n"
     ]
    },
    {
     "name": "stderr",
     "output_type": "stream",
     "text": [
      "1it [15:33, 933.96s/it]"
     ]
    },
    {
     "name": "stdout",
     "output_type": "stream",
     "text": [
      "Total Latency :18.159271717071533 sec, Throughput:5.506828773644594, Expert Loads saved:0 \n",
      "Config: 0 Result: [{'latency': 18.18439745903015, 'throughput': 5.499219879311492, 'expert_loads_saved': 0}, {'latency': 18.162853956222534, 'throughput': 5.505742668031547, 'expert_loads_saved': 0}, {'latency': 18.160635232925415, 'throughput': 5.506415316282494, 'expert_loads_saved': 0}, {'latency': 18.17613410949707, 'throughput': 5.501719969580868, 'expert_loads_saved': 0}, {'latency': 18.319108486175537, 'throughput': 5.4587809267828025, 'expert_loads_saved': 0}, {'latency': 18.17943525314331, 'throughput': 5.500720930410065, 'expert_loads_saved': 0}, {'latency': 18.221656322479248, 'throughput': 5.487975309721676, 'expert_loads_saved': 0}, {'latency': 18.224007606506348, 'throughput': 5.487267244351782, 'expert_loads_saved': 0}, {'latency': 18.28162169456482, 'throughput': 5.469974254512131, 'expert_loads_saved': 0}, {'latency': 18.214136838912964, 'throughput': 5.4902409531896375, 'expert_loads_saved': 0}, {'latency': 18.237807273864746, 'throughput': 5.483115294419336, 'expert_loads_saved': 0}, {'latency': 18.216707229614258, 'throughput': 5.489466276179349, 'expert_loads_saved': 0}, {'latency': 18.240853548049927, 'throughput': 5.4821995986416265, 'expert_loads_saved': 0}, {'latency': 18.180477619171143, 'throughput': 5.500405550102322, 'expert_loads_saved': 0}, {'latency': 18.192598342895508, 'throughput': 5.496740933603449, 'expert_loads_saved': 0}, {'latency': 18.19428014755249, 'throughput': 5.496232837409184, 'expert_loads_saved': 0}, {'latency': 18.174635887145996, 'throughput': 5.502173502728875, 'expert_loads_saved': 0}, {'latency': 18.16979193687439, 'throughput': 5.503640346979242, 'expert_loads_saved': 0}, {'latency': 18.292137622833252, 'throughput': 5.466829632594416, 'expert_loads_saved': 0}, {'latency': 18.150749921798706, 'throughput': 5.509414235270902, 'expert_loads_saved': 0}, {'latency': 18.197303771972656, 'throughput': 5.495319595313852, 'expert_loads_saved': 0}, {'latency': 18.167391777038574, 'throughput': 5.504367452811147, 'expert_loads_saved': 0}, {'latency': 18.205303192138672, 'throughput': 5.492904948882232, 'expert_loads_saved': 0}, {'latency': 18.163219928741455, 'throughput': 5.505631732276727, 'expert_loads_saved': 0}, {'latency': 18.195926904678345, 'throughput': 5.495735420562118, 'expert_loads_saved': 0}, {'latency': 18.138139009475708, 'throughput': 5.513244768261954, 'expert_loads_saved': 0}, {'latency': 18.19349694252014, 'throughput': 5.496469442677034, 'expert_loads_saved': 0}, {'latency': 18.144662380218506, 'throughput': 5.511262645979074, 'expert_loads_saved': 0}, {'latency': 18.21590232849121, 'throughput': 5.489708837733037, 'expert_loads_saved': 0}, {'latency': 18.147578477859497, 'throughput': 5.510377052343514, 'expert_loads_saved': 0}, {'latency': 18.201263427734375, 'throughput': 5.494124097320843, 'expert_loads_saved': 0}, {'latency': 18.214346885681152, 'throughput': 5.490177640056532, 'expert_loads_saved': 0}, {'latency': 18.226046323776245, 'throughput': 5.4866534531709155, 'expert_loads_saved': 0}, {'latency': 18.17525863647461, 'throughput': 5.501984978597072, 'expert_loads_saved': 0}, {'latency': 18.18636727333069, 'throughput': 5.498624244031656, 'expert_loads_saved': 0}, {'latency': 18.148962020874023, 'throughput': 5.509956981836483, 'expert_loads_saved': 0}, {'latency': 18.18702268600464, 'throughput': 5.498426088012331, 'expert_loads_saved': 0}, {'latency': 18.20798087120056, 'throughput': 5.492097158239512, 'expert_loads_saved': 0}, {'latency': 18.360945463180542, 'throughput': 5.44634262982434, 'expert_loads_saved': 0}, {'latency': 18.23024559020996, 'throughput': 5.4853896238074915, 'expert_loads_saved': 0}, {'latency': 18.224461793899536, 'throughput': 5.487130491473501, 'expert_loads_saved': 0}, {'latency': 18.221065044403076, 'throughput': 5.488153395880488, 'expert_loads_saved': 0}, {'latency': 18.252928733825684, 'throughput': 5.4785728612791615, 'expert_loads_saved': 0}, {'latency': 18.19712495803833, 'throughput': 5.495373595037406, 'expert_loads_saved': 0}, {'latency': 18.274193286895752, 'throughput': 5.472197783510862, 'expert_loads_saved': 0}, {'latency': 18.187331438064575, 'throughput': 5.498332745545523, 'expert_loads_saved': 0}, {'latency': 18.21069359779358, 'throughput': 5.491279036846574, 'expert_loads_saved': 0}, {'latency': 18.19357204437256, 'throughput': 5.496446753617629, 'expert_loads_saved': 0}, {'latency': 18.19972515106201, 'throughput': 5.494588471527806, 'expert_loads_saved': 0}, {'latency': 18.159271717071533, 'throughput': 5.506828773644594, 'expert_loads_saved': 0}]\n",
      "Running with configs: 4, 4, 2, TOP-K, 0.05, 50, 1\n"
     ]
    },
    {
     "data": {
      "application/vnd.jupyter.widget-view+json": {
       "model_id": "106d1a0a68374200b8b94244de94dc8c",
       "version_major": 2,
       "version_minor": 0
      },
      "text/plain": [
       "Loading experts:   0%|          | 0/32 [00:00<?, ?it/s]"
      ]
     },
     "metadata": {},
     "output_type": "display_data"
    },
    {
     "name": "stdout",
     "output_type": "stream",
     "text": [
      "Batch: ['What are the health benefits of daily exercise?'] | Input_ids: torch.Size([1, 10])\n",
      "Total Latency :19.534354209899902 sec, Throughput:5.119186379313248, Expert Loads saved:0 \n",
      "Total Latency :19.483198881149292 sec, Throughput:5.132627378595086, Expert Loads saved:0 \n",
      "Total Latency :19.5037260055542 sec, Throughput:5.127225432285214, Expert Loads saved:0 \n",
      "Total Latency :19.46017551422119 sec, Throughput:5.1386997988235805, Expert Loads saved:0 \n",
      "Total Latency :19.734111070632935 sec, Throughput:5.067367850625597, Expert Loads saved:0 \n",
      "Total Latency :19.559525966644287 sec, Throughput:5.112598340600604, Expert Loads saved:0 \n",
      "Total Latency :19.573420763015747 sec, Throughput:5.108969004996378, Expert Loads saved:0 \n",
      "Total Latency :19.60790228843689 sec, Throughput:5.099984614823978, Expert Loads saved:0 \n",
      "Total Latency :19.64103078842163 sec, Throughput:5.09138247769307, Expert Loads saved:0 \n",
      "Total Latency :19.58775281906128 sec, Throughput:5.105230851325006, Expert Loads saved:0 \n",
      "Total Latency :19.61594820022583 sec, Throughput:5.0978927441727615, Expert Loads saved:0 \n",
      "Total Latency :19.604533910751343 sec, Throughput:5.100860875103942, Expert Loads saved:0 \n",
      "Total Latency :19.63612937927246 sec, Throughput:5.092653346721079, Expert Loads saved:0 \n",
      "Total Latency :19.63615107536316 sec, Throughput:5.092647719820548, Expert Loads saved:0 \n",
      "Total Latency :19.626816272735596 sec, Throughput:5.095069858014315, Expert Loads saved:0 \n",
      "Total Latency :19.618573904037476 sec, Throughput:5.097210454192092, Expert Loads saved:0 \n",
      "Total Latency :19.644282817840576 sec, Throughput:5.090539620473283, Expert Loads saved:0 \n",
      "Total Latency :19.623555183410645 sec, Throughput:5.09591656890684, Expert Loads saved:0 \n",
      "Total Latency :19.65127396583557 sec, Throughput:5.088728607308285, Expert Loads saved:0 \n",
      "Total Latency :19.628029346466064 sec, Throughput:5.094754966728463, Expert Loads saved:0 \n",
      "Total Latency :19.65138554573059 sec, Throughput:5.0886997136812955, Expert Loads saved:0 \n",
      "Total Latency :19.643636465072632 sec, Throughput:5.090707119214153, Expert Loads saved:0 \n",
      "Total Latency :19.649548292160034 sec, Throughput:5.089175512492517, Expert Loads saved:0 \n",
      "Total Latency :19.648610830307007 sec, Throughput:5.08941832395372, Expert Loads saved:0 \n",
      "Total Latency :19.80268120765686 sec, Throughput:5.049821231345896, Expert Loads saved:0 \n",
      "Total Latency :19.623831272125244 sec, Throughput:5.09584487418853, Expert Loads saved:0 \n",
      "Total Latency :19.63568663597107 sec, Throughput:5.0927681753083025, Expert Loads saved:0 \n",
      "Total Latency :19.546951055526733 sec, Throughput:5.115887368619868, Expert Loads saved:0 \n",
      "Total Latency :19.574695110321045 sec, Throughput:5.108636402069606, Expert Loads saved:0 \n",
      "Total Latency :19.62215518951416 sec, Throughput:5.0962801503801565, Expert Loads saved:0 \n",
      "Total Latency :19.672481060028076 sec, Throughput:5.083242916582952, Expert Loads saved:0 \n",
      "Total Latency :19.613155603408813 sec, Throughput:5.098618601823552, Expert Loads saved:0 \n",
      "Total Latency :19.612685203552246 sec, Throughput:5.098740889487586, Expert Loads saved:0 \n",
      "Total Latency :19.601284742355347 sec, Throughput:5.101706409269973, Expert Loads saved:0 \n",
      "Total Latency :19.60703468322754 sec, Throughput:5.100210287562916, Expert Loads saved:0 \n",
      "Total Latency :19.58846664428711 sec, Throughput:5.1050448111090185, Expert Loads saved:0 \n",
      "Total Latency :19.609569549560547 sec, Throughput:5.099550999692444, Expert Loads saved:0 \n",
      "Total Latency :19.57414937019348 sec, Throughput:5.108778834204408, Expert Loads saved:0 \n",
      "Total Latency :19.541775465011597 sec, Throughput:5.117242298635768, Expert Loads saved:0 \n",
      "Total Latency :19.538317680358887 sec, Throughput:5.11814792020329, Expert Loads saved:0 \n",
      "Total Latency :19.559165477752686 sec, Throughput:5.112692569309446, Expert Loads saved:0 \n",
      "Total Latency :19.55197548866272 sec, Throughput:5.114572696655913, Expert Loads saved:0 \n",
      "Total Latency :19.589497566223145 sec, Throughput:5.104776151708111, Expert Loads saved:0 \n",
      "Total Latency :19.54530382156372 sec, Throughput:5.116318524026888, Expert Loads saved:0 \n",
      "Total Latency :19.70664644241333 sec, Throughput:5.074430106219215, Expert Loads saved:0 \n",
      "Total Latency :19.52217411994934 sec, Throughput:5.122380293586865, Expert Loads saved:0 \n",
      "Total Latency :19.52378559112549 sec, Throughput:5.121957498112193, Expert Loads saved:0 \n",
      "Total Latency :19.52142357826233 sec, Throughput:5.122577234139466, Expert Loads saved:0 \n",
      "Total Latency :19.511820316314697 sec, Throughput:5.125098446934014, Expert Loads saved:0 \n"
     ]
    },
    {
     "name": "stderr",
     "output_type": "stream",
     "text": [
      "2it [32:15, 973.53s/it]"
     ]
    },
    {
     "name": "stdout",
     "output_type": "stream",
     "text": [
      "Total Latency :19.50558638572693 sec, Throughput:5.126736413993392, Expert Loads saved:0 \n",
      "Config: 1 Result: [{'latency': 19.534354209899902, 'throughput': 5.119186379313248, 'expert_loads_saved': 0}, {'latency': 19.483198881149292, 'throughput': 5.132627378595086, 'expert_loads_saved': 0}, {'latency': 19.5037260055542, 'throughput': 5.127225432285214, 'expert_loads_saved': 0}, {'latency': 19.46017551422119, 'throughput': 5.1386997988235805, 'expert_loads_saved': 0}, {'latency': 19.734111070632935, 'throughput': 5.067367850625597, 'expert_loads_saved': 0}, {'latency': 19.559525966644287, 'throughput': 5.112598340600604, 'expert_loads_saved': 0}, {'latency': 19.573420763015747, 'throughput': 5.108969004996378, 'expert_loads_saved': 0}, {'latency': 19.60790228843689, 'throughput': 5.099984614823978, 'expert_loads_saved': 0}, {'latency': 19.64103078842163, 'throughput': 5.09138247769307, 'expert_loads_saved': 0}, {'latency': 19.58775281906128, 'throughput': 5.105230851325006, 'expert_loads_saved': 0}, {'latency': 19.61594820022583, 'throughput': 5.0978927441727615, 'expert_loads_saved': 0}, {'latency': 19.604533910751343, 'throughput': 5.100860875103942, 'expert_loads_saved': 0}, {'latency': 19.63612937927246, 'throughput': 5.092653346721079, 'expert_loads_saved': 0}, {'latency': 19.63615107536316, 'throughput': 5.092647719820548, 'expert_loads_saved': 0}, {'latency': 19.626816272735596, 'throughput': 5.095069858014315, 'expert_loads_saved': 0}, {'latency': 19.618573904037476, 'throughput': 5.097210454192092, 'expert_loads_saved': 0}, {'latency': 19.644282817840576, 'throughput': 5.090539620473283, 'expert_loads_saved': 0}, {'latency': 19.623555183410645, 'throughput': 5.09591656890684, 'expert_loads_saved': 0}, {'latency': 19.65127396583557, 'throughput': 5.088728607308285, 'expert_loads_saved': 0}, {'latency': 19.628029346466064, 'throughput': 5.094754966728463, 'expert_loads_saved': 0}, {'latency': 19.65138554573059, 'throughput': 5.0886997136812955, 'expert_loads_saved': 0}, {'latency': 19.643636465072632, 'throughput': 5.090707119214153, 'expert_loads_saved': 0}, {'latency': 19.649548292160034, 'throughput': 5.089175512492517, 'expert_loads_saved': 0}, {'latency': 19.648610830307007, 'throughput': 5.08941832395372, 'expert_loads_saved': 0}, {'latency': 19.80268120765686, 'throughput': 5.049821231345896, 'expert_loads_saved': 0}, {'latency': 19.623831272125244, 'throughput': 5.09584487418853, 'expert_loads_saved': 0}, {'latency': 19.63568663597107, 'throughput': 5.0927681753083025, 'expert_loads_saved': 0}, {'latency': 19.546951055526733, 'throughput': 5.115887368619868, 'expert_loads_saved': 0}, {'latency': 19.574695110321045, 'throughput': 5.108636402069606, 'expert_loads_saved': 0}, {'latency': 19.62215518951416, 'throughput': 5.0962801503801565, 'expert_loads_saved': 0}, {'latency': 19.672481060028076, 'throughput': 5.083242916582952, 'expert_loads_saved': 0}, {'latency': 19.613155603408813, 'throughput': 5.098618601823552, 'expert_loads_saved': 0}, {'latency': 19.612685203552246, 'throughput': 5.098740889487586, 'expert_loads_saved': 0}, {'latency': 19.601284742355347, 'throughput': 5.101706409269973, 'expert_loads_saved': 0}, {'latency': 19.60703468322754, 'throughput': 5.100210287562916, 'expert_loads_saved': 0}, {'latency': 19.58846664428711, 'throughput': 5.1050448111090185, 'expert_loads_saved': 0}, {'latency': 19.609569549560547, 'throughput': 5.099550999692444, 'expert_loads_saved': 0}, {'latency': 19.57414937019348, 'throughput': 5.108778834204408, 'expert_loads_saved': 0}, {'latency': 19.541775465011597, 'throughput': 5.117242298635768, 'expert_loads_saved': 0}, {'latency': 19.538317680358887, 'throughput': 5.11814792020329, 'expert_loads_saved': 0}, {'latency': 19.559165477752686, 'throughput': 5.112692569309446, 'expert_loads_saved': 0}, {'latency': 19.55197548866272, 'throughput': 5.114572696655913, 'expert_loads_saved': 0}, {'latency': 19.589497566223145, 'throughput': 5.104776151708111, 'expert_loads_saved': 0}, {'latency': 19.54530382156372, 'throughput': 5.116318524026888, 'expert_loads_saved': 0}, {'latency': 19.70664644241333, 'throughput': 5.074430106219215, 'expert_loads_saved': 0}, {'latency': 19.52217411994934, 'throughput': 5.122380293586865, 'expert_loads_saved': 0}, {'latency': 19.52378559112549, 'throughput': 5.121957498112193, 'expert_loads_saved': 0}, {'latency': 19.52142357826233, 'throughput': 5.122577234139466, 'expert_loads_saved': 0}, {'latency': 19.511820316314697, 'throughput': 5.125098446934014, 'expert_loads_saved': 0}, {'latency': 19.50558638572693, 'throughput': 5.126736413993392, 'expert_loads_saved': 0}]\n",
      "Running with configs: 5, 4, 2, TOP-K, 0.05, 50, 1\n"
     ]
    },
    {
     "data": {
      "application/vnd.jupyter.widget-view+json": {
       "model_id": "b5d10122c0664231ab239444319cd104",
       "version_major": 2,
       "version_minor": 0
      },
      "text/plain": [
       "Loading experts:   0%|          | 0/32 [00:00<?, ?it/s]"
      ]
     },
     "metadata": {},
     "output_type": "display_data"
    },
    {
     "name": "stdout",
     "output_type": "stream",
     "text": [
      "Batch: ['What are the main causes of climate change?'] | Input_ids: torch.Size([1, 10])\n",
      "Total Latency :21.466485023498535 sec, Throughput:4.658424511070809, Expert Loads saved:0 \n",
      "Total Latency :21.47875142097473 sec, Throughput:4.655764110307948, Expert Loads saved:0 \n",
      "Total Latency :21.50893998146057 sec, Throughput:4.6492295801742936, Expert Loads saved:0 \n",
      "Total Latency :21.475234031677246 sec, Throughput:4.656526669394804, Expert Loads saved:0 \n",
      "Total Latency :21.511430978775024 sec, Throughput:4.64869120509316, Expert Loads saved:0 \n",
      "Total Latency :21.477372407913208 sec, Throughput:4.656063046294975, Expert Loads saved:0 \n",
      "Total Latency :21.50679349899292 sec, Throughput:4.649693595871584, Expert Loads saved:0 \n",
      "Total Latency :21.48401403427124 sec, Throughput:4.6546236583387195, Expert Loads saved:0 \n",
      "Total Latency :21.50493359565735 sec, Throughput:4.650095735249968, Expert Loads saved:0 \n",
      "Total Latency :21.64649510383606 sec, Throughput:4.619685520464632, Expert Loads saved:0 \n",
      "Total Latency :21.498812675476074 sec, Throughput:4.651419662541228, Expert Loads saved:0 \n",
      "Total Latency :21.5017569065094 sec, Throughput:4.650782744628938, Expert Loads saved:0 \n",
      "Total Latency :21.505120515823364 sec, Throughput:4.6500553171241465, Expert Loads saved:0 \n",
      "Total Latency :21.481881856918335 sec, Throughput:4.655085651529852, Expert Loads saved:0 \n",
      "Total Latency :21.508329153060913 sec, Throughput:4.6493616165330405, Expert Loads saved:0 \n",
      "Total Latency :21.508238554000854 sec, Throughput:4.64938120101883, Expert Loads saved:0 \n",
      "Total Latency :21.521987438201904 sec, Throughput:4.646411038345755, Expert Loads saved:0 \n",
      "Total Latency :21.480427026748657 sec, Throughput:4.655400931996104, Expert Loads saved:0 \n",
      "Total Latency :21.497081518173218 sec, Throughput:4.651794240788543, Expert Loads saved:0 \n",
      "Total Latency :21.520660400390625 sec, Throughput:4.646697552003789, Expert Loads saved:0 \n",
      "Total Latency :21.50678777694702 sec, Throughput:4.64969483295824, Expert Loads saved:0 \n",
      "Total Latency :21.53098964691162 sec, Throughput:4.6444683518922165, Expert Loads saved:0 \n",
      "Total Latency :21.515555143356323 sec, Throughput:4.647800130357244, Expert Loads saved:0 \n",
      "Total Latency :21.50334072113037 sec, Throughput:4.650440194240817, Expert Loads saved:0 \n",
      "Total Latency :21.486598014831543 sec, Throughput:4.654063892802995, Expert Loads saved:0 \n",
      "Total Latency :21.522993326187134 sec, Throughput:4.646193885974471, Expert Loads saved:0 \n",
      "Total Latency :21.49892020225525 sec, Throughput:4.651396398480978, Expert Loads saved:0 \n",
      "Total Latency :21.52436327934265 sec, Throughput:4.645898171397801, Expert Loads saved:0 \n",
      "Total Latency :21.50484609603882 sec, Throughput:4.650114655711019, Expert Loads saved:0 \n",
      "Total Latency :21.681267023086548 sec, Throughput:4.612276574681657, Expert Loads saved:0 \n",
      "Total Latency :21.524646043777466 sec, Throughput:4.64583713927825, Expert Loads saved:0 \n",
      "Total Latency :21.540063858032227 sec, Throughput:4.642511770581883, Expert Loads saved:0 \n",
      "Total Latency :21.52753210067749 sec, Throughput:4.645214301961389, Expert Loads saved:0 \n",
      "Total Latency :21.525100469589233 sec, Throughput:4.645739058978168, Expert Loads saved:0 \n",
      "Total Latency :21.625680446624756 sec, Throughput:4.624131954914167, Expert Loads saved:0 \n",
      "Total Latency :21.558475494384766 sec, Throughput:4.6385469151585665, Expert Loads saved:0 \n",
      "Total Latency :21.47121548652649 sec, Throughput:4.6573981832910905, Expert Loads saved:0 \n",
      "Total Latency :21.420910358428955 sec, Throughput:4.668335674195602, Expert Loads saved:0 \n",
      "Total Latency :21.303571462631226 sec, Throughput:4.694048609427337, Expert Loads saved:0 \n",
      "Total Latency :21.28398084640503 sec, Throughput:4.698369197080465, Expert Loads saved:0 \n",
      "Total Latency :21.24119520187378 sec, Throughput:4.707833012672402, Expert Loads saved:0 \n",
      "Total Latency :21.246065378189087 sec, Throughput:4.7067538492401795, Expert Loads saved:0 \n",
      "Total Latency :21.270215272903442 sec, Throughput:4.701409869010213, Expert Loads saved:0 \n",
      "Total Latency :21.239757537841797 sec, Throughput:4.708151673663651, Expert Loads saved:0 \n",
      "Total Latency :21.226418495178223 sec, Throughput:4.7111103563098, Expert Loads saved:0 \n",
      "Total Latency :21.262532472610474 sec, Throughput:4.703108631524298, Expert Loads saved:0 \n",
      "Total Latency :21.246444940567017 sec, Throughput:4.706669764270278, Expert Loads saved:0 \n",
      "Total Latency :21.259296417236328 sec, Throughput:4.703824531037788, Expert Loads saved:0 \n",
      "Total Latency :21.265105962753296 sec, Throughput:4.7025394641886145, Expert Loads saved:0 \n"
     ]
    },
    {
     "name": "stderr",
     "output_type": "stream",
     "text": [
      "3it [50:28, 1028.25s/it]"
     ]
    },
    {
     "name": "stdout",
     "output_type": "stream",
     "text": [
      "Total Latency :21.405557870864868 sec, Throughput:4.671683896457103, Expert Loads saved:0 \n",
      "Config: 2 Result: [{'latency': 21.466485023498535, 'throughput': 4.658424511070809, 'expert_loads_saved': 0}, {'latency': 21.47875142097473, 'throughput': 4.655764110307948, 'expert_loads_saved': 0}, {'latency': 21.50893998146057, 'throughput': 4.6492295801742936, 'expert_loads_saved': 0}, {'latency': 21.475234031677246, 'throughput': 4.656526669394804, 'expert_loads_saved': 0}, {'latency': 21.511430978775024, 'throughput': 4.64869120509316, 'expert_loads_saved': 0}, {'latency': 21.477372407913208, 'throughput': 4.656063046294975, 'expert_loads_saved': 0}, {'latency': 21.50679349899292, 'throughput': 4.649693595871584, 'expert_loads_saved': 0}, {'latency': 21.48401403427124, 'throughput': 4.6546236583387195, 'expert_loads_saved': 0}, {'latency': 21.50493359565735, 'throughput': 4.650095735249968, 'expert_loads_saved': 0}, {'latency': 21.64649510383606, 'throughput': 4.619685520464632, 'expert_loads_saved': 0}, {'latency': 21.498812675476074, 'throughput': 4.651419662541228, 'expert_loads_saved': 0}, {'latency': 21.5017569065094, 'throughput': 4.650782744628938, 'expert_loads_saved': 0}, {'latency': 21.505120515823364, 'throughput': 4.6500553171241465, 'expert_loads_saved': 0}, {'latency': 21.481881856918335, 'throughput': 4.655085651529852, 'expert_loads_saved': 0}, {'latency': 21.508329153060913, 'throughput': 4.6493616165330405, 'expert_loads_saved': 0}, {'latency': 21.508238554000854, 'throughput': 4.64938120101883, 'expert_loads_saved': 0}, {'latency': 21.521987438201904, 'throughput': 4.646411038345755, 'expert_loads_saved': 0}, {'latency': 21.480427026748657, 'throughput': 4.655400931996104, 'expert_loads_saved': 0}, {'latency': 21.497081518173218, 'throughput': 4.651794240788543, 'expert_loads_saved': 0}, {'latency': 21.520660400390625, 'throughput': 4.646697552003789, 'expert_loads_saved': 0}, {'latency': 21.50678777694702, 'throughput': 4.64969483295824, 'expert_loads_saved': 0}, {'latency': 21.53098964691162, 'throughput': 4.6444683518922165, 'expert_loads_saved': 0}, {'latency': 21.515555143356323, 'throughput': 4.647800130357244, 'expert_loads_saved': 0}, {'latency': 21.50334072113037, 'throughput': 4.650440194240817, 'expert_loads_saved': 0}, {'latency': 21.486598014831543, 'throughput': 4.654063892802995, 'expert_loads_saved': 0}, {'latency': 21.522993326187134, 'throughput': 4.646193885974471, 'expert_loads_saved': 0}, {'latency': 21.49892020225525, 'throughput': 4.651396398480978, 'expert_loads_saved': 0}, {'latency': 21.52436327934265, 'throughput': 4.645898171397801, 'expert_loads_saved': 0}, {'latency': 21.50484609603882, 'throughput': 4.650114655711019, 'expert_loads_saved': 0}, {'latency': 21.681267023086548, 'throughput': 4.612276574681657, 'expert_loads_saved': 0}, {'latency': 21.524646043777466, 'throughput': 4.64583713927825, 'expert_loads_saved': 0}, {'latency': 21.540063858032227, 'throughput': 4.642511770581883, 'expert_loads_saved': 0}, {'latency': 21.52753210067749, 'throughput': 4.645214301961389, 'expert_loads_saved': 0}, {'latency': 21.525100469589233, 'throughput': 4.645739058978168, 'expert_loads_saved': 0}, {'latency': 21.625680446624756, 'throughput': 4.624131954914167, 'expert_loads_saved': 0}, {'latency': 21.558475494384766, 'throughput': 4.6385469151585665, 'expert_loads_saved': 0}, {'latency': 21.47121548652649, 'throughput': 4.6573981832910905, 'expert_loads_saved': 0}, {'latency': 21.420910358428955, 'throughput': 4.668335674195602, 'expert_loads_saved': 0}, {'latency': 21.303571462631226, 'throughput': 4.694048609427337, 'expert_loads_saved': 0}, {'latency': 21.28398084640503, 'throughput': 4.698369197080465, 'expert_loads_saved': 0}, {'latency': 21.24119520187378, 'throughput': 4.707833012672402, 'expert_loads_saved': 0}, {'latency': 21.246065378189087, 'throughput': 4.7067538492401795, 'expert_loads_saved': 0}, {'latency': 21.270215272903442, 'throughput': 4.701409869010213, 'expert_loads_saved': 0}, {'latency': 21.239757537841797, 'throughput': 4.708151673663651, 'expert_loads_saved': 0}, {'latency': 21.226418495178223, 'throughput': 4.7111103563098, 'expert_loads_saved': 0}, {'latency': 21.262532472610474, 'throughput': 4.703108631524298, 'expert_loads_saved': 0}, {'latency': 21.246444940567017, 'throughput': 4.706669764270278, 'expert_loads_saved': 0}, {'latency': 21.259296417236328, 'throughput': 4.703824531037788, 'expert_loads_saved': 0}, {'latency': 21.265105962753296, 'throughput': 4.7025394641886145, 'expert_loads_saved': 0}, {'latency': 21.405557870864868, 'throughput': 4.671683896457103, 'expert_loads_saved': 0}]\n",
      "Running with configs: 6, 4, 2, TOP-K, 0.05, 50, 1\n"
     ]
    },
    {
     "data": {
      "application/vnd.jupyter.widget-view+json": {
       "model_id": "8b1cdaffa664437880054840d908f473",
       "version_major": 2,
       "version_minor": 0
      },
      "text/plain": [
       "Loading experts:   0%|          | 0/32 [00:00<?, ?it/s]"
      ]
     },
     "metadata": {},
     "output_type": "display_data"
    },
    {
     "name": "stdout",
     "output_type": "stream",
     "text": [
      "Batch: ['How does a blockchain work?'] | Input_ids: torch.Size([1, 8])\n",
      "Total Latency :23.385247945785522 sec, Throughput:4.276200116921229, Expert Loads saved:0 \n",
      "Total Latency :23.392844915390015 sec, Throughput:4.274811394753042, Expert Loads saved:0 \n",
      "Total Latency :23.398696184158325 sec, Throughput:4.273742400557483, Expert Loads saved:0 \n",
      "Total Latency :23.420541286468506 sec, Throughput:4.269756141706946, Expert Loads saved:0 \n",
      "Total Latency :23.39938521385193 sec, Throughput:4.273616553857242, Expert Loads saved:0 \n",
      "Total Latency :23.42197060585022 sec, Throughput:4.269495581000452, Expert Loads saved:0 \n",
      "Total Latency :23.39749813079834 sec, Throughput:4.273961234700093, Expert Loads saved:0 \n",
      "Total Latency :23.423492193222046 sec, Throughput:4.269218235056195, Expert Loads saved:0 \n",
      "Total Latency :23.407596111297607 sec, Throughput:4.272117458132973, Expert Loads saved:0 \n",
      "Total Latency :23.414855480194092 sec, Throughput:4.270792962381806, Expert Loads saved:0 \n",
      "Total Latency :23.408377408981323 sec, Throughput:4.271974868349141, Expert Loads saved:0 \n",
      "Total Latency :23.396265983581543 sec, Throughput:4.274186319739036, Expert Loads saved:0 \n",
      "Total Latency :23.400169610977173 sec, Throughput:4.273473297949487, Expert Loads saved:0 \n",
      "Total Latency :23.414364099502563 sec, Throughput:4.270882590491727, Expert Loads saved:0 \n",
      "Total Latency :23.396235942840576 sec, Throughput:4.274191807789524, Expert Loads saved:0 \n",
      "Total Latency :23.579994440078735 sec, Throughput:4.240883103434103, Expert Loads saved:0 \n",
      "Total Latency :23.509716987609863 sec, Throughput:4.253560349225054, Expert Loads saved:0 \n",
      "Total Latency :23.49776577949524 sec, Throughput:4.255723754266995, Expert Loads saved:0 \n",
      "Total Latency :23.513317823410034 sec, Throughput:4.252908957851931, Expert Loads saved:0 \n",
      "Total Latency :23.544718027114868 sec, Throughput:4.247237103661073, Expert Loads saved:0 \n",
      "Total Latency :23.63883948326111 sec, Throughput:4.230326115239751, Expert Loads saved:0 \n",
      "Total Latency :23.63186287879944 sec, Throughput:4.231574993172111, Expert Loads saved:0 \n",
      "Total Latency :23.61857557296753 sec, Throughput:4.2339555868243925, Expert Loads saved:0 \n",
      "Total Latency :23.588749408721924 sec, Throughput:4.2393090988971665, Expert Loads saved:0 \n",
      "Total Latency :23.608612775802612 sec, Throughput:4.235742309369989, Expert Loads saved:0 \n",
      "Total Latency :23.61443042755127 sec, Throughput:4.234698791774739, Expert Loads saved:0 \n",
      "Total Latency :23.604841709136963 sec, Throughput:4.236419003872921, Expert Loads saved:0 \n",
      "Total Latency :23.575852155685425 sec, Throughput:4.241628227885054, Expert Loads saved:0 \n",
      "Total Latency :23.601819276809692 sec, Throughput:4.236961516702081, Expert Loads saved:0 \n",
      "Total Latency :23.596209049224854 sec, Throughput:4.237968895401232, Expert Loads saved:0 \n",
      "Total Latency :23.59685254096985 sec, Throughput:4.237853324987974, Expert Loads saved:0 \n",
      "Total Latency :23.609827041625977 sec, Throughput:4.235524462915047, Expert Loads saved:0 \n",
      "Total Latency :23.602112770080566 sec, Throughput:4.236908829906359, Expert Loads saved:0 \n",
      "Total Latency :23.63631296157837 sec, Throughput:4.2307783012753895, Expert Loads saved:0 \n",
      "Total Latency :23.674479246139526 sec, Throughput:4.223957746242992, Expert Loads saved:0 \n",
      "Total Latency :23.628633737564087 sec, Throughput:4.232153289549832, Expert Loads saved:0 \n",
      "Total Latency :23.801886081695557 sec, Throughput:4.201347727519095, Expert Loads saved:0 \n",
      "Total Latency :23.62647032737732 sec, Throughput:4.232540816057673, Expert Loads saved:0 \n",
      "Total Latency :23.63958978652954 sec, Throughput:4.230191847786743, Expert Loads saved:0 \n",
      "Total Latency :23.62614679336548 sec, Throughput:4.23259877603407, Expert Loads saved:0 \n",
      "Total Latency :23.60959553718567 sec, Throughput:4.235565994449064, Expert Loads saved:0 \n",
      "Total Latency :23.616151809692383 sec, Throughput:4.234390124429954, Expert Loads saved:0 \n",
      "Total Latency :23.613677263259888 sec, Throughput:4.234833858578574, Expert Loads saved:0 \n",
      "Total Latency :23.626041173934937 sec, Throughput:4.232617697725993, Expert Loads saved:0 \n",
      "Total Latency :23.60416603088379 sec, Throughput:4.236540272982302, Expert Loads saved:0 \n",
      "Total Latency :23.620753049850464 sec, Throughput:4.233565280029591, Expert Loads saved:0 \n",
      "Total Latency :23.584965705871582 sec, Throughput:4.239989205288713, Expert Loads saved:0 \n",
      "Total Latency :23.61260747909546 sec, Throughput:4.235025720413608, Expert Loads saved:0 \n",
      "Total Latency :23.605599403381348 sec, Throughput:4.2362830229879975, Expert Loads saved:0 \n"
     ]
    },
    {
     "name": "stderr",
     "output_type": "stream",
     "text": [
      "4it [1:10:23, 1093.91s/it]"
     ]
    },
    {
     "name": "stdout",
     "output_type": "stream",
     "text": [
      "Total Latency :23.609241008758545 sec, Throughput:4.235629597872378, Expert Loads saved:0 \n",
      "Config: 3 Result: [{'latency': 23.385247945785522, 'throughput': 4.276200116921229, 'expert_loads_saved': 0}, {'latency': 23.392844915390015, 'throughput': 4.274811394753042, 'expert_loads_saved': 0}, {'latency': 23.398696184158325, 'throughput': 4.273742400557483, 'expert_loads_saved': 0}, {'latency': 23.420541286468506, 'throughput': 4.269756141706946, 'expert_loads_saved': 0}, {'latency': 23.39938521385193, 'throughput': 4.273616553857242, 'expert_loads_saved': 0}, {'latency': 23.42197060585022, 'throughput': 4.269495581000452, 'expert_loads_saved': 0}, {'latency': 23.39749813079834, 'throughput': 4.273961234700093, 'expert_loads_saved': 0}, {'latency': 23.423492193222046, 'throughput': 4.269218235056195, 'expert_loads_saved': 0}, {'latency': 23.407596111297607, 'throughput': 4.272117458132973, 'expert_loads_saved': 0}, {'latency': 23.414855480194092, 'throughput': 4.270792962381806, 'expert_loads_saved': 0}, {'latency': 23.408377408981323, 'throughput': 4.271974868349141, 'expert_loads_saved': 0}, {'latency': 23.396265983581543, 'throughput': 4.274186319739036, 'expert_loads_saved': 0}, {'latency': 23.400169610977173, 'throughput': 4.273473297949487, 'expert_loads_saved': 0}, {'latency': 23.414364099502563, 'throughput': 4.270882590491727, 'expert_loads_saved': 0}, {'latency': 23.396235942840576, 'throughput': 4.274191807789524, 'expert_loads_saved': 0}, {'latency': 23.579994440078735, 'throughput': 4.240883103434103, 'expert_loads_saved': 0}, {'latency': 23.509716987609863, 'throughput': 4.253560349225054, 'expert_loads_saved': 0}, {'latency': 23.49776577949524, 'throughput': 4.255723754266995, 'expert_loads_saved': 0}, {'latency': 23.513317823410034, 'throughput': 4.252908957851931, 'expert_loads_saved': 0}, {'latency': 23.544718027114868, 'throughput': 4.247237103661073, 'expert_loads_saved': 0}, {'latency': 23.63883948326111, 'throughput': 4.230326115239751, 'expert_loads_saved': 0}, {'latency': 23.63186287879944, 'throughput': 4.231574993172111, 'expert_loads_saved': 0}, {'latency': 23.61857557296753, 'throughput': 4.2339555868243925, 'expert_loads_saved': 0}, {'latency': 23.588749408721924, 'throughput': 4.2393090988971665, 'expert_loads_saved': 0}, {'latency': 23.608612775802612, 'throughput': 4.235742309369989, 'expert_loads_saved': 0}, {'latency': 23.61443042755127, 'throughput': 4.234698791774739, 'expert_loads_saved': 0}, {'latency': 23.604841709136963, 'throughput': 4.236419003872921, 'expert_loads_saved': 0}, {'latency': 23.575852155685425, 'throughput': 4.241628227885054, 'expert_loads_saved': 0}, {'latency': 23.601819276809692, 'throughput': 4.236961516702081, 'expert_loads_saved': 0}, {'latency': 23.596209049224854, 'throughput': 4.237968895401232, 'expert_loads_saved': 0}, {'latency': 23.59685254096985, 'throughput': 4.237853324987974, 'expert_loads_saved': 0}, {'latency': 23.609827041625977, 'throughput': 4.235524462915047, 'expert_loads_saved': 0}, {'latency': 23.602112770080566, 'throughput': 4.236908829906359, 'expert_loads_saved': 0}, {'latency': 23.63631296157837, 'throughput': 4.2307783012753895, 'expert_loads_saved': 0}, {'latency': 23.674479246139526, 'throughput': 4.223957746242992, 'expert_loads_saved': 0}, {'latency': 23.628633737564087, 'throughput': 4.232153289549832, 'expert_loads_saved': 0}, {'latency': 23.801886081695557, 'throughput': 4.201347727519095, 'expert_loads_saved': 0}, {'latency': 23.62647032737732, 'throughput': 4.232540816057673, 'expert_loads_saved': 0}, {'latency': 23.63958978652954, 'throughput': 4.230191847786743, 'expert_loads_saved': 0}, {'latency': 23.62614679336548, 'throughput': 4.23259877603407, 'expert_loads_saved': 0}, {'latency': 23.60959553718567, 'throughput': 4.235565994449064, 'expert_loads_saved': 0}, {'latency': 23.616151809692383, 'throughput': 4.234390124429954, 'expert_loads_saved': 0}, {'latency': 23.613677263259888, 'throughput': 4.234833858578574, 'expert_loads_saved': 0}, {'latency': 23.626041173934937, 'throughput': 4.232617697725993, 'expert_loads_saved': 0}, {'latency': 23.60416603088379, 'throughput': 4.236540272982302, 'expert_loads_saved': 0}, {'latency': 23.620753049850464, 'throughput': 4.233565280029591, 'expert_loads_saved': 0}, {'latency': 23.584965705871582, 'throughput': 4.239989205288713, 'expert_loads_saved': 0}, {'latency': 23.61260747909546, 'throughput': 4.235025720413608, 'expert_loads_saved': 0}, {'latency': 23.605599403381348, 'throughput': 4.2362830229879975, 'expert_loads_saved': 0}, {'latency': 23.609241008758545, 'throughput': 4.235629597872378, 'expert_loads_saved': 0}]\n",
      "Running with configs: 3, 4, 2, THRESHOLDING, 0.05, 50, 1\n"
     ]
    },
    {
     "data": {
      "application/vnd.jupyter.widget-view+json": {
       "model_id": "fcc4c1fb1eef4832a74df81de579d1cb",
       "version_major": 2,
       "version_minor": 0
      },
      "text/plain": [
       "Loading experts:   0%|          | 0/32 [00:00<?, ?it/s]"
      ]
     },
     "metadata": {},
     "output_type": "display_data"
    },
    {
     "name": "stdout",
     "output_type": "stream",
     "text": [
      "Batch: ['How can one improve their time management skills?'] | Input_ids: torch.Size([1, 10])\n",
      "Total Latency :17.324288845062256 sec, Throughput:5.772242710470731, Expert Loads saved:409 \n",
      "Total Latency :17.399637460708618 sec, Throughput:5.747246184055113, Expert Loads saved:815 \n",
      "Total Latency :17.484240770339966 sec, Throughput:5.719436223369715, Expert Loads saved:1222 \n",
      "Total Latency :17.472959518432617 sec, Throughput:5.72312892355229, Expert Loads saved:1623 \n",
      "Total Latency :17.508854150772095 sec, Throughput:5.711396025055715, Expert Loads saved:2024 \n",
      "Total Latency :17.56312131881714 sec, Throughput:5.69374874686198, Expert Loads saved:2425 \n",
      "Total Latency :17.688491582870483 sec, Throughput:5.653393311210318, Expert Loads saved:2826 \n",
      "Total Latency :17.384219646453857 sec, Throughput:5.752343333995934, Expert Loads saved:3227 \n",
      "Total Latency :17.350229263305664 sec, Throughput:5.7636126002952555, Expert Loads saved:3628 \n",
      "Total Latency :17.35158109664917 sec, Throughput:5.763163566651075, Expert Loads saved:4029 \n",
      "Total Latency :17.382668256759644 sec, Throughput:5.752856726188325, Expert Loads saved:4430 \n",
      "Total Latency :17.34619688987732 sec, Throughput:5.7649524350987145, Expert Loads saved:4831 \n",
      "Total Latency :17.376549005508423 sec, Throughput:5.7548826276322, Expert Loads saved:5232 \n",
      "Total Latency :17.347977876663208 sec, Throughput:5.764360590666978, Expert Loads saved:5633 \n",
      "Total Latency :17.472063064575195 sec, Throughput:5.723422564948906, Expert Loads saved:6034 \n",
      "Total Latency :17.466631650924683 sec, Throughput:5.725202317111096, Expert Loads saved:6435 \n",
      "Total Latency :17.48406219482422 sec, Throughput:5.719494639501045, Expert Loads saved:6836 \n",
      "Total Latency :17.455296993255615 sec, Throughput:5.7289199971010545, Expert Loads saved:7237 \n",
      "Total Latency :17.44219708442688 sec, Throughput:5.733222684961183, Expert Loads saved:7638 \n",
      "Total Latency :17.661001205444336 sec, Throughput:5.662193147304306, Expert Loads saved:8039 \n",
      "Total Latency :17.567031383514404 sec, Throughput:5.692481433934475, Expert Loads saved:8440 \n",
      "Total Latency :17.579110383987427 sec, Throughput:5.688570002443846, Expert Loads saved:8841 \n",
      "Total Latency :17.561380624771118 sec, Throughput:5.6943131144794785, Expert Loads saved:9242 \n",
      "Total Latency :17.54996132850647 sec, Throughput:5.69801825361117, Expert Loads saved:9643 \n",
      "Total Latency :17.564409732818604 sec, Throughput:5.693331089467403, Expert Loads saved:10044 \n",
      "Total Latency :17.49261236190796 sec, Throughput:5.716699023055055, Expert Loads saved:10445 \n",
      "Total Latency :17.472694873809814 sec, Throughput:5.723215607106611, Expert Loads saved:10846 \n",
      "Total Latency :17.443439960479736 sec, Throughput:5.732814182670524, Expert Loads saved:11247 \n",
      "Total Latency :17.469815492630005 sec, Throughput:5.724158909530957, Expert Loads saved:11648 \n",
      "Total Latency :17.441052675247192 sec, Throughput:5.733598875136859, Expert Loads saved:12049 \n",
      "Total Latency :17.458571195602417 sec, Throughput:5.727845588256883, Expert Loads saved:12450 \n",
      "Total Latency :17.45991039276123 sec, Throughput:5.727406255272614, Expert Loads saved:12851 \n",
      "Total Latency :17.453938722610474 sec, Throughput:5.729365823340283, Expert Loads saved:13252 \n",
      "Total Latency :17.462184190750122 sec, Throughput:5.7266604742934115, Expert Loads saved:13653 \n",
      "Total Latency :17.451431035995483 sec, Throughput:5.730189105623434, Expert Loads saved:14054 \n",
      "Total Latency :17.468959093093872 sec, Throughput:5.724439531118583, Expert Loads saved:14455 \n",
      "Total Latency :17.457532167434692 sec, Throughput:5.72818649514163, Expert Loads saved:14856 \n",
      "Total Latency :17.47158670425415 sec, Throughput:5.723578613249307, Expert Loads saved:15257 \n",
      "Total Latency :17.445342540740967 sec, Throughput:5.732188964846353, Expert Loads saved:15658 \n",
      "Total Latency :17.621491193771362 sec, Throughput:5.674888628911657, Expert Loads saved:16059 \n",
      "Total Latency :17.452353715896606 sec, Throughput:5.729886159075166, Expert Loads saved:16460 \n",
      "Total Latency :17.49799418449402 sec, Throughput:5.714940749529781, Expert Loads saved:16861 \n",
      "Total Latency :17.462105751037598 sec, Throughput:5.72668619843045, Expert Loads saved:17262 \n",
      "Total Latency :17.449138879776 sec, Throughput:5.730941835525337, Expert Loads saved:17663 \n",
      "Total Latency :17.479461908340454 sec, Throughput:5.720999909744605, Expert Loads saved:18064 \n",
      "Total Latency :17.4813494682312 sec, Throughput:5.7203821811199225, Expert Loads saved:18465 \n",
      "Total Latency :17.46547245979309 sec, Throughput:5.725582301320961, Expert Loads saved:18866 \n",
      "Total Latency :17.475866317749023 sec, Throughput:5.722176982919407, Expert Loads saved:19267 \n",
      "Total Latency :17.48363494873047 sec, Throughput:5.719634406302978, Expert Loads saved:19668 \n"
     ]
    },
    {
     "name": "stderr",
     "output_type": "stream",
     "text": [
      "5it [1:25:16, 1021.72s/it]"
     ]
    },
    {
     "name": "stdout",
     "output_type": "stream",
     "text": [
      "Total Latency :17.451910495758057 sec, Throughput:5.730031679013393, Expert Loads saved:20069 \n",
      "Config: 4 Result: [{'latency': 17.324288845062256, 'throughput': 5.772242710470731, 'expert_loads_saved': 409}, {'latency': 17.399637460708618, 'throughput': 5.747246184055113, 'expert_loads_saved': 815}, {'latency': 17.484240770339966, 'throughput': 5.719436223369715, 'expert_loads_saved': 1222}, {'latency': 17.472959518432617, 'throughput': 5.72312892355229, 'expert_loads_saved': 1623}, {'latency': 17.508854150772095, 'throughput': 5.711396025055715, 'expert_loads_saved': 2024}, {'latency': 17.56312131881714, 'throughput': 5.69374874686198, 'expert_loads_saved': 2425}, {'latency': 17.688491582870483, 'throughput': 5.653393311210318, 'expert_loads_saved': 2826}, {'latency': 17.384219646453857, 'throughput': 5.752343333995934, 'expert_loads_saved': 3227}, {'latency': 17.350229263305664, 'throughput': 5.7636126002952555, 'expert_loads_saved': 3628}, {'latency': 17.35158109664917, 'throughput': 5.763163566651075, 'expert_loads_saved': 4029}, {'latency': 17.382668256759644, 'throughput': 5.752856726188325, 'expert_loads_saved': 4430}, {'latency': 17.34619688987732, 'throughput': 5.7649524350987145, 'expert_loads_saved': 4831}, {'latency': 17.376549005508423, 'throughput': 5.7548826276322, 'expert_loads_saved': 5232}, {'latency': 17.347977876663208, 'throughput': 5.764360590666978, 'expert_loads_saved': 5633}, {'latency': 17.472063064575195, 'throughput': 5.723422564948906, 'expert_loads_saved': 6034}, {'latency': 17.466631650924683, 'throughput': 5.725202317111096, 'expert_loads_saved': 6435}, {'latency': 17.48406219482422, 'throughput': 5.719494639501045, 'expert_loads_saved': 6836}, {'latency': 17.455296993255615, 'throughput': 5.7289199971010545, 'expert_loads_saved': 7237}, {'latency': 17.44219708442688, 'throughput': 5.733222684961183, 'expert_loads_saved': 7638}, {'latency': 17.661001205444336, 'throughput': 5.662193147304306, 'expert_loads_saved': 8039}, {'latency': 17.567031383514404, 'throughput': 5.692481433934475, 'expert_loads_saved': 8440}, {'latency': 17.579110383987427, 'throughput': 5.688570002443846, 'expert_loads_saved': 8841}, {'latency': 17.561380624771118, 'throughput': 5.6943131144794785, 'expert_loads_saved': 9242}, {'latency': 17.54996132850647, 'throughput': 5.69801825361117, 'expert_loads_saved': 9643}, {'latency': 17.564409732818604, 'throughput': 5.693331089467403, 'expert_loads_saved': 10044}, {'latency': 17.49261236190796, 'throughput': 5.716699023055055, 'expert_loads_saved': 10445}, {'latency': 17.472694873809814, 'throughput': 5.723215607106611, 'expert_loads_saved': 10846}, {'latency': 17.443439960479736, 'throughput': 5.732814182670524, 'expert_loads_saved': 11247}, {'latency': 17.469815492630005, 'throughput': 5.724158909530957, 'expert_loads_saved': 11648}, {'latency': 17.441052675247192, 'throughput': 5.733598875136859, 'expert_loads_saved': 12049}, {'latency': 17.458571195602417, 'throughput': 5.727845588256883, 'expert_loads_saved': 12450}, {'latency': 17.45991039276123, 'throughput': 5.727406255272614, 'expert_loads_saved': 12851}, {'latency': 17.453938722610474, 'throughput': 5.729365823340283, 'expert_loads_saved': 13252}, {'latency': 17.462184190750122, 'throughput': 5.7266604742934115, 'expert_loads_saved': 13653}, {'latency': 17.451431035995483, 'throughput': 5.730189105623434, 'expert_loads_saved': 14054}, {'latency': 17.468959093093872, 'throughput': 5.724439531118583, 'expert_loads_saved': 14455}, {'latency': 17.457532167434692, 'throughput': 5.72818649514163, 'expert_loads_saved': 14856}, {'latency': 17.47158670425415, 'throughput': 5.723578613249307, 'expert_loads_saved': 15257}, {'latency': 17.445342540740967, 'throughput': 5.732188964846353, 'expert_loads_saved': 15658}, {'latency': 17.621491193771362, 'throughput': 5.674888628911657, 'expert_loads_saved': 16059}, {'latency': 17.452353715896606, 'throughput': 5.729886159075166, 'expert_loads_saved': 16460}, {'latency': 17.49799418449402, 'throughput': 5.714940749529781, 'expert_loads_saved': 16861}, {'latency': 17.462105751037598, 'throughput': 5.72668619843045, 'expert_loads_saved': 17262}, {'latency': 17.449138879776, 'throughput': 5.730941835525337, 'expert_loads_saved': 17663}, {'latency': 17.479461908340454, 'throughput': 5.720999909744605, 'expert_loads_saved': 18064}, {'latency': 17.4813494682312, 'throughput': 5.7203821811199225, 'expert_loads_saved': 18465}, {'latency': 17.46547245979309, 'throughput': 5.725582301320961, 'expert_loads_saved': 18866}, {'latency': 17.475866317749023, 'throughput': 5.722176982919407, 'expert_loads_saved': 19267}, {'latency': 17.48363494873047, 'throughput': 5.719634406302978, 'expert_loads_saved': 19668}, {'latency': 17.451910495758057, 'throughput': 5.730031679013393, 'expert_loads_saved': 20069}]\n",
      "Running with configs: 4, 4, 2, THRESHOLDING, 0.05, 50, 1\n"
     ]
    },
    {
     "data": {
      "application/vnd.jupyter.widget-view+json": {
       "model_id": "20543811d3b2474eae7181dc16f5c6cd",
       "version_major": 2,
       "version_minor": 0
      },
      "text/plain": [
       "Loading experts:   0%|          | 0/32 [00:00<?, ?it/s]"
      ]
     },
     "metadata": {},
     "output_type": "display_data"
    },
    {
     "name": "stdout",
     "output_type": "stream",
     "text": [
      "Batch: ['How can one improve their time management skills?'] | Input_ids: torch.Size([1, 10])\n",
      "Total Latency :19.21473526954651 sec, Throughput:5.204339200992807, Expert Loads saved:478 \n",
      "Total Latency :19.02950429916382 sec, Throughput:5.254997630410905, Expert Loads saved:980 \n",
      "Total Latency :18.923544883728027 sec, Throughput:5.284422163734659, Expert Loads saved:1489 \n",
      "Total Latency :19.078222513198853 sec, Throughput:5.241578450550998, Expert Loads saved:1998 \n",
      "Total Latency :18.92999243736267 sec, Throughput:5.282622290045247, Expert Loads saved:2507 \n",
      "Total Latency :18.937790632247925 sec, Throughput:5.280447014221212, Expert Loads saved:3016 \n",
      "Total Latency :18.9459285736084 sec, Throughput:5.278178876874876, Expert Loads saved:3525 \n",
      "Total Latency :18.967052459716797 sec, Throughput:5.272300491200999, Expert Loads saved:4034 \n",
      "Total Latency :18.96513295173645 sec, Throughput:5.272834113764754, Expert Loads saved:4543 \n",
      "Total Latency :18.92801308631897 sec, Throughput:5.2831747074540685, Expert Loads saved:5052 \n",
      "Total Latency :18.952128410339355 sec, Throughput:5.276452218709371, Expert Loads saved:5561 \n",
      "Total Latency :18.935651302337646 sec, Throughput:5.281043593554914, Expert Loads saved:6070 \n",
      "Total Latency :18.94960045814514 sec, Throughput:5.277156118456145, Expert Loads saved:6579 \n",
      "Total Latency :18.949533700942993 sec, Throughput:5.277174709318766, Expert Loads saved:7088 \n",
      "Total Latency :18.931544303894043 sec, Throughput:5.282189260145615, Expert Loads saved:7597 \n",
      "Total Latency :18.937148809432983 sec, Throughput:5.280625980516557, Expert Loads saved:8106 \n",
      "Total Latency :18.94965124130249 sec, Throughput:5.277141976209087, Expert Loads saved:8615 \n",
      "Total Latency :18.931305646896362 sec, Throughput:5.2822558499230725, Expert Loads saved:9124 \n",
      "Total Latency :18.95647883415222 sec, Throughput:5.275241297441737, Expert Loads saved:9633 \n",
      "Total Latency :18.966337203979492 sec, Throughput:5.2724993194267435, Expert Loads saved:10142 \n",
      "Total Latency :18.966774225234985 sec, Throughput:5.2723778335986955, Expert Loads saved:10651 \n",
      "Total Latency :18.94787573814392 sec, Throughput:5.277636468698718, Expert Loads saved:11160 \n",
      "Total Latency :18.95176410675049 sec, Throughput:5.27655364623184, Expert Loads saved:11669 \n",
      "Total Latency :18.9357693195343 sec, Throughput:5.28101067944671, Expert Loads saved:12178 \n",
      "Total Latency :19.092504501342773 sec, Throughput:5.237657531675167, Expert Loads saved:12687 \n",
      "Total Latency :18.95306372642517 sec, Throughput:5.276191830694672, Expert Loads saved:13196 \n",
      "Total Latency :18.977044105529785 sec, Throughput:5.269524560511543, Expert Loads saved:13705 \n",
      "Total Latency :19.042269945144653 sec, Throughput:5.251474760523376, Expert Loads saved:14214 \n",
      "Total Latency :19.118510007858276 sec, Throughput:5.230533130400697, Expert Loads saved:14723 \n",
      "Total Latency :19.104360342025757 sec, Throughput:5.234407130607774, Expert Loads saved:15232 \n",
      "Total Latency :19.22233247756958 sec, Throughput:5.202282299335389, Expert Loads saved:15741 \n",
      "Total Latency :19.29293918609619 sec, Throughput:5.18324341539763, Expert Loads saved:16250 \n",
      "Total Latency :19.3761088848114 sec, Throughput:5.160994944572606, Expert Loads saved:16759 \n",
      "Total Latency :19.36745524406433 sec, Throughput:5.163300946862787, Expert Loads saved:17268 \n",
      "Total Latency :19.407947778701782 sec, Throughput:5.152528290999405, Expert Loads saved:17777 \n",
      "Total Latency :19.409794092178345 sec, Throughput:5.1520381682100105, Expert Loads saved:18286 \n",
      "Total Latency :19.28658962249756 sec, Throughput:5.184949851546138, Expert Loads saved:18795 \n",
      "Total Latency :19.2613787651062 sec, Throughput:5.191736335155789, Expert Loads saved:19304 \n",
      "Total Latency :19.499767303466797 sec, Throughput:5.128266324604875, Expert Loads saved:19813 \n",
      "Total Latency :19.720569372177124 sec, Throughput:5.070847505097168, Expert Loads saved:20322 \n",
      "Total Latency :19.67762064933777 sec, Throughput:5.081915226542667, Expert Loads saved:20831 \n",
      "Total Latency :19.626415252685547 sec, Throughput:5.095173963891173, Expert Loads saved:21340 \n",
      "Total Latency :19.701167583465576 sec, Throughput:5.07584129602177, Expert Loads saved:21849 \n",
      "Total Latency :19.68798518180847 sec, Throughput:5.079239905787777, Expert Loads saved:22358 \n",
      "Total Latency :19.81554865837097 sec, Throughput:5.0465420727957255, Expert Loads saved:22867 \n",
      "Total Latency :19.74028968811035 sec, Throughput:5.065781788411665, Expert Loads saved:23376 \n",
      "Total Latency :19.692823886871338 sec, Throughput:5.0779918905722425, Expert Loads saved:23885 \n",
      "Total Latency :19.63784146308899 sec, Throughput:5.092209354473026, Expert Loads saved:24394 \n",
      "Total Latency :19.735512018203735 sec, Throughput:5.067008137805674, Expert Loads saved:24903 \n"
     ]
    },
    {
     "name": "stderr",
     "output_type": "stream",
     "text": [
      "6it [1:41:36, 1007.39s/it]"
     ]
    },
    {
     "name": "stdout",
     "output_type": "stream",
     "text": [
      "Total Latency :19.667511463165283 sec, Throughput:5.084527353004834, Expert Loads saved:25412 \n",
      "Config: 5 Result: [{'latency': 19.21473526954651, 'throughput': 5.204339200992807, 'expert_loads_saved': 478}, {'latency': 19.02950429916382, 'throughput': 5.254997630410905, 'expert_loads_saved': 980}, {'latency': 18.923544883728027, 'throughput': 5.284422163734659, 'expert_loads_saved': 1489}, {'latency': 19.078222513198853, 'throughput': 5.241578450550998, 'expert_loads_saved': 1998}, {'latency': 18.92999243736267, 'throughput': 5.282622290045247, 'expert_loads_saved': 2507}, {'latency': 18.937790632247925, 'throughput': 5.280447014221212, 'expert_loads_saved': 3016}, {'latency': 18.9459285736084, 'throughput': 5.278178876874876, 'expert_loads_saved': 3525}, {'latency': 18.967052459716797, 'throughput': 5.272300491200999, 'expert_loads_saved': 4034}, {'latency': 18.96513295173645, 'throughput': 5.272834113764754, 'expert_loads_saved': 4543}, {'latency': 18.92801308631897, 'throughput': 5.2831747074540685, 'expert_loads_saved': 5052}, {'latency': 18.952128410339355, 'throughput': 5.276452218709371, 'expert_loads_saved': 5561}, {'latency': 18.935651302337646, 'throughput': 5.281043593554914, 'expert_loads_saved': 6070}, {'latency': 18.94960045814514, 'throughput': 5.277156118456145, 'expert_loads_saved': 6579}, {'latency': 18.949533700942993, 'throughput': 5.277174709318766, 'expert_loads_saved': 7088}, {'latency': 18.931544303894043, 'throughput': 5.282189260145615, 'expert_loads_saved': 7597}, {'latency': 18.937148809432983, 'throughput': 5.280625980516557, 'expert_loads_saved': 8106}, {'latency': 18.94965124130249, 'throughput': 5.277141976209087, 'expert_loads_saved': 8615}, {'latency': 18.931305646896362, 'throughput': 5.2822558499230725, 'expert_loads_saved': 9124}, {'latency': 18.95647883415222, 'throughput': 5.275241297441737, 'expert_loads_saved': 9633}, {'latency': 18.966337203979492, 'throughput': 5.2724993194267435, 'expert_loads_saved': 10142}, {'latency': 18.966774225234985, 'throughput': 5.2723778335986955, 'expert_loads_saved': 10651}, {'latency': 18.94787573814392, 'throughput': 5.277636468698718, 'expert_loads_saved': 11160}, {'latency': 18.95176410675049, 'throughput': 5.27655364623184, 'expert_loads_saved': 11669}, {'latency': 18.9357693195343, 'throughput': 5.28101067944671, 'expert_loads_saved': 12178}, {'latency': 19.092504501342773, 'throughput': 5.237657531675167, 'expert_loads_saved': 12687}, {'latency': 18.95306372642517, 'throughput': 5.276191830694672, 'expert_loads_saved': 13196}, {'latency': 18.977044105529785, 'throughput': 5.269524560511543, 'expert_loads_saved': 13705}, {'latency': 19.042269945144653, 'throughput': 5.251474760523376, 'expert_loads_saved': 14214}, {'latency': 19.118510007858276, 'throughput': 5.230533130400697, 'expert_loads_saved': 14723}, {'latency': 19.104360342025757, 'throughput': 5.234407130607774, 'expert_loads_saved': 15232}, {'latency': 19.22233247756958, 'throughput': 5.202282299335389, 'expert_loads_saved': 15741}, {'latency': 19.29293918609619, 'throughput': 5.18324341539763, 'expert_loads_saved': 16250}, {'latency': 19.3761088848114, 'throughput': 5.160994944572606, 'expert_loads_saved': 16759}, {'latency': 19.36745524406433, 'throughput': 5.163300946862787, 'expert_loads_saved': 17268}, {'latency': 19.407947778701782, 'throughput': 5.152528290999405, 'expert_loads_saved': 17777}, {'latency': 19.409794092178345, 'throughput': 5.1520381682100105, 'expert_loads_saved': 18286}, {'latency': 19.28658962249756, 'throughput': 5.184949851546138, 'expert_loads_saved': 18795}, {'latency': 19.2613787651062, 'throughput': 5.191736335155789, 'expert_loads_saved': 19304}, {'latency': 19.499767303466797, 'throughput': 5.128266324604875, 'expert_loads_saved': 19813}, {'latency': 19.720569372177124, 'throughput': 5.070847505097168, 'expert_loads_saved': 20322}, {'latency': 19.67762064933777, 'throughput': 5.081915226542667, 'expert_loads_saved': 20831}, {'latency': 19.626415252685547, 'throughput': 5.095173963891173, 'expert_loads_saved': 21340}, {'latency': 19.701167583465576, 'throughput': 5.07584129602177, 'expert_loads_saved': 21849}, {'latency': 19.68798518180847, 'throughput': 5.079239905787777, 'expert_loads_saved': 22358}, {'latency': 19.81554865837097, 'throughput': 5.0465420727957255, 'expert_loads_saved': 22867}, {'latency': 19.74028968811035, 'throughput': 5.065781788411665, 'expert_loads_saved': 23376}, {'latency': 19.692823886871338, 'throughput': 5.0779918905722425, 'expert_loads_saved': 23885}, {'latency': 19.63784146308899, 'throughput': 5.092209354473026, 'expert_loads_saved': 24394}, {'latency': 19.735512018203735, 'throughput': 5.067008137805674, 'expert_loads_saved': 24903}, {'latency': 19.667511463165283, 'throughput': 5.084527353004834, 'expert_loads_saved': 25412}]\n",
      "Running with configs: 5, 4, 2, THRESHOLDING, 0.05, 50, 1\n"
     ]
    },
    {
     "data": {
      "application/vnd.jupyter.widget-view+json": {
       "model_id": "9a45d600100e44e38a55dd3c3f753227",
       "version_major": 2,
       "version_minor": 0
      },
      "text/plain": [
       "Loading experts:   0%|          | 0/32 [00:00<?, ?it/s]"
      ]
     },
     "metadata": {},
     "output_type": "display_data"
    },
    {
     "name": "stdout",
     "output_type": "stream",
     "text": [
      "Batch: ['What are the rules of chess?'] | Input_ids: torch.Size([1, 9])\n",
      "Total Latency :21.529940605163574 sec, Throughput:4.6446946526186315, Expert Loads saved:571 \n",
      "Total Latency :21.462987899780273 sec, Throughput:4.6591835427081305, Expert Loads saved:1134 \n",
      "Total Latency :21.48137402534485 sec, Throughput:4.655195700331588, Expert Loads saved:1697 \n",
      "Total Latency :21.544202089309692 sec, Throughput:4.6416200324086425, Expert Loads saved:2260 \n",
      "Total Latency :21.462239742279053 sec, Throughput:4.6593459583347805, Expert Loads saved:2823 \n",
      "Total Latency :21.573243379592896 sec, Throughput:4.63537161475657, Expert Loads saved:3386 \n",
      "Total Latency :21.555057764053345 sec, Throughput:4.639282394629751, Expert Loads saved:3949 \n",
      "Total Latency :21.45755100250244 sec, Throughput:4.660364082943935, Expert Loads saved:4512 \n",
      "Total Latency :21.570231914520264 sec, Throughput:4.636018768656993, Expert Loads saved:5075 \n",
      "Total Latency :21.6745285987854 sec, Throughput:4.613710491752232, Expert Loads saved:5638 \n",
      "Total Latency :21.40471839904785 sec, Throughput:4.671867115264096, Expert Loads saved:6201 \n",
      "Total Latency :21.36746048927307 sec, Throughput:4.680013333835444, Expert Loads saved:6764 \n",
      "Total Latency :21.164035081863403 sec, Throughput:4.724996892756777, Expert Loads saved:7327 \n",
      "Total Latency :21.12419819831848 sec, Throughput:4.733907486626411, Expert Loads saved:7890 \n",
      "Total Latency :21.243443727493286 sec, Throughput:4.70733470913569, Expert Loads saved:8453 \n",
      "Total Latency :21.001991510391235 sec, Throughput:4.7614532150688005, Expert Loads saved:9016 \n",
      "Total Latency :21.019702434539795 sec, Throughput:4.7574412773645625, Expert Loads saved:9579 \n",
      "Total Latency :21.0608913898468 sec, Throughput:4.748137111053561, Expert Loads saved:10142 \n",
      "Total Latency :21.079484462738037 sec, Throughput:4.743949036171585, Expert Loads saved:10705 \n",
      "Total Latency :21.05989646911621 sec, Throughput:4.748361424598995, Expert Loads saved:11268 \n",
      "Total Latency :21.042454719543457 sec, Throughput:4.752297264402507, Expert Loads saved:11831 \n",
      "Total Latency :21.247253894805908 sec, Throughput:4.70649056556179, Expert Loads saved:12394 \n",
      "Total Latency :20.906227350234985 sec, Throughput:4.7832637770906095, Expert Loads saved:12957 \n",
      "Total Latency :21.008639574050903 sec, Throughput:4.759946480471601, Expert Loads saved:13520 \n",
      "Total Latency :20.94673728942871 sec, Throughput:4.774013184882376, Expert Loads saved:14083 \n",
      "Total Latency :21.04623794555664 sec, Throughput:4.751443001769937, Expert Loads saved:14646 \n",
      "Total Latency :21.139305114746094 sec, Throughput:4.7305244641292985, Expert Loads saved:15209 \n",
      "Total Latency :20.997039556503296 sec, Throughput:4.762576158934156, Expert Loads saved:15772 \n",
      "Total Latency :21.359046697616577 sec, Throughput:4.681856892571841, Expert Loads saved:16335 \n",
      "Total Latency :21.252937078475952 sec, Throughput:4.705232017144381, Expert Loads saved:16898 \n",
      "Total Latency :21.000502824783325 sec, Throughput:4.761790745409534, Expert Loads saved:17461 \n",
      "Total Latency :21.090545415878296 sec, Throughput:4.741461068366382, Expert Loads saved:18024 \n",
      "Total Latency :20.994399070739746 sec, Throughput:4.763175152718313, Expert Loads saved:18587 \n",
      "Total Latency :21.058921813964844 sec, Throughput:4.748581189645084, Expert Loads saved:19150 \n",
      "Total Latency :21.107412099838257 sec, Throughput:4.737672222771748, Expert Loads saved:19713 \n",
      "Total Latency :21.06798553466797 sec, Throughput:4.746538288411446, Expert Loads saved:20276 \n",
      "Total Latency :21.256513833999634 sec, Throughput:4.7044402850316285, Expert Loads saved:20839 \n",
      "Total Latency :20.992727994918823 sec, Throughput:4.763554313865471, Expert Loads saved:21402 \n",
      "Total Latency :21.096739053726196 sec, Throughput:4.7400690573711, Expert Loads saved:21965 \n",
      "Total Latency :21.030539989471436 sec, Throughput:4.754989650768036, Expert Loads saved:22528 \n",
      "Total Latency :21.09532618522644 sec, Throughput:4.740386525524899, Expert Loads saved:23091 \n",
      "Total Latency :21.101146936416626 sec, Throughput:4.739078889945017, Expert Loads saved:23654 \n",
      "Total Latency :21.09419822692871 sec, Throughput:4.7406400055699045, Expert Loads saved:24217 \n",
      "Total Latency :21.06608486175537 sec, Throughput:4.746966541540235, Expert Loads saved:24780 \n",
      "Total Latency :21.015727758407593 sec, Throughput:4.758341045790994, Expert Loads saved:25343 \n",
      "Total Latency :21.048491716384888 sec, Throughput:4.750934240202897, Expert Loads saved:25906 \n",
      "Total Latency :21.02041459083557 sec, Throughput:4.757280098728298, Expert Loads saved:26469 \n",
      "Total Latency :21.116599559783936 sec, Throughput:4.735610945165984, Expert Loads saved:27032 \n",
      "Total Latency :21.050405502319336 sec, Throughput:4.750502311652951, Expert Loads saved:27595 \n"
     ]
    },
    {
     "name": "stderr",
     "output_type": "stream",
     "text": [
      "7it [1:59:35, 1030.74s/it]"
     ]
    },
    {
     "name": "stdout",
     "output_type": "stream",
     "text": [
      "Total Latency :21.060004711151123 sec, Throughput:4.748337019461857, Expert Loads saved:28158 \n",
      "Config: 6 Result: [{'latency': 21.529940605163574, 'throughput': 4.6446946526186315, 'expert_loads_saved': 571}, {'latency': 21.462987899780273, 'throughput': 4.6591835427081305, 'expert_loads_saved': 1134}, {'latency': 21.48137402534485, 'throughput': 4.655195700331588, 'expert_loads_saved': 1697}, {'latency': 21.544202089309692, 'throughput': 4.6416200324086425, 'expert_loads_saved': 2260}, {'latency': 21.462239742279053, 'throughput': 4.6593459583347805, 'expert_loads_saved': 2823}, {'latency': 21.573243379592896, 'throughput': 4.63537161475657, 'expert_loads_saved': 3386}, {'latency': 21.555057764053345, 'throughput': 4.639282394629751, 'expert_loads_saved': 3949}, {'latency': 21.45755100250244, 'throughput': 4.660364082943935, 'expert_loads_saved': 4512}, {'latency': 21.570231914520264, 'throughput': 4.636018768656993, 'expert_loads_saved': 5075}, {'latency': 21.6745285987854, 'throughput': 4.613710491752232, 'expert_loads_saved': 5638}, {'latency': 21.40471839904785, 'throughput': 4.671867115264096, 'expert_loads_saved': 6201}, {'latency': 21.36746048927307, 'throughput': 4.680013333835444, 'expert_loads_saved': 6764}, {'latency': 21.164035081863403, 'throughput': 4.724996892756777, 'expert_loads_saved': 7327}, {'latency': 21.12419819831848, 'throughput': 4.733907486626411, 'expert_loads_saved': 7890}, {'latency': 21.243443727493286, 'throughput': 4.70733470913569, 'expert_loads_saved': 8453}, {'latency': 21.001991510391235, 'throughput': 4.7614532150688005, 'expert_loads_saved': 9016}, {'latency': 21.019702434539795, 'throughput': 4.7574412773645625, 'expert_loads_saved': 9579}, {'latency': 21.0608913898468, 'throughput': 4.748137111053561, 'expert_loads_saved': 10142}, {'latency': 21.079484462738037, 'throughput': 4.743949036171585, 'expert_loads_saved': 10705}, {'latency': 21.05989646911621, 'throughput': 4.748361424598995, 'expert_loads_saved': 11268}, {'latency': 21.042454719543457, 'throughput': 4.752297264402507, 'expert_loads_saved': 11831}, {'latency': 21.247253894805908, 'throughput': 4.70649056556179, 'expert_loads_saved': 12394}, {'latency': 20.906227350234985, 'throughput': 4.7832637770906095, 'expert_loads_saved': 12957}, {'latency': 21.008639574050903, 'throughput': 4.759946480471601, 'expert_loads_saved': 13520}, {'latency': 20.94673728942871, 'throughput': 4.774013184882376, 'expert_loads_saved': 14083}, {'latency': 21.04623794555664, 'throughput': 4.751443001769937, 'expert_loads_saved': 14646}, {'latency': 21.139305114746094, 'throughput': 4.7305244641292985, 'expert_loads_saved': 15209}, {'latency': 20.997039556503296, 'throughput': 4.762576158934156, 'expert_loads_saved': 15772}, {'latency': 21.359046697616577, 'throughput': 4.681856892571841, 'expert_loads_saved': 16335}, {'latency': 21.252937078475952, 'throughput': 4.705232017144381, 'expert_loads_saved': 16898}, {'latency': 21.000502824783325, 'throughput': 4.761790745409534, 'expert_loads_saved': 17461}, {'latency': 21.090545415878296, 'throughput': 4.741461068366382, 'expert_loads_saved': 18024}, {'latency': 20.994399070739746, 'throughput': 4.763175152718313, 'expert_loads_saved': 18587}, {'latency': 21.058921813964844, 'throughput': 4.748581189645084, 'expert_loads_saved': 19150}, {'latency': 21.107412099838257, 'throughput': 4.737672222771748, 'expert_loads_saved': 19713}, {'latency': 21.06798553466797, 'throughput': 4.746538288411446, 'expert_loads_saved': 20276}, {'latency': 21.256513833999634, 'throughput': 4.7044402850316285, 'expert_loads_saved': 20839}, {'latency': 20.992727994918823, 'throughput': 4.763554313865471, 'expert_loads_saved': 21402}, {'latency': 21.096739053726196, 'throughput': 4.7400690573711, 'expert_loads_saved': 21965}, {'latency': 21.030539989471436, 'throughput': 4.754989650768036, 'expert_loads_saved': 22528}, {'latency': 21.09532618522644, 'throughput': 4.740386525524899, 'expert_loads_saved': 23091}, {'latency': 21.101146936416626, 'throughput': 4.739078889945017, 'expert_loads_saved': 23654}, {'latency': 21.09419822692871, 'throughput': 4.7406400055699045, 'expert_loads_saved': 24217}, {'latency': 21.06608486175537, 'throughput': 4.746966541540235, 'expert_loads_saved': 24780}, {'latency': 21.015727758407593, 'throughput': 4.758341045790994, 'expert_loads_saved': 25343}, {'latency': 21.048491716384888, 'throughput': 4.750934240202897, 'expert_loads_saved': 25906}, {'latency': 21.02041459083557, 'throughput': 4.757280098728298, 'expert_loads_saved': 26469}, {'latency': 21.116599559783936, 'throughput': 4.735610945165984, 'expert_loads_saved': 27032}, {'latency': 21.050405502319336, 'throughput': 4.750502311652951, 'expert_loads_saved': 27595}, {'latency': 21.060004711151123, 'throughput': 4.748337019461857, 'expert_loads_saved': 28158}]\n",
      "Running with configs: 6, 4, 2, THRESHOLDING, 0.05, 50, 1\n"
     ]
    },
    {
     "data": {
      "application/vnd.jupyter.widget-view+json": {
       "model_id": "411fae2581f946bcaae7862d821b6bd5",
       "version_major": 2,
       "version_minor": 0
      },
      "text/plain": [
       "Loading experts:   0%|          | 0/32 [00:00<?, ?it/s]"
      ]
     },
     "metadata": {},
     "output_type": "display_data"
    },
    {
     "name": "stdout",
     "output_type": "stream",
     "text": [
      "Batch: ['How can one improve their time management skills?'] | Input_ids: torch.Size([1, 10])\n",
      "Total Latency :23.70490336418152 sec, Throughput:4.218536497014435, Expert Loads saved:542 \n",
      "Total Latency :23.280213832855225 sec, Throughput:4.295493190825876, Expert Loads saved:1105 \n",
      "Total Latency :23.27651619911194 sec, Throughput:4.296175559288175, Expert Loads saved:1670 \n",
      "Total Latency :23.27291512489319 sec, Throughput:4.296840316881401, Expert Loads saved:2235 \n",
      "Total Latency :23.33835196495056 sec, Throughput:4.284792694453301, Expert Loads saved:2800 \n",
      "Total Latency :23.215132474899292 sec, Throughput:4.307535186720221, Expert Loads saved:3365 \n",
      "Total Latency :23.30180287361145 sec, Throughput:4.291513431059312, Expert Loads saved:3930 \n",
      "Total Latency :23.378507137298584 sec, Throughput:4.277433088978458, Expert Loads saved:4495 \n",
      "Total Latency :23.263429164886475 sec, Throughput:4.298592408334139, Expert Loads saved:5060 \n",
      "Total Latency :23.313727617263794 sec, Throughput:4.289318363913203, Expert Loads saved:5625 \n",
      "Total Latency :23.323010206222534 sec, Throughput:4.287611209522182, Expert Loads saved:6190 \n",
      "Total Latency :23.299793004989624 sec, Throughput:4.291883622253001, Expert Loads saved:6755 \n",
      "Total Latency :23.247434854507446 sec, Throughput:4.30154985381585, Expert Loads saved:7320 \n",
      "Total Latency :23.317376852035522 sec, Throughput:4.2886470735781055, Expert Loads saved:7885 \n",
      "Total Latency :23.591964960098267 sec, Throughput:4.238731287077305, Expert Loads saved:8450 \n",
      "Total Latency :23.38622808456421 sec, Throughput:4.276020897358979, Expert Loads saved:9015 \n",
      "Total Latency :23.310044288635254 sec, Throughput:4.289996139078754, Expert Loads saved:9580 \n",
      "Total Latency :23.355303049087524 sec, Throughput:4.281682827656862, Expert Loads saved:10145 \n",
      "Total Latency :23.41497302055359 sec, Throughput:4.270771523512767, Expert Loads saved:10710 \n",
      "Total Latency :23.394068956375122 sec, Throughput:4.2745877250545155, Expert Loads saved:11275 \n",
      "Total Latency :23.33572554588318 sec, Throughput:4.285274944778467, Expert Loads saved:11840 \n",
      "Total Latency :23.320189952850342 sec, Throughput:4.288129736600939, Expert Loads saved:12405 \n",
      "Total Latency :23.598621606826782 sec, Throughput:4.237535635177576, Expert Loads saved:12970 \n",
      "Total Latency :23.366069316864014 sec, Throughput:4.27970997791344, Expert Loads saved:13535 \n",
      "Total Latency :23.430317401885986 sec, Throughput:4.267974619582006, Expert Loads saved:14100 \n",
      "Total Latency :23.48766016960144 sec, Throughput:4.257554787403793, Expert Loads saved:14665 \n",
      "Total Latency :23.50240135192871 sec, Throughput:4.2548843627757025, Expert Loads saved:15230 \n",
      "Total Latency :23.369765281677246 sec, Throughput:4.279033135108279, Expert Loads saved:15795 \n",
      "Total Latency :23.178173065185547 sec, Throughput:4.314403888467103, Expert Loads saved:16360 \n",
      "Total Latency :23.61528444290161 sec, Throughput:4.234545649525659, Expert Loads saved:16925 \n",
      "Total Latency :23.444462776184082 sec, Throughput:4.265399508389862, Expert Loads saved:17490 \n",
      "Total Latency :23.4207866191864 sec, Throughput:4.269711416015362, Expert Loads saved:18055 \n",
      "Total Latency :23.534464359283447 sec, Throughput:4.2490875710351075, Expert Loads saved:18620 \n",
      "Total Latency :23.464611053466797 sec, Throughput:4.261736952389221, Expert Loads saved:19185 \n",
      "Total Latency :23.59899353981018 sec, Throughput:4.237468849309425, Expert Loads saved:19750 \n",
      "Total Latency :23.374938488006592 sec, Throughput:4.278086124218416, Expert Loads saved:20315 \n",
      "Total Latency :23.634382247924805 sec, Throughput:4.231123917308243, Expert Loads saved:20880 \n",
      "Total Latency :23.498882055282593 sec, Throughput:4.255521593101482, Expert Loads saved:21445 \n",
      "Total Latency :23.515870094299316 sec, Throughput:4.252447372731569, Expert Loads saved:22010 \n",
      "Total Latency :23.544389486312866 sec, Throughput:4.247296370038956, Expert Loads saved:22575 \n",
      "Total Latency :23.471611738204956 sec, Throughput:4.260465839132346, Expert Loads saved:23140 \n",
      "Total Latency :23.465535640716553 sec, Throughput:4.26156903175411, Expert Loads saved:23705 \n",
      "Total Latency :23.52986717224121 sec, Throughput:4.249917743605989, Expert Loads saved:24270 \n",
      "Total Latency :23.47619128227234 sec, Throughput:4.259634742178701, Expert Loads saved:24835 \n",
      "Total Latency :23.487112760543823 sec, Throughput:4.257654017312453, Expert Loads saved:25400 \n",
      "Total Latency :23.46541476249695 sec, Throughput:4.261590984525134, Expert Loads saved:25965 \n",
      "Total Latency :23.51964235305786 sec, Throughput:4.251765332945154, Expert Loads saved:26530 \n",
      "Total Latency :23.379021883010864 sec, Throughput:4.277338910943417, Expert Loads saved:27095 \n",
      "Total Latency :23.481409549713135 sec, Throughput:4.258688124675278, Expert Loads saved:27660 \n"
     ]
    },
    {
     "name": "stderr",
     "output_type": "stream",
     "text": [
      "8it [2:19:23, 1080.98s/it]"
     ]
    },
    {
     "name": "stdout",
     "output_type": "stream",
     "text": [
      "Total Latency :23.670578241348267 sec, Throughput:4.224653871163903, Expert Loads saved:28225 \n",
      "Config: 7 Result: [{'latency': 23.70490336418152, 'throughput': 4.218536497014435, 'expert_loads_saved': 542}, {'latency': 23.280213832855225, 'throughput': 4.295493190825876, 'expert_loads_saved': 1105}, {'latency': 23.27651619911194, 'throughput': 4.296175559288175, 'expert_loads_saved': 1670}, {'latency': 23.27291512489319, 'throughput': 4.296840316881401, 'expert_loads_saved': 2235}, {'latency': 23.33835196495056, 'throughput': 4.284792694453301, 'expert_loads_saved': 2800}, {'latency': 23.215132474899292, 'throughput': 4.307535186720221, 'expert_loads_saved': 3365}, {'latency': 23.30180287361145, 'throughput': 4.291513431059312, 'expert_loads_saved': 3930}, {'latency': 23.378507137298584, 'throughput': 4.277433088978458, 'expert_loads_saved': 4495}, {'latency': 23.263429164886475, 'throughput': 4.298592408334139, 'expert_loads_saved': 5060}, {'latency': 23.313727617263794, 'throughput': 4.289318363913203, 'expert_loads_saved': 5625}, {'latency': 23.323010206222534, 'throughput': 4.287611209522182, 'expert_loads_saved': 6190}, {'latency': 23.299793004989624, 'throughput': 4.291883622253001, 'expert_loads_saved': 6755}, {'latency': 23.247434854507446, 'throughput': 4.30154985381585, 'expert_loads_saved': 7320}, {'latency': 23.317376852035522, 'throughput': 4.2886470735781055, 'expert_loads_saved': 7885}, {'latency': 23.591964960098267, 'throughput': 4.238731287077305, 'expert_loads_saved': 8450}, {'latency': 23.38622808456421, 'throughput': 4.276020897358979, 'expert_loads_saved': 9015}, {'latency': 23.310044288635254, 'throughput': 4.289996139078754, 'expert_loads_saved': 9580}, {'latency': 23.355303049087524, 'throughput': 4.281682827656862, 'expert_loads_saved': 10145}, {'latency': 23.41497302055359, 'throughput': 4.270771523512767, 'expert_loads_saved': 10710}, {'latency': 23.394068956375122, 'throughput': 4.2745877250545155, 'expert_loads_saved': 11275}, {'latency': 23.33572554588318, 'throughput': 4.285274944778467, 'expert_loads_saved': 11840}, {'latency': 23.320189952850342, 'throughput': 4.288129736600939, 'expert_loads_saved': 12405}, {'latency': 23.598621606826782, 'throughput': 4.237535635177576, 'expert_loads_saved': 12970}, {'latency': 23.366069316864014, 'throughput': 4.27970997791344, 'expert_loads_saved': 13535}, {'latency': 23.430317401885986, 'throughput': 4.267974619582006, 'expert_loads_saved': 14100}, {'latency': 23.48766016960144, 'throughput': 4.257554787403793, 'expert_loads_saved': 14665}, {'latency': 23.50240135192871, 'throughput': 4.2548843627757025, 'expert_loads_saved': 15230}, {'latency': 23.369765281677246, 'throughput': 4.279033135108279, 'expert_loads_saved': 15795}, {'latency': 23.178173065185547, 'throughput': 4.314403888467103, 'expert_loads_saved': 16360}, {'latency': 23.61528444290161, 'throughput': 4.234545649525659, 'expert_loads_saved': 16925}, {'latency': 23.444462776184082, 'throughput': 4.265399508389862, 'expert_loads_saved': 17490}, {'latency': 23.4207866191864, 'throughput': 4.269711416015362, 'expert_loads_saved': 18055}, {'latency': 23.534464359283447, 'throughput': 4.2490875710351075, 'expert_loads_saved': 18620}, {'latency': 23.464611053466797, 'throughput': 4.261736952389221, 'expert_loads_saved': 19185}, {'latency': 23.59899353981018, 'throughput': 4.237468849309425, 'expert_loads_saved': 19750}, {'latency': 23.374938488006592, 'throughput': 4.278086124218416, 'expert_loads_saved': 20315}, {'latency': 23.634382247924805, 'throughput': 4.231123917308243, 'expert_loads_saved': 20880}, {'latency': 23.498882055282593, 'throughput': 4.255521593101482, 'expert_loads_saved': 21445}, {'latency': 23.515870094299316, 'throughput': 4.252447372731569, 'expert_loads_saved': 22010}, {'latency': 23.544389486312866, 'throughput': 4.247296370038956, 'expert_loads_saved': 22575}, {'latency': 23.471611738204956, 'throughput': 4.260465839132346, 'expert_loads_saved': 23140}, {'latency': 23.465535640716553, 'throughput': 4.26156903175411, 'expert_loads_saved': 23705}, {'latency': 23.52986717224121, 'throughput': 4.249917743605989, 'expert_loads_saved': 24270}, {'latency': 23.47619128227234, 'throughput': 4.259634742178701, 'expert_loads_saved': 24835}, {'latency': 23.487112760543823, 'throughput': 4.257654017312453, 'expert_loads_saved': 25400}, {'latency': 23.46541476249695, 'throughput': 4.261590984525134, 'expert_loads_saved': 25965}, {'latency': 23.51964235305786, 'throughput': 4.251765332945154, 'expert_loads_saved': 26530}, {'latency': 23.379021883010864, 'throughput': 4.277338910943417, 'expert_loads_saved': 27095}, {'latency': 23.481409549713135, 'throughput': 4.258688124675278, 'expert_loads_saved': 27660}, {'latency': 23.670578241348267, 'throughput': 4.224653871163903, 'expert_loads_saved': 28225}]\n",
      "Running with configs: 3, 4, 2, THRESHOLDING, 0.15, 50, 1\n"
     ]
    },
    {
     "data": {
      "application/vnd.jupyter.widget-view+json": {
       "model_id": "6cc1a1713dd2489ca3e67b0bc862e8ce",
       "version_major": 2,
       "version_minor": 0
      },
      "text/plain": [
       "Loading experts:   0%|          | 0/32 [00:00<?, ?it/s]"
      ]
     },
     "metadata": {},
     "output_type": "display_data"
    },
    {
     "name": "stdout",
     "output_type": "stream",
     "text": [
      "Batch: ['What are the health benefits of daily exercise?'] | Input_ids: torch.Size([1, 10])\n",
      "Total Latency :16.306580305099487 sec, Throughput:6.132493639314886, Expert Loads saved:791 \n",
      "Total Latency :16.371798753738403 sec, Throughput:6.10806433087663, Expert Loads saved:1664 \n",
      "Total Latency :16.290611505508423 sec, Throughput:6.138504988973957, Expert Loads saved:2464 \n",
      "Total Latency :16.368008136749268 sec, Throughput:6.10947887883078, Expert Loads saved:3319 \n",
      "Total Latency :16.245721101760864 sec, Throughput:6.155466991807526, Expert Loads saved:4151 \n",
      "Total Latency :16.206371068954468 sec, Throughput:6.17041283175132, Expert Loads saved:4956 \n",
      "Total Latency :16.13752245903015 sec, Throughput:6.1967380837969035, Expert Loads saved:5794 \n",
      "Total Latency :16.466004610061646 sec, Throughput:6.073118668926792, Expert Loads saved:6613 \n",
      "Total Latency :16.3336443901062 sec, Throughput:6.122332384104868, Expert Loads saved:7483 \n",
      "Total Latency :16.222235202789307 sec, Throughput:6.164378629081007, Expert Loads saved:8334 \n",
      "Total Latency :16.39729595184326 sec, Throughput:6.0985665132645694, Expert Loads saved:9189 \n",
      "Total Latency :16.227142810821533 sec, Throughput:6.162514323428037, Expert Loads saved:10040 \n",
      "Total Latency :16.378798484802246 sec, Throughput:6.105453955782482, Expert Loads saved:10895 \n",
      "Total Latency :16.173683881759644 sec, Throughput:6.182883301730535, Expert Loads saved:11746 \n",
      "Total Latency :16.38240694999695 sec, Throughput:6.1041091400808245, Expert Loads saved:12601 \n",
      "Total Latency :16.041682958602905 sec, Throughput:6.2337599027520705, Expert Loads saved:13452 \n",
      "Total Latency :16.725339651107788 sec, Throughput:5.978951823162323, Expert Loads saved:14307 \n",
      "Total Latency :16.196082830429077 sec, Throughput:6.174332463410273, Expert Loads saved:15158 \n",
      "Total Latency :16.34693169593811 sec, Throughput:6.117355957683975, Expert Loads saved:16013 \n",
      "Total Latency :16.214863300323486 sec, Throughput:6.167181193442747, Expert Loads saved:16864 \n",
      "Total Latency :16.35950493812561 sec, Throughput:6.112654409666843, Expert Loads saved:17719 \n",
      "Total Latency :16.214868545532227 sec, Throughput:6.167179198474203, Expert Loads saved:18570 \n",
      "Total Latency :16.34545922279358 sec, Throughput:6.117907036869971, Expert Loads saved:19425 \n",
      "Total Latency :16.139955282211304 sec, Throughput:6.195804031143462, Expert Loads saved:20276 \n",
      "Total Latency :16.389296054840088 sec, Throughput:6.101543328364491, Expert Loads saved:21131 \n",
      "Total Latency :16.066749334335327 sec, Throughput:6.2240343655761, Expert Loads saved:21982 \n",
      "Total Latency :16.474302768707275 sec, Throughput:6.070059619758155, Expert Loads saved:22837 \n",
      "Total Latency :16.313629388809204 sec, Throughput:6.1298438021767145, Expert Loads saved:23688 \n",
      "Total Latency :16.45814085006714 sec, Throughput:6.076020427276394, Expert Loads saved:24543 \n",
      "Total Latency :16.299013137817383 sec, Throughput:6.13534078133709, Expert Loads saved:25394 \n",
      "Total Latency :16.393020153045654 sec, Throughput:6.100157205102992, Expert Loads saved:26249 \n",
      "Total Latency :16.25644874572754 sec, Throughput:6.151404994050846, Expert Loads saved:27100 \n",
      "Total Latency :16.403568983078003 sec, Throughput:6.09623430749494, Expert Loads saved:27955 \n",
      "Total Latency :16.127781867980957 sec, Throughput:6.2004806872130045, Expert Loads saved:28806 \n",
      "Total Latency :16.430986404418945 sec, Throughput:6.086061879590262, Expert Loads saved:29661 \n",
      "Total Latency :16.051405429840088 sec, Throughput:6.22998406196237, Expert Loads saved:30512 \n",
      "Total Latency :16.7560715675354 sec, Throughput:5.9679859683667305, Expert Loads saved:31367 \n",
      "Total Latency :16.280494689941406 sec, Throughput:6.142319499774358, Expert Loads saved:32218 \n",
      "Total Latency :16.393742561340332 sec, Throughput:6.099888394967215, Expert Loads saved:33073 \n",
      "Total Latency :16.27250576019287 sec, Throughput:6.145335050034405, Expert Loads saved:33924 \n",
      "Total Latency :16.452255249023438 sec, Throughput:6.078194052206657, Expert Loads saved:34779 \n",
      "Total Latency :16.269210815429688 sec, Throughput:6.146579642643772, Expert Loads saved:35630 \n",
      "Total Latency :16.380260229110718 sec, Throughput:6.104909116296072, Expert Loads saved:36485 \n",
      "Total Latency :16.181800842285156 sec, Throughput:6.179781902808181, Expert Loads saved:37336 \n",
      "Total Latency :16.4469153881073 sec, Throughput:6.080167474583691, Expert Loads saved:38191 \n",
      "Total Latency :16.064054012298584 sec, Throughput:6.225078670890944, Expert Loads saved:39042 \n",
      "Total Latency :16.51524043083191 sec, Throughput:6.05501327206308, Expert Loads saved:39897 \n",
      "Total Latency :16.27537250518799 sec, Throughput:6.144252610385641, Expert Loads saved:40748 \n",
      "Total Latency :16.347684860229492 sec, Throughput:6.117074121197378, Expert Loads saved:41603 \n"
     ]
    },
    {
     "name": "stderr",
     "output_type": "stream",
     "text": [
      "9it [2:33:21, 1004.86s/it]"
     ]
    },
    {
     "name": "stdout",
     "output_type": "stream",
     "text": [
      "Total Latency :16.27250075340271 sec, Throughput:6.145336940856445, Expert Loads saved:42454 \n",
      "Config: 8 Result: [{'latency': 16.306580305099487, 'throughput': 6.132493639314886, 'expert_loads_saved': 791}, {'latency': 16.371798753738403, 'throughput': 6.10806433087663, 'expert_loads_saved': 1664}, {'latency': 16.290611505508423, 'throughput': 6.138504988973957, 'expert_loads_saved': 2464}, {'latency': 16.368008136749268, 'throughput': 6.10947887883078, 'expert_loads_saved': 3319}, {'latency': 16.245721101760864, 'throughput': 6.155466991807526, 'expert_loads_saved': 4151}, {'latency': 16.206371068954468, 'throughput': 6.17041283175132, 'expert_loads_saved': 4956}, {'latency': 16.13752245903015, 'throughput': 6.1967380837969035, 'expert_loads_saved': 5794}, {'latency': 16.466004610061646, 'throughput': 6.073118668926792, 'expert_loads_saved': 6613}, {'latency': 16.3336443901062, 'throughput': 6.122332384104868, 'expert_loads_saved': 7483}, {'latency': 16.222235202789307, 'throughput': 6.164378629081007, 'expert_loads_saved': 8334}, {'latency': 16.39729595184326, 'throughput': 6.0985665132645694, 'expert_loads_saved': 9189}, {'latency': 16.227142810821533, 'throughput': 6.162514323428037, 'expert_loads_saved': 10040}, {'latency': 16.378798484802246, 'throughput': 6.105453955782482, 'expert_loads_saved': 10895}, {'latency': 16.173683881759644, 'throughput': 6.182883301730535, 'expert_loads_saved': 11746}, {'latency': 16.38240694999695, 'throughput': 6.1041091400808245, 'expert_loads_saved': 12601}, {'latency': 16.041682958602905, 'throughput': 6.2337599027520705, 'expert_loads_saved': 13452}, {'latency': 16.725339651107788, 'throughput': 5.978951823162323, 'expert_loads_saved': 14307}, {'latency': 16.196082830429077, 'throughput': 6.174332463410273, 'expert_loads_saved': 15158}, {'latency': 16.34693169593811, 'throughput': 6.117355957683975, 'expert_loads_saved': 16013}, {'latency': 16.214863300323486, 'throughput': 6.167181193442747, 'expert_loads_saved': 16864}, {'latency': 16.35950493812561, 'throughput': 6.112654409666843, 'expert_loads_saved': 17719}, {'latency': 16.214868545532227, 'throughput': 6.167179198474203, 'expert_loads_saved': 18570}, {'latency': 16.34545922279358, 'throughput': 6.117907036869971, 'expert_loads_saved': 19425}, {'latency': 16.139955282211304, 'throughput': 6.195804031143462, 'expert_loads_saved': 20276}, {'latency': 16.389296054840088, 'throughput': 6.101543328364491, 'expert_loads_saved': 21131}, {'latency': 16.066749334335327, 'throughput': 6.2240343655761, 'expert_loads_saved': 21982}, {'latency': 16.474302768707275, 'throughput': 6.070059619758155, 'expert_loads_saved': 22837}, {'latency': 16.313629388809204, 'throughput': 6.1298438021767145, 'expert_loads_saved': 23688}, {'latency': 16.45814085006714, 'throughput': 6.076020427276394, 'expert_loads_saved': 24543}, {'latency': 16.299013137817383, 'throughput': 6.13534078133709, 'expert_loads_saved': 25394}, {'latency': 16.393020153045654, 'throughput': 6.100157205102992, 'expert_loads_saved': 26249}, {'latency': 16.25644874572754, 'throughput': 6.151404994050846, 'expert_loads_saved': 27100}, {'latency': 16.403568983078003, 'throughput': 6.09623430749494, 'expert_loads_saved': 27955}, {'latency': 16.127781867980957, 'throughput': 6.2004806872130045, 'expert_loads_saved': 28806}, {'latency': 16.430986404418945, 'throughput': 6.086061879590262, 'expert_loads_saved': 29661}, {'latency': 16.051405429840088, 'throughput': 6.22998406196237, 'expert_loads_saved': 30512}, {'latency': 16.7560715675354, 'throughput': 5.9679859683667305, 'expert_loads_saved': 31367}, {'latency': 16.280494689941406, 'throughput': 6.142319499774358, 'expert_loads_saved': 32218}, {'latency': 16.393742561340332, 'throughput': 6.099888394967215, 'expert_loads_saved': 33073}, {'latency': 16.27250576019287, 'throughput': 6.145335050034405, 'expert_loads_saved': 33924}, {'latency': 16.452255249023438, 'throughput': 6.078194052206657, 'expert_loads_saved': 34779}, {'latency': 16.269210815429688, 'throughput': 6.146579642643772, 'expert_loads_saved': 35630}, {'latency': 16.380260229110718, 'throughput': 6.104909116296072, 'expert_loads_saved': 36485}, {'latency': 16.181800842285156, 'throughput': 6.179781902808181, 'expert_loads_saved': 37336}, {'latency': 16.4469153881073, 'throughput': 6.080167474583691, 'expert_loads_saved': 38191}, {'latency': 16.064054012298584, 'throughput': 6.225078670890944, 'expert_loads_saved': 39042}, {'latency': 16.51524043083191, 'throughput': 6.05501327206308, 'expert_loads_saved': 39897}, {'latency': 16.27537250518799, 'throughput': 6.144252610385641, 'expert_loads_saved': 40748}, {'latency': 16.347684860229492, 'throughput': 6.117074121197378, 'expert_loads_saved': 41603}, {'latency': 16.27250075340271, 'throughput': 6.145336940856445, 'expert_loads_saved': 42454}]\n",
      "Running with configs: 4, 4, 2, THRESHOLDING, 0.15, 50, 1\n"
     ]
    },
    {
     "data": {
      "application/vnd.jupyter.widget-view+json": {
       "model_id": "6f4f421d62d047cea3655fc0f79f1416",
       "version_major": 2,
       "version_minor": 0
      },
      "text/plain": [
       "Loading experts:   0%|          | 0/32 [00:00<?, ?it/s]"
      ]
     },
     "metadata": {},
     "output_type": "display_data"
    },
    {
     "name": "stdout",
     "output_type": "stream",
     "text": [
      "Batch: ['What are the top tourist attractions in Paris?'] | Input_ids: torch.Size([1, 11])\n",
      "Total Latency :16.98691177368164 sec, Throughput:5.886885228598947, Expert Loads saved:1024 \n",
      "Total Latency :16.70069909095764 sec, Throughput:5.9877732935229995, Expert Loads saved:2082 \n",
      "Total Latency :16.77380061149597 sec, Throughput:5.961678114348439, Expert Loads saved:3098 \n",
      "Total Latency :16.69525456428528 sec, Throughput:5.989725979615872, Expert Loads saved:4142 \n",
      "Total Latency :16.596738576889038 sec, Throughput:6.025280180001752, Expert Loads saved:5186 \n",
      "Total Latency :16.832696437835693 sec, Throughput:5.940818832520796, Expert Loads saved:6235 \n",
      "Total Latency :16.69973850250244 sec, Throughput:5.988117717233422, Expert Loads saved:7284 \n",
      "Total Latency :16.736199855804443 sec, Throughput:5.975072051097551, Expert Loads saved:8333 \n",
      "Total Latency :16.720372915267944 sec, Throughput:5.98072785258794, Expert Loads saved:9382 \n",
      "Total Latency :16.69246554374695 sec, Throughput:5.990726758603993, Expert Loads saved:10431 \n",
      "Total Latency :16.762669801712036 sec, Throughput:5.965636809822897, Expert Loads saved:11480 \n",
      "Total Latency :16.76856255531311 sec, Throughput:5.963540385178398, Expert Loads saved:12529 \n",
      "Total Latency :16.64077067375183 sec, Throughput:6.009337065003491, Expert Loads saved:13578 \n",
      "Total Latency :16.732542991638184 sec, Throughput:5.976377891272915, Expert Loads saved:14627 \n",
      "Total Latency :16.832409143447876 sec, Throughput:5.940920230003181, Expert Loads saved:15676 \n",
      "Total Latency :16.733083963394165 sec, Throughput:5.976184678136034, Expert Loads saved:16725 \n",
      "Total Latency :16.764119148254395 sec, Throughput:5.965121049047945, Expert Loads saved:17774 \n",
      "Total Latency :16.76200580596924 sec, Throughput:5.965873127450432, Expert Loads saved:18823 \n",
      "Total Latency :16.786728143692017 sec, Throughput:5.95708700015954, Expert Loads saved:19872 \n",
      "Total Latency :16.815293312072754 sec, Throughput:5.946967331708911, Expert Loads saved:20921 \n",
      "Total Latency :16.660043478012085 sec, Throughput:6.002385295811499, Expert Loads saved:21970 \n",
      "Total Latency :16.973223447799683 sec, Throughput:5.891632800778538, Expert Loads saved:23019 \n",
      "Total Latency :16.79014301300049 sec, Throughput:5.955875415865768, Expert Loads saved:24068 \n",
      "Total Latency :16.874891996383667 sec, Throughput:5.925963853364529, Expert Loads saved:25117 \n",
      "Total Latency :16.789829969406128 sec, Throughput:5.955986462174822, Expert Loads saved:26166 \n",
      "Total Latency :16.765103578567505 sec, Throughput:5.964770783035299, Expert Loads saved:27215 \n",
      "Total Latency :16.926969289779663 sec, Throughput:5.9077321101054405, Expert Loads saved:28264 \n",
      "Total Latency :16.987439155578613 sec, Throughput:5.8867024678737625, Expert Loads saved:29313 \n",
      "Total Latency :17.071479558944702 sec, Throughput:5.857723090416285, Expert Loads saved:30362 \n",
      "Total Latency :17.05809760093689 sec, Throughput:5.862318433123964, Expert Loads saved:31411 \n",
      "Total Latency :17.001025915145874 sec, Throughput:5.881997974658224, Expert Loads saved:32460 \n",
      "Total Latency :17.014214038848877 sec, Throughput:5.877438697530671, Expert Loads saved:33509 \n",
      "Total Latency :17.074886083602905 sec, Throughput:5.856554445539199, Expert Loads saved:34558 \n",
      "Total Latency :17.009671211242676 sec, Throughput:5.879008403989856, Expert Loads saved:35607 \n",
      "Total Latency :16.969363927841187 sec, Throughput:5.892972796460134, Expert Loads saved:36656 \n",
      "Total Latency :17.049433708190918 sec, Throughput:5.865297446915075, Expert Loads saved:37705 \n",
      "Total Latency :17.08350968360901 sec, Throughput:5.853598110225926, Expert Loads saved:38754 \n",
      "Total Latency :16.965433597564697 sec, Throughput:5.894338003501101, Expert Loads saved:39803 \n",
      "Total Latency :17.0234215259552 sec, Throughput:5.874259757213461, Expert Loads saved:40852 \n",
      "Total Latency :17.058765172958374 sec, Throughput:5.862089019111443, Expert Loads saved:41901 \n",
      "Total Latency :17.02334451675415 sec, Throughput:5.874286330842998, Expert Loads saved:42950 \n",
      "Total Latency :17.145075798034668 sec, Throughput:5.832578471975198, Expert Loads saved:43999 \n",
      "Total Latency :17.06239104270935 sec, Throughput:5.86084328683402, Expert Loads saved:45048 \n",
      "Total Latency :17.08563470840454 sec, Throughput:5.852870069310876, Expert Loads saved:46097 \n",
      "Total Latency :16.94086503982544 sec, Throughput:5.902886290925225, Expert Loads saved:47146 \n",
      "Total Latency :17.046199321746826 sec, Throughput:5.866410342417162, Expert Loads saved:48195 \n",
      "Total Latency :17.080402612686157 sec, Throughput:5.854662929650547, Expert Loads saved:49244 \n",
      "Total Latency :17.036750316619873 sec, Throughput:5.8696639993864865, Expert Loads saved:50293 \n",
      "Total Latency :16.94204068183899 sec, Throughput:5.902476677865314, Expert Loads saved:51342 \n"
     ]
    },
    {
     "name": "stderr",
     "output_type": "stream",
     "text": [
      "10it [2:47:46, 961.63s/it]"
     ]
    },
    {
     "name": "stdout",
     "output_type": "stream",
     "text": [
      "Total Latency :16.88895845413208 sec, Throughput:5.9210282428952175, Expert Loads saved:52391 \n",
      "Config: 9 Result: [{'latency': 16.98691177368164, 'throughput': 5.886885228598947, 'expert_loads_saved': 1024}, {'latency': 16.70069909095764, 'throughput': 5.9877732935229995, 'expert_loads_saved': 2082}, {'latency': 16.77380061149597, 'throughput': 5.961678114348439, 'expert_loads_saved': 3098}, {'latency': 16.69525456428528, 'throughput': 5.989725979615872, 'expert_loads_saved': 4142}, {'latency': 16.596738576889038, 'throughput': 6.025280180001752, 'expert_loads_saved': 5186}, {'latency': 16.832696437835693, 'throughput': 5.940818832520796, 'expert_loads_saved': 6235}, {'latency': 16.69973850250244, 'throughput': 5.988117717233422, 'expert_loads_saved': 7284}, {'latency': 16.736199855804443, 'throughput': 5.975072051097551, 'expert_loads_saved': 8333}, {'latency': 16.720372915267944, 'throughput': 5.98072785258794, 'expert_loads_saved': 9382}, {'latency': 16.69246554374695, 'throughput': 5.990726758603993, 'expert_loads_saved': 10431}, {'latency': 16.762669801712036, 'throughput': 5.965636809822897, 'expert_loads_saved': 11480}, {'latency': 16.76856255531311, 'throughput': 5.963540385178398, 'expert_loads_saved': 12529}, {'latency': 16.64077067375183, 'throughput': 6.009337065003491, 'expert_loads_saved': 13578}, {'latency': 16.732542991638184, 'throughput': 5.976377891272915, 'expert_loads_saved': 14627}, {'latency': 16.832409143447876, 'throughput': 5.940920230003181, 'expert_loads_saved': 15676}, {'latency': 16.733083963394165, 'throughput': 5.976184678136034, 'expert_loads_saved': 16725}, {'latency': 16.764119148254395, 'throughput': 5.965121049047945, 'expert_loads_saved': 17774}, {'latency': 16.76200580596924, 'throughput': 5.965873127450432, 'expert_loads_saved': 18823}, {'latency': 16.786728143692017, 'throughput': 5.95708700015954, 'expert_loads_saved': 19872}, {'latency': 16.815293312072754, 'throughput': 5.946967331708911, 'expert_loads_saved': 20921}, {'latency': 16.660043478012085, 'throughput': 6.002385295811499, 'expert_loads_saved': 21970}, {'latency': 16.973223447799683, 'throughput': 5.891632800778538, 'expert_loads_saved': 23019}, {'latency': 16.79014301300049, 'throughput': 5.955875415865768, 'expert_loads_saved': 24068}, {'latency': 16.874891996383667, 'throughput': 5.925963853364529, 'expert_loads_saved': 25117}, {'latency': 16.789829969406128, 'throughput': 5.955986462174822, 'expert_loads_saved': 26166}, {'latency': 16.765103578567505, 'throughput': 5.964770783035299, 'expert_loads_saved': 27215}, {'latency': 16.926969289779663, 'throughput': 5.9077321101054405, 'expert_loads_saved': 28264}, {'latency': 16.987439155578613, 'throughput': 5.8867024678737625, 'expert_loads_saved': 29313}, {'latency': 17.071479558944702, 'throughput': 5.857723090416285, 'expert_loads_saved': 30362}, {'latency': 17.05809760093689, 'throughput': 5.862318433123964, 'expert_loads_saved': 31411}, {'latency': 17.001025915145874, 'throughput': 5.881997974658224, 'expert_loads_saved': 32460}, {'latency': 17.014214038848877, 'throughput': 5.877438697530671, 'expert_loads_saved': 33509}, {'latency': 17.074886083602905, 'throughput': 5.856554445539199, 'expert_loads_saved': 34558}, {'latency': 17.009671211242676, 'throughput': 5.879008403989856, 'expert_loads_saved': 35607}, {'latency': 16.969363927841187, 'throughput': 5.892972796460134, 'expert_loads_saved': 36656}, {'latency': 17.049433708190918, 'throughput': 5.865297446915075, 'expert_loads_saved': 37705}, {'latency': 17.08350968360901, 'throughput': 5.853598110225926, 'expert_loads_saved': 38754}, {'latency': 16.965433597564697, 'throughput': 5.894338003501101, 'expert_loads_saved': 39803}, {'latency': 17.0234215259552, 'throughput': 5.874259757213461, 'expert_loads_saved': 40852}, {'latency': 17.058765172958374, 'throughput': 5.862089019111443, 'expert_loads_saved': 41901}, {'latency': 17.02334451675415, 'throughput': 5.874286330842998, 'expert_loads_saved': 42950}, {'latency': 17.145075798034668, 'throughput': 5.832578471975198, 'expert_loads_saved': 43999}, {'latency': 17.06239104270935, 'throughput': 5.86084328683402, 'expert_loads_saved': 45048}, {'latency': 17.08563470840454, 'throughput': 5.852870069310876, 'expert_loads_saved': 46097}, {'latency': 16.94086503982544, 'throughput': 5.902886290925225, 'expert_loads_saved': 47146}, {'latency': 17.046199321746826, 'throughput': 5.866410342417162, 'expert_loads_saved': 48195}, {'latency': 17.080402612686157, 'throughput': 5.854662929650547, 'expert_loads_saved': 49244}, {'latency': 17.036750316619873, 'throughput': 5.8696639993864865, 'expert_loads_saved': 50293}, {'latency': 16.94204068183899, 'throughput': 5.902476677865314, 'expert_loads_saved': 51342}, {'latency': 16.88895845413208, 'throughput': 5.9210282428952175, 'expert_loads_saved': 52391}]\n",
      "Running with configs: 5, 4, 2, THRESHOLDING, 0.15, 50, 1\n"
     ]
    },
    {
     "data": {
      "application/vnd.jupyter.widget-view+json": {
       "model_id": "94ad4c0ba7c64b67be9e70fc70708cba",
       "version_major": 2,
       "version_minor": 0
      },
      "text/plain": [
       "Loading experts:   0%|          | 0/32 [00:00<?, ?it/s]"
      ]
     },
     "metadata": {},
     "output_type": "display_data"
    },
    {
     "name": "stdout",
     "output_type": "stream",
     "text": [
      "Batch: ['How can one improve their time management skills?'] | Input_ids: torch.Size([1, 10])\n",
      "Total Latency :19.24893546104431 sec, Throughput:5.1950924871860265, Expert Loads saved:1407 \n",
      "Total Latency :19.285730361938477 sec, Throughput:5.185180862911777, Expert Loads saved:2795 \n",
      "Total Latency :19.11365008354187 sec, Throughput:5.231863069739185, Expert Loads saved:4193 \n",
      "Total Latency :19.3957736492157 sec, Throughput:5.155762374245055, Expert Loads saved:5587 \n",
      "Total Latency :18.97361660003662 sec, Throughput:5.27047647836454, Expert Loads saved:7009 \n",
      "Total Latency :19.146771669387817 sec, Throughput:5.222812583067552, Expert Loads saved:8397 \n",
      "Total Latency :19.31075620651245 sec, Throughput:5.178461108958309, Expert Loads saved:9793 \n",
      "Total Latency :18.82799530029297 sec, Throughput:5.311239906589735, Expert Loads saved:11203 \n",
      "Total Latency :19.246833562850952 sec, Throughput:5.195659830145454, Expert Loads saved:12619 \n",
      "Total Latency :19.323692560195923 sec, Throughput:5.1749943593071785, Expert Loads saved:14007 \n",
      "Total Latency :19.271220445632935 sec, Throughput:5.1890849509046575, Expert Loads saved:15403 \n",
      "Total Latency :18.980830192565918 sec, Throughput:5.268473453767384, Expert Loads saved:16813 \n",
      "Total Latency :19.008792638778687 sec, Throughput:5.260723387344236, Expert Loads saved:18229 \n",
      "Total Latency :18.958921194076538 sec, Throughput:5.274561720908659, Expert Loads saved:19617 \n",
      "Total Latency :19.21116280555725 sec, Throughput:5.205306988032645, Expert Loads saved:21013 \n",
      "Total Latency :18.985278367996216 sec, Throughput:5.267239071330741, Expert Loads saved:22423 \n",
      "Total Latency :19.06007671356201 sec, Throughput:5.246568600054268, Expert Loads saved:23839 \n",
      "Total Latency :19.228963613510132 sec, Throughput:5.20048828475294, Expert Loads saved:25227 \n",
      "Total Latency :19.297988891601562 sec, Throughput:5.181887115891115, Expert Loads saved:26623 \n",
      "Total Latency :19.018783569335938 sec, Throughput:5.257959828788967, Expert Loads saved:28033 \n",
      "Total Latency :19.0972580909729 sec, Throughput:5.2363538013485345, Expert Loads saved:29449 \n",
      "Total Latency :18.939131498336792 sec, Throughput:5.28007316538152, Expert Loads saved:30837 \n",
      "Total Latency :19.224143981933594 sec, Throughput:5.201792084681518, Expert Loads saved:32233 \n",
      "Total Latency :19.00157141685486 sec, Throughput:5.262722635207821, Expert Loads saved:33643 \n",
      "Total Latency :19.048973083496094 sec, Throughput:5.249626820389564, Expert Loads saved:35059 \n",
      "Total Latency :19.15350341796875 sec, Throughput:5.2209769574680305, Expert Loads saved:36447 \n",
      "Total Latency :19.54737663269043 sec, Throughput:5.115775987697658, Expert Loads saved:37843 \n",
      "Total Latency :19.09282946586609 sec, Throughput:5.237568385491459, Expert Loads saved:39253 \n",
      "Total Latency :19.11894154548645 sec, Throughput:5.230415070943493, Expert Loads saved:40669 \n",
      "Total Latency :19.063388109207153 sec, Throughput:5.245657247659057, Expert Loads saved:42057 \n",
      "Total Latency :19.08591866493225 sec, Throughput:5.239464851316601, Expert Loads saved:43453 \n",
      "Total Latency :19.105005025863647 sec, Throughput:5.2342304995274125, Expert Loads saved:44863 \n",
      "Total Latency :18.991369485855103 sec, Throughput:5.265549705326973, Expert Loads saved:46279 \n",
      "Total Latency :19.144617319107056 sec, Throughput:5.223400307939099, Expert Loads saved:47667 \n",
      "Total Latency :19.09883689880371 sec, Throughput:5.235920937481993, Expert Loads saved:49063 \n",
      "Total Latency :18.95880675315857 sec, Throughput:5.274593559710177, Expert Loads saved:50473 \n",
      "Total Latency :19.04492735862732 sec, Throughput:5.250742001633321, Expert Loads saved:51889 \n",
      "Total Latency :19.187565088272095 sec, Throughput:5.2117087050885065, Expert Loads saved:53277 \n",
      "Total Latency :19.0415301322937 sec, Throughput:5.251678793943342, Expert Loads saved:54673 \n",
      "Total Latency :19.070966482162476 sec, Throughput:5.243572741503812, Expert Loads saved:56083 \n",
      "Total Latency :18.90196919441223 sec, Throughput:5.290454077639796, Expert Loads saved:57499 \n",
      "Total Latency :19.25175952911377 sec, Throughput:5.1943304116578775, Expert Loads saved:58887 \n",
      "Total Latency :19.1207275390625 sec, Throughput:5.229926518000217, Expert Loads saved:60283 \n",
      "Total Latency :19.047679662704468 sec, Throughput:5.2499832930202475, Expert Loads saved:61693 \n",
      "Total Latency :19.079890966415405 sec, Throughput:5.241120097385299, Expert Loads saved:63109 \n",
      "Total Latency :19.208958864212036 sec, Throughput:5.205904219322824, Expert Loads saved:64497 \n",
      "Total Latency :19.387266635894775 sec, Throughput:5.158024691054378, Expert Loads saved:65893 \n",
      "Total Latency :18.829533576965332 sec, Throughput:5.310806005430355, Expert Loads saved:67303 \n",
      "Total Latency :19.102569103240967 sec, Throughput:5.234897958465381, Expert Loads saved:68719 \n"
     ]
    },
    {
     "name": "stderr",
     "output_type": "stream",
     "text": [
      "11it [3:04:02, 966.01s/it]"
     ]
    },
    {
     "name": "stdout",
     "output_type": "stream",
     "text": [
      "Total Latency :19.280458688735962 sec, Throughput:5.186598597803176, Expert Loads saved:70107 \n",
      "Config: 10 Result: [{'latency': 19.24893546104431, 'throughput': 5.1950924871860265, 'expert_loads_saved': 1407}, {'latency': 19.285730361938477, 'throughput': 5.185180862911777, 'expert_loads_saved': 2795}, {'latency': 19.11365008354187, 'throughput': 5.231863069739185, 'expert_loads_saved': 4193}, {'latency': 19.3957736492157, 'throughput': 5.155762374245055, 'expert_loads_saved': 5587}, {'latency': 18.97361660003662, 'throughput': 5.27047647836454, 'expert_loads_saved': 7009}, {'latency': 19.146771669387817, 'throughput': 5.222812583067552, 'expert_loads_saved': 8397}, {'latency': 19.31075620651245, 'throughput': 5.178461108958309, 'expert_loads_saved': 9793}, {'latency': 18.82799530029297, 'throughput': 5.311239906589735, 'expert_loads_saved': 11203}, {'latency': 19.246833562850952, 'throughput': 5.195659830145454, 'expert_loads_saved': 12619}, {'latency': 19.323692560195923, 'throughput': 5.1749943593071785, 'expert_loads_saved': 14007}, {'latency': 19.271220445632935, 'throughput': 5.1890849509046575, 'expert_loads_saved': 15403}, {'latency': 18.980830192565918, 'throughput': 5.268473453767384, 'expert_loads_saved': 16813}, {'latency': 19.008792638778687, 'throughput': 5.260723387344236, 'expert_loads_saved': 18229}, {'latency': 18.958921194076538, 'throughput': 5.274561720908659, 'expert_loads_saved': 19617}, {'latency': 19.21116280555725, 'throughput': 5.205306988032645, 'expert_loads_saved': 21013}, {'latency': 18.985278367996216, 'throughput': 5.267239071330741, 'expert_loads_saved': 22423}, {'latency': 19.06007671356201, 'throughput': 5.246568600054268, 'expert_loads_saved': 23839}, {'latency': 19.228963613510132, 'throughput': 5.20048828475294, 'expert_loads_saved': 25227}, {'latency': 19.297988891601562, 'throughput': 5.181887115891115, 'expert_loads_saved': 26623}, {'latency': 19.018783569335938, 'throughput': 5.257959828788967, 'expert_loads_saved': 28033}, {'latency': 19.0972580909729, 'throughput': 5.2363538013485345, 'expert_loads_saved': 29449}, {'latency': 18.939131498336792, 'throughput': 5.28007316538152, 'expert_loads_saved': 30837}, {'latency': 19.224143981933594, 'throughput': 5.201792084681518, 'expert_loads_saved': 32233}, {'latency': 19.00157141685486, 'throughput': 5.262722635207821, 'expert_loads_saved': 33643}, {'latency': 19.048973083496094, 'throughput': 5.249626820389564, 'expert_loads_saved': 35059}, {'latency': 19.15350341796875, 'throughput': 5.2209769574680305, 'expert_loads_saved': 36447}, {'latency': 19.54737663269043, 'throughput': 5.115775987697658, 'expert_loads_saved': 37843}, {'latency': 19.09282946586609, 'throughput': 5.237568385491459, 'expert_loads_saved': 39253}, {'latency': 19.11894154548645, 'throughput': 5.230415070943493, 'expert_loads_saved': 40669}, {'latency': 19.063388109207153, 'throughput': 5.245657247659057, 'expert_loads_saved': 42057}, {'latency': 19.08591866493225, 'throughput': 5.239464851316601, 'expert_loads_saved': 43453}, {'latency': 19.105005025863647, 'throughput': 5.2342304995274125, 'expert_loads_saved': 44863}, {'latency': 18.991369485855103, 'throughput': 5.265549705326973, 'expert_loads_saved': 46279}, {'latency': 19.144617319107056, 'throughput': 5.223400307939099, 'expert_loads_saved': 47667}, {'latency': 19.09883689880371, 'throughput': 5.235920937481993, 'expert_loads_saved': 49063}, {'latency': 18.95880675315857, 'throughput': 5.274593559710177, 'expert_loads_saved': 50473}, {'latency': 19.04492735862732, 'throughput': 5.250742001633321, 'expert_loads_saved': 51889}, {'latency': 19.187565088272095, 'throughput': 5.2117087050885065, 'expert_loads_saved': 53277}, {'latency': 19.0415301322937, 'throughput': 5.251678793943342, 'expert_loads_saved': 54673}, {'latency': 19.070966482162476, 'throughput': 5.243572741503812, 'expert_loads_saved': 56083}, {'latency': 18.90196919441223, 'throughput': 5.290454077639796, 'expert_loads_saved': 57499}, {'latency': 19.25175952911377, 'throughput': 5.1943304116578775, 'expert_loads_saved': 58887}, {'latency': 19.1207275390625, 'throughput': 5.229926518000217, 'expert_loads_saved': 60283}, {'latency': 19.047679662704468, 'throughput': 5.2499832930202475, 'expert_loads_saved': 61693}, {'latency': 19.079890966415405, 'throughput': 5.241120097385299, 'expert_loads_saved': 63109}, {'latency': 19.208958864212036, 'throughput': 5.205904219322824, 'expert_loads_saved': 64497}, {'latency': 19.387266635894775, 'throughput': 5.158024691054378, 'expert_loads_saved': 65893}, {'latency': 18.829533576965332, 'throughput': 5.310806005430355, 'expert_loads_saved': 67303}, {'latency': 19.102569103240967, 'throughput': 5.234897958465381, 'expert_loads_saved': 68719}, {'latency': 19.280458688735962, 'throughput': 5.186598597803176, 'expert_loads_saved': 70107}]\n",
      "Running with configs: 6, 4, 2, THRESHOLDING, 0.15, 50, 1\n"
     ]
    },
    {
     "data": {
      "application/vnd.jupyter.widget-view+json": {
       "model_id": "3355184bfd27400ba22f008c4a4ae01d",
       "version_major": 2,
       "version_minor": 0
      },
      "text/plain": [
       "Loading experts:   0%|          | 0/32 [00:00<?, ?it/s]"
      ]
     },
     "metadata": {},
     "output_type": "display_data"
    },
    {
     "name": "stdout",
     "output_type": "stream",
     "text": [
      "Batch: ['What are the main causes of climate change?'] | Input_ids: torch.Size([1, 10])\n",
      "Total Latency :20.369444370269775 sec, Throughput:4.909314077607095, Expert Loads saved:1558 \n",
      "Total Latency :20.336856365203857 sec, Throughput:4.917180817144331, Expert Loads saved:3109 \n",
      "Total Latency :20.459956169128418 sec, Throughput:4.8875960033036545, Expert Loads saved:4639 \n",
      "Total Latency :20.391586780548096 sec, Throughput:4.903983249375758, Expert Loads saved:6191 \n",
      "Total Latency :20.333828449249268 sec, Throughput:4.917913035884398, Expert Loads saved:7721 \n",
      "Total Latency :20.388686180114746 sec, Throughput:4.904680915513371, Expert Loads saved:9273 \n",
      "Total Latency :20.513322830200195 sec, Throughput:4.87488062405851, Expert Loads saved:10803 \n",
      "Total Latency :20.360116004943848 sec, Throughput:4.911563371039634, Expert Loads saved:12355 \n",
      "Total Latency :20.445189476013184 sec, Throughput:4.8911261065749745, Expert Loads saved:13885 \n",
      "Total Latency :20.358350038528442 sec, Throughput:4.911989420102744, Expert Loads saved:15437 \n",
      "Total Latency :20.485767126083374 sec, Throughput:4.8814378970790715, Expert Loads saved:16967 \n",
      "Total Latency :20.59702777862549 sec, Throughput:4.855069434036242, Expert Loads saved:18519 \n",
      "Total Latency :20.3912296295166 sec, Throughput:4.904069142316388, Expert Loads saved:20049 \n",
      "Total Latency :20.305992126464844 sec, Throughput:4.9246547214834075, Expert Loads saved:21601 \n",
      "Total Latency :20.665584325790405 sec, Throughput:4.838963100365915, Expert Loads saved:23131 \n",
      "Total Latency :20.490999460220337 sec, Throughput:4.880191432054467, Expert Loads saved:24683 \n",
      "Total Latency :20.516849279403687 sec, Throughput:4.874042726452512, Expert Loads saved:26213 \n",
      "Total Latency :20.45136284828186 sec, Throughput:4.88964968945339, Expert Loads saved:27765 \n",
      "Total Latency :20.579411268234253 sec, Throughput:4.859225499533941, Expert Loads saved:29295 \n",
      "Total Latency :20.30567717552185 sec, Throughput:4.92473110527672, Expert Loads saved:30847 \n",
      "Total Latency :20.52988910675049 sec, Throughput:4.870946914521751, Expert Loads saved:32377 \n",
      "Total Latency :20.56369924545288 sec, Throughput:4.862938268371745, Expert Loads saved:33929 \n",
      "Total Latency :20.531742334365845 sec, Throughput:4.870507255130555, Expert Loads saved:35459 \n",
      "Total Latency :20.56815528869629 sec, Throughput:4.861884724049966, Expert Loads saved:37011 \n",
      "Total Latency :20.59895920753479 sec, Throughput:4.85461420611103, Expert Loads saved:38541 \n",
      "Total Latency :20.542619943618774 sec, Throughput:4.867928252309577, Expert Loads saved:40093 \n",
      "Total Latency :20.499534368515015 sec, Throughput:4.878159581692196, Expert Loads saved:41623 \n",
      "Total Latency :20.50691318511963 sec, Throughput:4.876404317767469, Expert Loads saved:43175 \n",
      "Total Latency :20.563886880874634 sec, Throughput:4.862893896435728, Expert Loads saved:44705 \n",
      "Total Latency :20.49010705947876 sec, Throughput:4.880403977866959, Expert Loads saved:46257 \n",
      "Total Latency :20.601273775100708 sec, Throughput:4.854068786798168, Expert Loads saved:47787 \n",
      "Total Latency :20.618735551834106 sec, Throughput:4.849957930184747, Expert Loads saved:49339 \n",
      "Total Latency :20.57874321937561 sec, Throughput:4.859383244835208, Expert Loads saved:50869 \n",
      "Total Latency :20.479732513427734 sec, Throughput:4.88287627460144, Expert Loads saved:52421 \n",
      "Total Latency :20.319481134414673 sec, Throughput:4.92138550873881, Expert Loads saved:53951 \n",
      "Total Latency :20.524003744125366 sec, Throughput:4.872343683362621, Expert Loads saved:55503 \n",
      "Total Latency :20.689828634262085 sec, Throughput:4.833292811057957, Expert Loads saved:57033 \n",
      "Total Latency :20.468448162078857 sec, Throughput:4.885568227163715, Expert Loads saved:58585 \n",
      "Total Latency :20.601213693618774 sec, Throughput:4.8540829432284855, Expert Loads saved:60115 \n",
      "Total Latency :20.471984386444092 sec, Throughput:4.8847243194566365, Expert Loads saved:61667 \n",
      "Total Latency :20.616124153137207 sec, Throughput:4.8505722635931425, Expert Loads saved:63197 \n",
      "Total Latency :20.46020245552063 sec, Throughput:4.887537169653847, Expert Loads saved:64749 \n",
      "Total Latency :20.591711044311523 sec, Throughput:4.856323002241481, Expert Loads saved:66279 \n",
      "Total Latency :20.518991231918335 sec, Throughput:4.873533931066012, Expert Loads saved:67831 \n",
      "Total Latency :20.528672218322754 sec, Throughput:4.871235652091787, Expert Loads saved:69361 \n",
      "Total Latency :20.557668209075928 sec, Throughput:4.864364916437915, Expert Loads saved:70913 \n",
      "Total Latency :20.493375539779663 sec, Throughput:4.879625604180733, Expert Loads saved:72443 \n",
      "Total Latency :20.51912212371826 sec, Throughput:4.873502842717086, Expert Loads saved:73995 \n",
      "Total Latency :20.621183156967163 sec, Throughput:4.849382270590694, Expert Loads saved:75525 \n"
     ]
    },
    {
     "name": "stderr",
     "output_type": "stream",
     "text": [
      "12it [3:21:23, 988.87s/it]"
     ]
    },
    {
     "name": "stdout",
     "output_type": "stream",
     "text": [
      "Total Latency :20.4180588722229 sec, Throughput:4.897625216275668, Expert Loads saved:77077 \n",
      "Config: 11 Result: [{'latency': 20.369444370269775, 'throughput': 4.909314077607095, 'expert_loads_saved': 1558}, {'latency': 20.336856365203857, 'throughput': 4.917180817144331, 'expert_loads_saved': 3109}, {'latency': 20.459956169128418, 'throughput': 4.8875960033036545, 'expert_loads_saved': 4639}, {'latency': 20.391586780548096, 'throughput': 4.903983249375758, 'expert_loads_saved': 6191}, {'latency': 20.333828449249268, 'throughput': 4.917913035884398, 'expert_loads_saved': 7721}, {'latency': 20.388686180114746, 'throughput': 4.904680915513371, 'expert_loads_saved': 9273}, {'latency': 20.513322830200195, 'throughput': 4.87488062405851, 'expert_loads_saved': 10803}, {'latency': 20.360116004943848, 'throughput': 4.911563371039634, 'expert_loads_saved': 12355}, {'latency': 20.445189476013184, 'throughput': 4.8911261065749745, 'expert_loads_saved': 13885}, {'latency': 20.358350038528442, 'throughput': 4.911989420102744, 'expert_loads_saved': 15437}, {'latency': 20.485767126083374, 'throughput': 4.8814378970790715, 'expert_loads_saved': 16967}, {'latency': 20.59702777862549, 'throughput': 4.855069434036242, 'expert_loads_saved': 18519}, {'latency': 20.3912296295166, 'throughput': 4.904069142316388, 'expert_loads_saved': 20049}, {'latency': 20.305992126464844, 'throughput': 4.9246547214834075, 'expert_loads_saved': 21601}, {'latency': 20.665584325790405, 'throughput': 4.838963100365915, 'expert_loads_saved': 23131}, {'latency': 20.490999460220337, 'throughput': 4.880191432054467, 'expert_loads_saved': 24683}, {'latency': 20.516849279403687, 'throughput': 4.874042726452512, 'expert_loads_saved': 26213}, {'latency': 20.45136284828186, 'throughput': 4.88964968945339, 'expert_loads_saved': 27765}, {'latency': 20.579411268234253, 'throughput': 4.859225499533941, 'expert_loads_saved': 29295}, {'latency': 20.30567717552185, 'throughput': 4.92473110527672, 'expert_loads_saved': 30847}, {'latency': 20.52988910675049, 'throughput': 4.870946914521751, 'expert_loads_saved': 32377}, {'latency': 20.56369924545288, 'throughput': 4.862938268371745, 'expert_loads_saved': 33929}, {'latency': 20.531742334365845, 'throughput': 4.870507255130555, 'expert_loads_saved': 35459}, {'latency': 20.56815528869629, 'throughput': 4.861884724049966, 'expert_loads_saved': 37011}, {'latency': 20.59895920753479, 'throughput': 4.85461420611103, 'expert_loads_saved': 38541}, {'latency': 20.542619943618774, 'throughput': 4.867928252309577, 'expert_loads_saved': 40093}, {'latency': 20.499534368515015, 'throughput': 4.878159581692196, 'expert_loads_saved': 41623}, {'latency': 20.50691318511963, 'throughput': 4.876404317767469, 'expert_loads_saved': 43175}, {'latency': 20.563886880874634, 'throughput': 4.862893896435728, 'expert_loads_saved': 44705}, {'latency': 20.49010705947876, 'throughput': 4.880403977866959, 'expert_loads_saved': 46257}, {'latency': 20.601273775100708, 'throughput': 4.854068786798168, 'expert_loads_saved': 47787}, {'latency': 20.618735551834106, 'throughput': 4.849957930184747, 'expert_loads_saved': 49339}, {'latency': 20.57874321937561, 'throughput': 4.859383244835208, 'expert_loads_saved': 50869}, {'latency': 20.479732513427734, 'throughput': 4.88287627460144, 'expert_loads_saved': 52421}, {'latency': 20.319481134414673, 'throughput': 4.92138550873881, 'expert_loads_saved': 53951}, {'latency': 20.524003744125366, 'throughput': 4.872343683362621, 'expert_loads_saved': 55503}, {'latency': 20.689828634262085, 'throughput': 4.833292811057957, 'expert_loads_saved': 57033}, {'latency': 20.468448162078857, 'throughput': 4.885568227163715, 'expert_loads_saved': 58585}, {'latency': 20.601213693618774, 'throughput': 4.8540829432284855, 'expert_loads_saved': 60115}, {'latency': 20.471984386444092, 'throughput': 4.8847243194566365, 'expert_loads_saved': 61667}, {'latency': 20.616124153137207, 'throughput': 4.8505722635931425, 'expert_loads_saved': 63197}, {'latency': 20.46020245552063, 'throughput': 4.887537169653847, 'expert_loads_saved': 64749}, {'latency': 20.591711044311523, 'throughput': 4.856323002241481, 'expert_loads_saved': 66279}, {'latency': 20.518991231918335, 'throughput': 4.873533931066012, 'expert_loads_saved': 67831}, {'latency': 20.528672218322754, 'throughput': 4.871235652091787, 'expert_loads_saved': 69361}, {'latency': 20.557668209075928, 'throughput': 4.864364916437915, 'expert_loads_saved': 70913}, {'latency': 20.493375539779663, 'throughput': 4.879625604180733, 'expert_loads_saved': 72443}, {'latency': 20.51912212371826, 'throughput': 4.873502842717086, 'expert_loads_saved': 73995}, {'latency': 20.621183156967163, 'throughput': 4.849382270590694, 'expert_loads_saved': 75525}, {'latency': 20.4180588722229, 'throughput': 4.897625216275668, 'expert_loads_saved': 77077}]\n",
      "Running with configs: 3, 4, 2, THRESHOLDING, 0.25, 50, 1\n"
     ]
    },
    {
     "data": {
      "application/vnd.jupyter.widget-view+json": {
       "model_id": "f85a9648920645838e113e6c5d8f84d5",
       "version_major": 2,
       "version_minor": 0
      },
      "text/plain": [
       "Loading experts:   0%|          | 0/32 [00:00<?, ?it/s]"
      ]
     },
     "metadata": {},
     "output_type": "display_data"
    },
    {
     "name": "stdout",
     "output_type": "stream",
     "text": [
      "Batch: ['What are the main causes of climate change?'] | Input_ids: torch.Size([1, 10])\n",
      "Total Latency :15.702238082885742 sec, Throughput:6.368518899798906, Expert Loads saved:1097 \n",
      "Total Latency :15.672339916229248 sec, Throughput:6.380668141101672, Expert Loads saved:2242 \n",
      "Total Latency :15.60160517692566 sec, Throughput:6.409596888652023, Expert Loads saved:3354 \n",
      "Total Latency :15.930583000183105 sec, Throughput:6.277234172713617, Expert Loads saved:4457 \n",
      "Total Latency :15.83162808418274 sec, Throughput:6.316469757138196, Expert Loads saved:5561 \n",
      "Total Latency :15.796133995056152 sec, Throughput:6.330662935076256, Expert Loads saved:6665 \n",
      "Total Latency :16.01514220237732 sec, Throughput:6.244090669713554, Expert Loads saved:7790 \n",
      "Total Latency :15.97008466720581 sec, Throughput:6.261707566607185, Expert Loads saved:8884 \n",
      "Total Latency :15.865101099014282 sec, Throughput:6.303142940968281, Expert Loads saved:10050 \n",
      "Total Latency :15.913127899169922 sec, Throughput:6.284119667335566, Expert Loads saved:11153 \n",
      "Total Latency :15.916319131851196 sec, Throughput:6.282859697119505, Expert Loads saved:12262 \n",
      "Total Latency :15.87992262840271 sec, Throughput:6.297259901074124, Expert Loads saved:13361 \n",
      "Total Latency :15.886554956436157 sec, Throughput:6.29463091741528, Expert Loads saved:14472 \n",
      "Total Latency :16.03789210319519 sec, Throughput:6.23523336836, Expert Loads saved:15528 \n",
      "Total Latency :15.944921731948853 sec, Throughput:6.271589267172753, Expert Loads saved:16605 \n",
      "Total Latency :15.95020842552185 sec, Throughput:6.269510550093533, Expert Loads saved:17715 \n",
      "Total Latency :16.007853746414185 sec, Throughput:6.246933635460054, Expert Loads saved:18808 \n",
      "Total Latency :16.036235570907593 sec, Throughput:6.2358774637494525, Expert Loads saved:19892 \n",
      "Total Latency :15.7422194480896 sec, Throughput:6.352344428290607, Expert Loads saved:20993 \n",
      "Total Latency :15.929465532302856 sec, Throughput:6.277674526945878, Expert Loads saved:22074 \n",
      "Total Latency :15.920747518539429 sec, Throughput:6.281112107553478, Expert Loads saved:23147 \n",
      "Total Latency :15.958497762680054 sec, Throughput:6.266253972467024, Expert Loads saved:24248 \n",
      "Total Latency :15.985853672027588 sec, Throughput:6.255530799395611, Expert Loads saved:25356 \n",
      "Total Latency :16.127577304840088 sec, Throughput:6.200559334475411, Expert Loads saved:26473 \n",
      "Total Latency :16.11981439590454 sec, Throughput:6.20354537242106, Expert Loads saved:27607 \n",
      "Total Latency :16.119446277618408 sec, Throughput:6.203687042206182, Expert Loads saved:28754 \n",
      "Total Latency :15.948203563690186 sec, Throughput:6.270298695438863, Expert Loads saved:29858 \n",
      "Total Latency :15.883838653564453 sec, Throughput:6.295707365269619, Expert Loads saved:30959 \n",
      "Total Latency :16.0920352935791 sec, Throughput:6.214254329898288, Expert Loads saved:32082 \n",
      "Total Latency :16.0302734375 sec, Throughput:6.2381967712458115, Expert Loads saved:33148 \n",
      "Total Latency :15.916470527648926 sec, Throughput:6.282799935217254, Expert Loads saved:34270 \n",
      "Total Latency :15.863168716430664 sec, Throughput:6.303910762571828, Expert Loads saved:35386 \n",
      "Total Latency :15.967038631439209 sec, Throughput:6.26290211405259, Expert Loads saved:36489 \n",
      "Total Latency :16.028762102127075 sec, Throughput:6.238784964356644, Expert Loads saved:37590 \n",
      "Total Latency :15.842279434204102 sec, Throughput:6.312222961052946, Expert Loads saved:38594 \n",
      "Total Latency :15.892991781234741 sec, Throughput:6.292081527285035, Expert Loads saved:39708 \n",
      "Total Latency :15.911498308181763 sec, Throughput:6.284763261331559, Expert Loads saved:40817 \n",
      "Total Latency :15.506178855895996 sec, Throughput:6.449042083761111, Expert Loads saved:41963 \n",
      "Total Latency :15.264779329299927 sec, Throughput:6.551028209628642, Expert Loads saved:43081 \n",
      "Total Latency :15.334163665771484 sec, Throughput:6.521385983587574, Expert Loads saved:44160 \n",
      "Total Latency :15.458539724349976 sec, Throughput:6.468916326066817, Expert Loads saved:45275 \n",
      "Total Latency :15.447396278381348 sec, Throughput:6.4735828742834896, Expert Loads saved:46340 \n",
      "Total Latency :15.540517568588257 sec, Throughput:6.434792120574416, Expert Loads saved:47433 \n",
      "Total Latency :15.410032510757446 sec, Throughput:6.489278976549331, Expert Loads saved:48555 \n",
      "Total Latency :15.589893817901611 sec, Throughput:6.414411872720499, Expert Loads saved:49705 \n",
      "Total Latency :15.369739532470703 sec, Throughput:6.506291130616504, Expert Loads saved:50769 \n",
      "Total Latency :15.425324440002441 sec, Throughput:6.482845815590779, Expert Loads saved:51920 \n",
      "Total Latency :15.434556722640991 sec, Throughput:6.478968058299319, Expert Loads saved:53015 \n",
      "Total Latency :15.450412511825562 sec, Throughput:6.472319099794985, Expert Loads saved:54074 \n"
     ]
    },
    {
     "name": "stderr",
     "output_type": "stream",
     "text": [
      "13it [3:34:53, 934.83s/it]"
     ]
    },
    {
     "name": "stdout",
     "output_type": "stream",
     "text": [
      "Total Latency :15.439211130142212 sec, Throughput:6.47701486540128, Expert Loads saved:55163 \n",
      "Config: 12 Result: [{'latency': 15.702238082885742, 'throughput': 6.368518899798906, 'expert_loads_saved': 1097}, {'latency': 15.672339916229248, 'throughput': 6.380668141101672, 'expert_loads_saved': 2242}, {'latency': 15.60160517692566, 'throughput': 6.409596888652023, 'expert_loads_saved': 3354}, {'latency': 15.930583000183105, 'throughput': 6.277234172713617, 'expert_loads_saved': 4457}, {'latency': 15.83162808418274, 'throughput': 6.316469757138196, 'expert_loads_saved': 5561}, {'latency': 15.796133995056152, 'throughput': 6.330662935076256, 'expert_loads_saved': 6665}, {'latency': 16.01514220237732, 'throughput': 6.244090669713554, 'expert_loads_saved': 7790}, {'latency': 15.97008466720581, 'throughput': 6.261707566607185, 'expert_loads_saved': 8884}, {'latency': 15.865101099014282, 'throughput': 6.303142940968281, 'expert_loads_saved': 10050}, {'latency': 15.913127899169922, 'throughput': 6.284119667335566, 'expert_loads_saved': 11153}, {'latency': 15.916319131851196, 'throughput': 6.282859697119505, 'expert_loads_saved': 12262}, {'latency': 15.87992262840271, 'throughput': 6.297259901074124, 'expert_loads_saved': 13361}, {'latency': 15.886554956436157, 'throughput': 6.29463091741528, 'expert_loads_saved': 14472}, {'latency': 16.03789210319519, 'throughput': 6.23523336836, 'expert_loads_saved': 15528}, {'latency': 15.944921731948853, 'throughput': 6.271589267172753, 'expert_loads_saved': 16605}, {'latency': 15.95020842552185, 'throughput': 6.269510550093533, 'expert_loads_saved': 17715}, {'latency': 16.007853746414185, 'throughput': 6.246933635460054, 'expert_loads_saved': 18808}, {'latency': 16.036235570907593, 'throughput': 6.2358774637494525, 'expert_loads_saved': 19892}, {'latency': 15.7422194480896, 'throughput': 6.352344428290607, 'expert_loads_saved': 20993}, {'latency': 15.929465532302856, 'throughput': 6.277674526945878, 'expert_loads_saved': 22074}, {'latency': 15.920747518539429, 'throughput': 6.281112107553478, 'expert_loads_saved': 23147}, {'latency': 15.958497762680054, 'throughput': 6.266253972467024, 'expert_loads_saved': 24248}, {'latency': 15.985853672027588, 'throughput': 6.255530799395611, 'expert_loads_saved': 25356}, {'latency': 16.127577304840088, 'throughput': 6.200559334475411, 'expert_loads_saved': 26473}, {'latency': 16.11981439590454, 'throughput': 6.20354537242106, 'expert_loads_saved': 27607}, {'latency': 16.119446277618408, 'throughput': 6.203687042206182, 'expert_loads_saved': 28754}, {'latency': 15.948203563690186, 'throughput': 6.270298695438863, 'expert_loads_saved': 29858}, {'latency': 15.883838653564453, 'throughput': 6.295707365269619, 'expert_loads_saved': 30959}, {'latency': 16.0920352935791, 'throughput': 6.214254329898288, 'expert_loads_saved': 32082}, {'latency': 16.0302734375, 'throughput': 6.2381967712458115, 'expert_loads_saved': 33148}, {'latency': 15.916470527648926, 'throughput': 6.282799935217254, 'expert_loads_saved': 34270}, {'latency': 15.863168716430664, 'throughput': 6.303910762571828, 'expert_loads_saved': 35386}, {'latency': 15.967038631439209, 'throughput': 6.26290211405259, 'expert_loads_saved': 36489}, {'latency': 16.028762102127075, 'throughput': 6.238784964356644, 'expert_loads_saved': 37590}, {'latency': 15.842279434204102, 'throughput': 6.312222961052946, 'expert_loads_saved': 38594}, {'latency': 15.892991781234741, 'throughput': 6.292081527285035, 'expert_loads_saved': 39708}, {'latency': 15.911498308181763, 'throughput': 6.284763261331559, 'expert_loads_saved': 40817}, {'latency': 15.506178855895996, 'throughput': 6.449042083761111, 'expert_loads_saved': 41963}, {'latency': 15.264779329299927, 'throughput': 6.551028209628642, 'expert_loads_saved': 43081}, {'latency': 15.334163665771484, 'throughput': 6.521385983587574, 'expert_loads_saved': 44160}, {'latency': 15.458539724349976, 'throughput': 6.468916326066817, 'expert_loads_saved': 45275}, {'latency': 15.447396278381348, 'throughput': 6.4735828742834896, 'expert_loads_saved': 46340}, {'latency': 15.540517568588257, 'throughput': 6.434792120574416, 'expert_loads_saved': 47433}, {'latency': 15.410032510757446, 'throughput': 6.489278976549331, 'expert_loads_saved': 48555}, {'latency': 15.589893817901611, 'throughput': 6.414411872720499, 'expert_loads_saved': 49705}, {'latency': 15.369739532470703, 'throughput': 6.506291130616504, 'expert_loads_saved': 50769}, {'latency': 15.425324440002441, 'throughput': 6.482845815590779, 'expert_loads_saved': 51920}, {'latency': 15.434556722640991, 'throughput': 6.478968058299319, 'expert_loads_saved': 53015}, {'latency': 15.450412511825562, 'throughput': 6.472319099794985, 'expert_loads_saved': 54074}, {'latency': 15.439211130142212, 'throughput': 6.47701486540128, 'expert_loads_saved': 55163}]\n",
      "Running with configs: 4, 4, 2, THRESHOLDING, 0.25, 50, 1\n"
     ]
    },
    {
     "data": {
      "application/vnd.jupyter.widget-view+json": {
       "model_id": "acfbb05f3bae4381aeed792fb1c8372c",
       "version_major": 2,
       "version_minor": 0
      },
      "text/plain": [
       "Loading experts:   0%|          | 0/32 [00:00<?, ?it/s]"
      ]
     },
     "metadata": {},
     "output_type": "display_data"
    },
    {
     "name": "stdout",
     "output_type": "stream",
     "text": [
      "Batch: ['What is the process of photosynthesis in plants?'] | Input_ids: torch.Size([1, 13])\n",
      "Total Latency :16.370599508285522 sec, Throughput:6.108511783541451, Expert Loads saved:1543 \n",
      "Total Latency :16.39268159866333 sec, Throughput:6.10028319028377, Expert Loads saved:3053 \n",
      "Total Latency :16.447457790374756 sec, Throughput:6.079966963558415, Expert Loads saved:4594 \n",
      "Total Latency :16.510268688201904 sec, Throughput:6.056836620197413, Expert Loads saved:6153 \n",
      "Total Latency :16.466883420944214 sec, Throughput:6.072794556425297, Expert Loads saved:7672 \n",
      "Total Latency :16.22523021697998 sec, Throughput:6.163240746830716, Expert Loads saved:9194 \n",
      "Total Latency :16.185531854629517 sec, Throughput:6.178357368676593, Expert Loads saved:10729 \n",
      "Total Latency :16.59160089492798 sec, Throughput:6.027145941689678, Expert Loads saved:12305 \n",
      "Total Latency :16.524434566497803 sec, Throughput:6.051644284564107, Expert Loads saved:13820 \n",
      "Total Latency :16.401602506637573 sec, Throughput:6.096965217851789, Expert Loads saved:15360 \n",
      "Total Latency :16.646142721176147 sec, Throughput:6.007397730213286, Expert Loads saved:16843 \n",
      "Total Latency :16.617191076278687 sec, Throughput:6.017864243178358, Expert Loads saved:18385 \n",
      "Total Latency :16.813323974609375 sec, Throughput:5.947663897455072, Expert Loads saved:19936 \n",
      "Total Latency :16.525384426116943 sec, Throughput:6.0512964431834115, Expert Loads saved:21453 \n",
      "Total Latency :16.694374561309814 sec, Throughput:5.990041713317959, Expert Loads saved:22984 \n",
      "Total Latency :16.371477603912354 sec, Throughput:6.108184149248851, Expert Loads saved:24523 \n",
      "Total Latency :16.494099855422974 sec, Throughput:6.0627740147408975, Expert Loads saved:26043 \n",
      "Total Latency :17.138270139694214 sec, Throughput:5.834894606334186, Expert Loads saved:27589 \n",
      "Total Latency :17.117984533309937 sec, Throughput:5.841809227331039, Expert Loads saved:29119 \n",
      "Total Latency :16.809648036956787 sec, Throughput:5.94896453394773, Expert Loads saved:30647 \n",
      "Total Latency :16.583391666412354 sec, Throughput:6.030129542350366, Expert Loads saved:32193 \n",
      "Total Latency :16.92822527885437 sec, Throughput:5.907293786130874, Expert Loads saved:33749 \n",
      "Total Latency :16.90284752845764 sec, Throughput:5.916162932407688, Expert Loads saved:35298 \n",
      "Total Latency :16.641767024993896 sec, Throughput:6.008977282869797, Expert Loads saved:36898 \n",
      "Total Latency :16.993841409683228 sec, Throughput:5.884484713563303, Expert Loads saved:38421 \n",
      "Total Latency :17.018887519836426 sec, Throughput:5.8758247202377145, Expert Loads saved:39959 \n",
      "Total Latency :17.02233386039734 sec, Throughput:5.874635101162666, Expert Loads saved:41503 \n",
      "Total Latency :17.097851991653442 sec, Throughput:5.84868789651568, Expert Loads saved:43088 \n",
      "Total Latency :16.863616704940796 sec, Throughput:5.929926050246472, Expert Loads saved:44663 \n",
      "Total Latency :16.680988788604736 sec, Throughput:5.994848462958795, Expert Loads saved:46209 \n",
      "Total Latency :16.93540096282959 sec, Throughput:5.904790811831589, Expert Loads saved:47716 \n",
      "Total Latency :16.758750677108765 sec, Throughput:5.967031906297928, Expert Loads saved:49196 \n",
      "Total Latency :16.697975635528564 sec, Throughput:5.988749904942268, Expert Loads saved:50729 \n",
      "Total Latency :16.975471019744873 sec, Throughput:5.89085274179938, Expert Loads saved:52299 \n",
      "Total Latency :16.606578588485718 sec, Throughput:6.021709978799346, Expert Loads saved:53810 \n",
      "Total Latency :17.03522562980652 sec, Throughput:5.870189346070656, Expert Loads saved:55341 \n",
      "Total Latency :17.12570285797119 sec, Throughput:5.839176402237693, Expert Loads saved:56872 \n",
      "Total Latency :16.8650062084198 sec, Throughput:5.929437485180132, Expert Loads saved:58384 \n",
      "Total Latency :17.172141075134277 sec, Throughput:5.823385654850151, Expert Loads saved:59944 \n",
      "Total Latency :16.66224956512451 sec, Throughput:6.001590578099875, Expert Loads saved:61441 \n",
      "Total Latency :16.95690155029297 sec, Throughput:5.897303803021271, Expert Loads saved:63012 \n",
      "Total Latency :17.067943334579468 sec, Throughput:5.858936723641511, Expert Loads saved:64565 \n",
      "Total Latency :17.07143235206604 sec, Throughput:5.857739288519494, Expert Loads saved:66097 \n",
      "Total Latency :16.682924509048462 sec, Throughput:5.99415288043545, Expert Loads saved:67658 \n",
      "Total Latency :16.61276888847351 sec, Throughput:6.01946615108715, Expert Loads saved:69204 \n",
      "Total Latency :17.105177879333496 sec, Throughput:5.8461829923920385, Expert Loads saved:70767 \n",
      "Total Latency :16.72304344177246 sec, Throughput:5.979772781682201, Expert Loads saved:72271 \n",
      "Total Latency :17.05618643760681 sec, Throughput:5.862975311967286, Expert Loads saved:73750 \n",
      "Total Latency :16.892605304718018 sec, Throughput:5.919749985046446, Expert Loads saved:75298 \n"
     ]
    },
    {
     "name": "stderr",
     "output_type": "stream",
     "text": [
      "14it [3:49:10, 911.23s/it]"
     ]
    },
    {
     "name": "stdout",
     "output_type": "stream",
     "text": [
      "Total Latency :16.659314393997192 sec, Throughput:6.002647986284042, Expert Loads saved:76840 \n",
      "Config: 13 Result: [{'latency': 16.370599508285522, 'throughput': 6.108511783541451, 'expert_loads_saved': 1543}, {'latency': 16.39268159866333, 'throughput': 6.10028319028377, 'expert_loads_saved': 3053}, {'latency': 16.447457790374756, 'throughput': 6.079966963558415, 'expert_loads_saved': 4594}, {'latency': 16.510268688201904, 'throughput': 6.056836620197413, 'expert_loads_saved': 6153}, {'latency': 16.466883420944214, 'throughput': 6.072794556425297, 'expert_loads_saved': 7672}, {'latency': 16.22523021697998, 'throughput': 6.163240746830716, 'expert_loads_saved': 9194}, {'latency': 16.185531854629517, 'throughput': 6.178357368676593, 'expert_loads_saved': 10729}, {'latency': 16.59160089492798, 'throughput': 6.027145941689678, 'expert_loads_saved': 12305}, {'latency': 16.524434566497803, 'throughput': 6.051644284564107, 'expert_loads_saved': 13820}, {'latency': 16.401602506637573, 'throughput': 6.096965217851789, 'expert_loads_saved': 15360}, {'latency': 16.646142721176147, 'throughput': 6.007397730213286, 'expert_loads_saved': 16843}, {'latency': 16.617191076278687, 'throughput': 6.017864243178358, 'expert_loads_saved': 18385}, {'latency': 16.813323974609375, 'throughput': 5.947663897455072, 'expert_loads_saved': 19936}, {'latency': 16.525384426116943, 'throughput': 6.0512964431834115, 'expert_loads_saved': 21453}, {'latency': 16.694374561309814, 'throughput': 5.990041713317959, 'expert_loads_saved': 22984}, {'latency': 16.371477603912354, 'throughput': 6.108184149248851, 'expert_loads_saved': 24523}, {'latency': 16.494099855422974, 'throughput': 6.0627740147408975, 'expert_loads_saved': 26043}, {'latency': 17.138270139694214, 'throughput': 5.834894606334186, 'expert_loads_saved': 27589}, {'latency': 17.117984533309937, 'throughput': 5.841809227331039, 'expert_loads_saved': 29119}, {'latency': 16.809648036956787, 'throughput': 5.94896453394773, 'expert_loads_saved': 30647}, {'latency': 16.583391666412354, 'throughput': 6.030129542350366, 'expert_loads_saved': 32193}, {'latency': 16.92822527885437, 'throughput': 5.907293786130874, 'expert_loads_saved': 33749}, {'latency': 16.90284752845764, 'throughput': 5.916162932407688, 'expert_loads_saved': 35298}, {'latency': 16.641767024993896, 'throughput': 6.008977282869797, 'expert_loads_saved': 36898}, {'latency': 16.993841409683228, 'throughput': 5.884484713563303, 'expert_loads_saved': 38421}, {'latency': 17.018887519836426, 'throughput': 5.8758247202377145, 'expert_loads_saved': 39959}, {'latency': 17.02233386039734, 'throughput': 5.874635101162666, 'expert_loads_saved': 41503}, {'latency': 17.097851991653442, 'throughput': 5.84868789651568, 'expert_loads_saved': 43088}, {'latency': 16.863616704940796, 'throughput': 5.929926050246472, 'expert_loads_saved': 44663}, {'latency': 16.680988788604736, 'throughput': 5.994848462958795, 'expert_loads_saved': 46209}, {'latency': 16.93540096282959, 'throughput': 5.904790811831589, 'expert_loads_saved': 47716}, {'latency': 16.758750677108765, 'throughput': 5.967031906297928, 'expert_loads_saved': 49196}, {'latency': 16.697975635528564, 'throughput': 5.988749904942268, 'expert_loads_saved': 50729}, {'latency': 16.975471019744873, 'throughput': 5.89085274179938, 'expert_loads_saved': 52299}, {'latency': 16.606578588485718, 'throughput': 6.021709978799346, 'expert_loads_saved': 53810}, {'latency': 17.03522562980652, 'throughput': 5.870189346070656, 'expert_loads_saved': 55341}, {'latency': 17.12570285797119, 'throughput': 5.839176402237693, 'expert_loads_saved': 56872}, {'latency': 16.8650062084198, 'throughput': 5.929437485180132, 'expert_loads_saved': 58384}, {'latency': 17.172141075134277, 'throughput': 5.823385654850151, 'expert_loads_saved': 59944}, {'latency': 16.66224956512451, 'throughput': 6.001590578099875, 'expert_loads_saved': 61441}, {'latency': 16.95690155029297, 'throughput': 5.897303803021271, 'expert_loads_saved': 63012}, {'latency': 17.067943334579468, 'throughput': 5.858936723641511, 'expert_loads_saved': 64565}, {'latency': 17.07143235206604, 'throughput': 5.857739288519494, 'expert_loads_saved': 66097}, {'latency': 16.682924509048462, 'throughput': 5.99415288043545, 'expert_loads_saved': 67658}, {'latency': 16.61276888847351, 'throughput': 6.01946615108715, 'expert_loads_saved': 69204}, {'latency': 17.105177879333496, 'throughput': 5.8461829923920385, 'expert_loads_saved': 70767}, {'latency': 16.72304344177246, 'throughput': 5.979772781682201, 'expert_loads_saved': 72271}, {'latency': 17.05618643760681, 'throughput': 5.862975311967286, 'expert_loads_saved': 73750}, {'latency': 16.892605304718018, 'throughput': 5.919749985046446, 'expert_loads_saved': 75298}, {'latency': 16.659314393997192, 'throughput': 6.002647986284042, 'expert_loads_saved': 76840}]\n",
      "Running with configs: 5, 4, 2, THRESHOLDING, 0.25, 50, 1\n"
     ]
    },
    {
     "data": {
      "application/vnd.jupyter.widget-view+json": {
       "model_id": "4cef2913a6be468ab8a9193b17ecd45b",
       "version_major": 2,
       "version_minor": 0
      },
      "text/plain": [
       "Loading experts:   0%|          | 0/32 [00:00<?, ?it/s]"
      ]
     },
     "metadata": {},
     "output_type": "display_data"
    },
    {
     "name": "stdout",
     "output_type": "stream",
     "text": [
      "Batch: ['How can one improve their time management skills?'] | Input_ids: torch.Size([1, 10])\n",
      "Total Latency :18.099811553955078 sec, Throughput:5.524919400508814, Expert Loads saved:1942 \n",
      "Total Latency :18.006612062454224 sec, Throughput:5.553515544909809, Expert Loads saved:3875 \n",
      "Total Latency :18.207762718200684 sec, Throughput:5.492162960803464, Expert Loads saved:5848 \n",
      "Total Latency :18.24242329597473 sec, Throughput:5.481727859152651, Expert Loads saved:7803 \n",
      "Total Latency :17.691598892211914 sec, Throughput:5.652400362978011, Expert Loads saved:9754 \n",
      "Total Latency :17.951806783676147 sec, Throughput:5.570469936816139, Expert Loads saved:11655 \n",
      "Total Latency :18.005659818649292 sec, Throughput:5.553809247047164, Expert Loads saved:13588 \n",
      "Total Latency :17.854589700698853 sec, Throughput:5.6008007843543925, Expert Loads saved:15569 \n",
      "Total Latency :17.808734893798828 sec, Throughput:5.615222001806594, Expert Loads saved:17532 \n",
      "Total Latency :18.073002099990845 sec, Throughput:5.533115054529356, Expert Loads saved:19496 \n",
      "Total Latency :17.862624883651733 sec, Throughput:5.598281364096841, Expert Loads saved:21472 \n",
      "Total Latency :17.597450733184814 sec, Throughput:5.6826412823206605, Expert Loads saved:23393 \n",
      "Total Latency :18.049688816070557 sec, Throughput:5.54026171969042, Expert Loads saved:25320 \n",
      "Total Latency :18.000717163085938 sec, Throughput:5.555334217742722, Expert Loads saved:27296 \n",
      "Total Latency :17.824450254440308 sec, Throughput:5.610271204582518, Expert Loads saved:29263 \n",
      "Total Latency :17.801662921905518 sec, Throughput:5.617452731168546, Expert Loads saved:31177 \n",
      "Total Latency :17.751538515090942 sec, Throughput:5.633314538623679, Expert Loads saved:33170 \n",
      "Total Latency :17.720995903015137 sec, Throughput:5.643023707430885, Expert Loads saved:35101 \n",
      "Total Latency :18.020095348358154 sec, Throughput:5.5493602040852235, Expert Loads saved:37027 \n",
      "Total Latency :18.03417468070984 sec, Throughput:5.545027802517876, Expert Loads saved:39003 \n",
      "Total Latency :17.819486141204834 sec, Throughput:5.611834101588671, Expert Loads saved:40970 \n",
      "Total Latency :17.874940395355225 sec, Throughput:5.5944242491563685, Expert Loads saved:42884 \n",
      "Total Latency :17.763373851776123 sec, Throughput:5.629561187780845, Expert Loads saved:44877 \n",
      "Total Latency :17.97832465171814 sec, Throughput:5.562253543488173, Expert Loads saved:46808 \n",
      "Total Latency :17.996471643447876 sec, Throughput:5.556644767998611, Expert Loads saved:48734 \n",
      "Total Latency :18.028915643692017 sec, Throughput:5.546645287842819, Expert Loads saved:50710 \n",
      "Total Latency :17.96150302886963 sec, Throughput:5.567462803044346, Expert Loads saved:52677 \n",
      "Total Latency :17.853936672210693 sec, Throughput:5.601005640153752, Expert Loads saved:54591 \n",
      "Total Latency :17.746704816818237 sec, Throughput:5.634848893482005, Expert Loads saved:56584 \n",
      "Total Latency :17.79584002494812 sec, Throughput:5.619290792668919, Expert Loads saved:58515 \n",
      "Total Latency :18.005496978759766 sec, Throughput:5.553859475135026, Expert Loads saved:60441 \n",
      "Total Latency :18.02147936820984 sec, Throughput:5.548934022386725, Expert Loads saved:62417 \n",
      "Total Latency :18.005109548568726 sec, Throughput:5.5539789819245655, Expert Loads saved:64384 \n",
      "Total Latency :17.796530723571777 sec, Throughput:5.619072703172898, Expert Loads saved:66298 \n",
      "Total Latency :17.77080488204956 sec, Throughput:5.627207133482786, Expert Loads saved:68291 \n",
      "Total Latency :17.75670099258423 sec, Throughput:5.63167674230496, Expert Loads saved:70222 \n",
      "Total Latency :17.990001440048218 sec, Throughput:5.558643245985865, Expert Loads saved:72148 \n",
      "Total Latency :17.999910593032837 sec, Throughput:5.555583150435572, Expert Loads saved:74124 \n",
      "Total Latency :18.00886845588684 sec, Throughput:5.552819725734152, Expert Loads saved:76091 \n",
      "Total Latency :17.845110416412354 sec, Throughput:5.60377591768941, Expert Loads saved:78005 \n",
      "Total Latency :17.772368669509888 sec, Throughput:5.626711996558966, Expert Loads saved:79998 \n",
      "Total Latency :17.750545263290405 sec, Throughput:5.633629757098689, Expert Loads saved:81929 \n",
      "Total Latency :18.070238828659058 sec, Throughput:5.533961169423057, Expert Loads saved:83855 \n",
      "Total Latency :18.18355679512024 sec, Throughput:5.499474119762758, Expert Loads saved:85831 \n",
      "Total Latency :17.949180126190186 sec, Throughput:5.57128511146239, Expert Loads saved:87798 \n",
      "Total Latency :17.91699242591858 sec, Throughput:5.5812938702446955, Expert Loads saved:89712 \n",
      "Total Latency :17.765495777130127 sec, Throughput:5.628888788385629, Expert Loads saved:91705 \n",
      "Total Latency :17.810940504074097 sec, Throughput:5.614526643167769, Expert Loads saved:93636 \n",
      "Total Latency :18.099424839019775 sec, Throughput:5.5250374467377705, Expert Loads saved:95562 \n"
     ]
    },
    {
     "name": "stderr",
     "output_type": "stream",
     "text": [
      "15it [4:04:25, 912.38s/it]"
     ]
    },
    {
     "name": "stdout",
     "output_type": "stream",
     "text": [
      "Total Latency :18.025336027145386 sec, Throughput:5.547746785380548, Expert Loads saved:97538 \n",
      "Config: 14 Result: [{'latency': 18.099811553955078, 'throughput': 5.524919400508814, 'expert_loads_saved': 1942}, {'latency': 18.006612062454224, 'throughput': 5.553515544909809, 'expert_loads_saved': 3875}, {'latency': 18.207762718200684, 'throughput': 5.492162960803464, 'expert_loads_saved': 5848}, {'latency': 18.24242329597473, 'throughput': 5.481727859152651, 'expert_loads_saved': 7803}, {'latency': 17.691598892211914, 'throughput': 5.652400362978011, 'expert_loads_saved': 9754}, {'latency': 17.951806783676147, 'throughput': 5.570469936816139, 'expert_loads_saved': 11655}, {'latency': 18.005659818649292, 'throughput': 5.553809247047164, 'expert_loads_saved': 13588}, {'latency': 17.854589700698853, 'throughput': 5.6008007843543925, 'expert_loads_saved': 15569}, {'latency': 17.808734893798828, 'throughput': 5.615222001806594, 'expert_loads_saved': 17532}, {'latency': 18.073002099990845, 'throughput': 5.533115054529356, 'expert_loads_saved': 19496}, {'latency': 17.862624883651733, 'throughput': 5.598281364096841, 'expert_loads_saved': 21472}, {'latency': 17.597450733184814, 'throughput': 5.6826412823206605, 'expert_loads_saved': 23393}, {'latency': 18.049688816070557, 'throughput': 5.54026171969042, 'expert_loads_saved': 25320}, {'latency': 18.000717163085938, 'throughput': 5.555334217742722, 'expert_loads_saved': 27296}, {'latency': 17.824450254440308, 'throughput': 5.610271204582518, 'expert_loads_saved': 29263}, {'latency': 17.801662921905518, 'throughput': 5.617452731168546, 'expert_loads_saved': 31177}, {'latency': 17.751538515090942, 'throughput': 5.633314538623679, 'expert_loads_saved': 33170}, {'latency': 17.720995903015137, 'throughput': 5.643023707430885, 'expert_loads_saved': 35101}, {'latency': 18.020095348358154, 'throughput': 5.5493602040852235, 'expert_loads_saved': 37027}, {'latency': 18.03417468070984, 'throughput': 5.545027802517876, 'expert_loads_saved': 39003}, {'latency': 17.819486141204834, 'throughput': 5.611834101588671, 'expert_loads_saved': 40970}, {'latency': 17.874940395355225, 'throughput': 5.5944242491563685, 'expert_loads_saved': 42884}, {'latency': 17.763373851776123, 'throughput': 5.629561187780845, 'expert_loads_saved': 44877}, {'latency': 17.97832465171814, 'throughput': 5.562253543488173, 'expert_loads_saved': 46808}, {'latency': 17.996471643447876, 'throughput': 5.556644767998611, 'expert_loads_saved': 48734}, {'latency': 18.028915643692017, 'throughput': 5.546645287842819, 'expert_loads_saved': 50710}, {'latency': 17.96150302886963, 'throughput': 5.567462803044346, 'expert_loads_saved': 52677}, {'latency': 17.853936672210693, 'throughput': 5.601005640153752, 'expert_loads_saved': 54591}, {'latency': 17.746704816818237, 'throughput': 5.634848893482005, 'expert_loads_saved': 56584}, {'latency': 17.79584002494812, 'throughput': 5.619290792668919, 'expert_loads_saved': 58515}, {'latency': 18.005496978759766, 'throughput': 5.553859475135026, 'expert_loads_saved': 60441}, {'latency': 18.02147936820984, 'throughput': 5.548934022386725, 'expert_loads_saved': 62417}, {'latency': 18.005109548568726, 'throughput': 5.5539789819245655, 'expert_loads_saved': 64384}, {'latency': 17.796530723571777, 'throughput': 5.619072703172898, 'expert_loads_saved': 66298}, {'latency': 17.77080488204956, 'throughput': 5.627207133482786, 'expert_loads_saved': 68291}, {'latency': 17.75670099258423, 'throughput': 5.63167674230496, 'expert_loads_saved': 70222}, {'latency': 17.990001440048218, 'throughput': 5.558643245985865, 'expert_loads_saved': 72148}, {'latency': 17.999910593032837, 'throughput': 5.555583150435572, 'expert_loads_saved': 74124}, {'latency': 18.00886845588684, 'throughput': 5.552819725734152, 'expert_loads_saved': 76091}, {'latency': 17.845110416412354, 'throughput': 5.60377591768941, 'expert_loads_saved': 78005}, {'latency': 17.772368669509888, 'throughput': 5.626711996558966, 'expert_loads_saved': 79998}, {'latency': 17.750545263290405, 'throughput': 5.633629757098689, 'expert_loads_saved': 81929}, {'latency': 18.070238828659058, 'throughput': 5.533961169423057, 'expert_loads_saved': 83855}, {'latency': 18.18355679512024, 'throughput': 5.499474119762758, 'expert_loads_saved': 85831}, {'latency': 17.949180126190186, 'throughput': 5.57128511146239, 'expert_loads_saved': 87798}, {'latency': 17.91699242591858, 'throughput': 5.5812938702446955, 'expert_loads_saved': 89712}, {'latency': 17.765495777130127, 'throughput': 5.628888788385629, 'expert_loads_saved': 91705}, {'latency': 17.810940504074097, 'throughput': 5.614526643167769, 'expert_loads_saved': 93636}, {'latency': 18.099424839019775, 'throughput': 5.5250374467377705, 'expert_loads_saved': 95562}, {'latency': 18.025336027145386, 'throughput': 5.547746785380548, 'expert_loads_saved': 97538}]\n",
      "Running with configs: 6, 4, 2, THRESHOLDING, 0.25, 50, 1\n"
     ]
    },
    {
     "data": {
      "application/vnd.jupyter.widget-view+json": {
       "model_id": "f94f8c44cce74c11895971c85190bf3e",
       "version_major": 2,
       "version_minor": 0
      },
      "text/plain": [
       "Loading experts:   0%|          | 0/32 [00:00<?, ?it/s]"
      ]
     },
     "metadata": {},
     "output_type": "display_data"
    },
    {
     "name": "stdout",
     "output_type": "stream",
     "text": [
      "Batch: ['How can one improve their time management skills?'] | Input_ids: torch.Size([1, 10])\n",
      "Total Latency :19.481911182403564 sec, Throughput:5.13296663062102, Expert Loads saved:2264 \n",
      "Total Latency :19.479918718338013 sec, Throughput:5.133491645725501, Expert Loads saved:4526 \n",
      "Total Latency :19.44551706314087 sec, Throughput:5.142573461805795, Expert Loads saved:6771 \n",
      "Total Latency :19.337899923324585 sec, Throughput:5.17119234231759, Expert Loads saved:9016 \n",
      "Total Latency :19.45466899871826 sec, Throughput:5.140154273844923, Expert Loads saved:11261 \n",
      "Total Latency :19.457120895385742 sec, Throughput:5.139506535302199, Expert Loads saved:13506 \n",
      "Total Latency :19.401081562042236 sec, Throughput:5.154351816944457, Expert Loads saved:15751 \n",
      "Total Latency :19.439672470092773 sec, Throughput:5.144119591204345, Expert Loads saved:17996 \n",
      "Total Latency :19.313832759857178 sec, Throughput:5.17763621769807, Expert Loads saved:20241 \n",
      "Total Latency :19.535656452178955 sec, Throughput:5.118845135549375, Expert Loads saved:22486 \n",
      "Total Latency :19.477108478546143 sec, Throughput:5.13423232766553, Expert Loads saved:24731 \n",
      "Total Latency :19.475491762161255 sec, Throughput:5.134658535004956, Expert Loads saved:26976 \n",
      "Total Latency :19.44155216217041 sec, Throughput:5.143622235810015, Expert Loads saved:29221 \n",
      "Total Latency :19.377274990081787 sec, Throughput:5.160684360994245, Expert Loads saved:31466 \n",
      "Total Latency :19.334070682525635 sec, Throughput:5.17221653122336, Expert Loads saved:33711 \n",
      "Total Latency :19.54939579963684 sec, Throughput:5.115247602785639, Expert Loads saved:35956 \n",
      "Total Latency :19.399070739746094 sec, Throughput:5.154886094369119, Expert Loads saved:38201 \n",
      "Total Latency :19.423978090286255 sec, Throughput:5.1482759883264615, Expert Loads saved:40446 \n",
      "Total Latency :19.435534477233887 sec, Throughput:5.145214818616722, Expert Loads saved:42691 \n",
      "Total Latency :19.310057401657104 sec, Throughput:5.1786485104605875, Expert Loads saved:44936 \n",
      "Total Latency :19.442473888397217 sec, Throughput:5.14337838764837, Expert Loads saved:47181 \n",
      "Total Latency :19.436543226242065 sec, Throughput:5.144947783975597, Expert Loads saved:49426 \n",
      "Total Latency :19.428710460662842 sec, Throughput:5.147021991113061, Expert Loads saved:51671 \n",
      "Total Latency :19.451435089111328 sec, Throughput:5.141008853170878, Expert Loads saved:53916 \n",
      "Total Latency :19.334991216659546 sec, Throughput:5.171970283277777, Expert Loads saved:56161 \n",
      "Total Latency :19.355204343795776 sec, Throughput:5.166569064513884, Expert Loads saved:58406 \n",
      "Total Latency :19.464853048324585 sec, Throughput:5.137464934964274, Expert Loads saved:60651 \n",
      "Total Latency :19.45132875442505 sec, Throughput:5.141036957552355, Expert Loads saved:62896 \n",
      "Total Latency :19.44775152206421 sec, Throughput:5.141982603312584, Expert Loads saved:65141 \n",
      "Total Latency :19.527406215667725 sec, Throughput:5.121007823341405, Expert Loads saved:67386 \n",
      "Total Latency :19.337327480316162 sec, Throughput:5.17134542515205, Expert Loads saved:69631 \n",
      "Total Latency :19.58468770980835 sec, Throughput:5.106029847487345, Expert Loads saved:71876 \n",
      "Total Latency :19.408073902130127 sec, Throughput:5.1524948072783525, Expert Loads saved:74121 \n",
      "Total Latency :19.4654860496521 sec, Throughput:5.1372978689010065, Expert Loads saved:76366 \n",
      "Total Latency :19.409980535507202 sec, Throughput:5.151988680105438, Expert Loads saved:78611 \n",
      "Total Latency :19.326763153076172 sec, Throughput:5.174172167783996, Expert Loads saved:80856 \n",
      "Total Latency :19.35196542739868 sec, Throughput:5.167433787289591, Expert Loads saved:83101 \n",
      "Total Latency :19.40666961669922 sec, Throughput:5.152867646798662, Expert Loads saved:85346 \n",
      "Total Latency :19.391326427459717 sec, Throughput:5.156944800763694, Expert Loads saved:87591 \n",
      "Total Latency :19.467477798461914 sec, Throughput:5.136772263734175, Expert Loads saved:89836 \n",
      "Total Latency :19.329036474227905 sec, Throughput:5.173563624515561, Expert Loads saved:92081 \n",
      "Total Latency :19.386852502822876 sec, Throughput:5.158134874417558, Expert Loads saved:94326 \n",
      "Total Latency :19.54813575744629 sec, Throughput:5.115577323628313, Expert Loads saved:96571 \n",
      "Total Latency :19.39699912071228 sec, Throughput:5.155436641393624, Expert Loads saved:98816 \n",
      "Total Latency :19.426504135131836 sec, Throughput:5.147606553623569, Expert Loads saved:101061 \n",
      "Total Latency :19.488174438476562 sec, Throughput:5.13131695919986, Expert Loads saved:103306 \n",
      "Total Latency :19.3702232837677 sec, Throughput:5.162563101882273, Expert Loads saved:105551 \n",
      "Total Latency :19.515562772750854 sec, Throughput:5.124115618106989, Expert Loads saved:107796 \n",
      "Total Latency :19.541146993637085 sec, Throughput:5.117406876503289, Expert Loads saved:110041 \n"
     ]
    },
    {
     "name": "stderr",
     "output_type": "stream",
     "text": [
      "16it [4:20:51, 934.64s/it]"
     ]
    },
    {
     "name": "stdout",
     "output_type": "stream",
     "text": [
      "Total Latency :19.437612056732178 sec, Throughput:5.144664874889568, Expert Loads saved:112286 \n",
      "Config: 15 Result: [{'latency': 19.481911182403564, 'throughput': 5.13296663062102, 'expert_loads_saved': 2264}, {'latency': 19.479918718338013, 'throughput': 5.133491645725501, 'expert_loads_saved': 4526}, {'latency': 19.44551706314087, 'throughput': 5.142573461805795, 'expert_loads_saved': 6771}, {'latency': 19.337899923324585, 'throughput': 5.17119234231759, 'expert_loads_saved': 9016}, {'latency': 19.45466899871826, 'throughput': 5.140154273844923, 'expert_loads_saved': 11261}, {'latency': 19.457120895385742, 'throughput': 5.139506535302199, 'expert_loads_saved': 13506}, {'latency': 19.401081562042236, 'throughput': 5.154351816944457, 'expert_loads_saved': 15751}, {'latency': 19.439672470092773, 'throughput': 5.144119591204345, 'expert_loads_saved': 17996}, {'latency': 19.313832759857178, 'throughput': 5.17763621769807, 'expert_loads_saved': 20241}, {'latency': 19.535656452178955, 'throughput': 5.118845135549375, 'expert_loads_saved': 22486}, {'latency': 19.477108478546143, 'throughput': 5.13423232766553, 'expert_loads_saved': 24731}, {'latency': 19.475491762161255, 'throughput': 5.134658535004956, 'expert_loads_saved': 26976}, {'latency': 19.44155216217041, 'throughput': 5.143622235810015, 'expert_loads_saved': 29221}, {'latency': 19.377274990081787, 'throughput': 5.160684360994245, 'expert_loads_saved': 31466}, {'latency': 19.334070682525635, 'throughput': 5.17221653122336, 'expert_loads_saved': 33711}, {'latency': 19.54939579963684, 'throughput': 5.115247602785639, 'expert_loads_saved': 35956}, {'latency': 19.399070739746094, 'throughput': 5.154886094369119, 'expert_loads_saved': 38201}, {'latency': 19.423978090286255, 'throughput': 5.1482759883264615, 'expert_loads_saved': 40446}, {'latency': 19.435534477233887, 'throughput': 5.145214818616722, 'expert_loads_saved': 42691}, {'latency': 19.310057401657104, 'throughput': 5.1786485104605875, 'expert_loads_saved': 44936}, {'latency': 19.442473888397217, 'throughput': 5.14337838764837, 'expert_loads_saved': 47181}, {'latency': 19.436543226242065, 'throughput': 5.144947783975597, 'expert_loads_saved': 49426}, {'latency': 19.428710460662842, 'throughput': 5.147021991113061, 'expert_loads_saved': 51671}, {'latency': 19.451435089111328, 'throughput': 5.141008853170878, 'expert_loads_saved': 53916}, {'latency': 19.334991216659546, 'throughput': 5.171970283277777, 'expert_loads_saved': 56161}, {'latency': 19.355204343795776, 'throughput': 5.166569064513884, 'expert_loads_saved': 58406}, {'latency': 19.464853048324585, 'throughput': 5.137464934964274, 'expert_loads_saved': 60651}, {'latency': 19.45132875442505, 'throughput': 5.141036957552355, 'expert_loads_saved': 62896}, {'latency': 19.44775152206421, 'throughput': 5.141982603312584, 'expert_loads_saved': 65141}, {'latency': 19.527406215667725, 'throughput': 5.121007823341405, 'expert_loads_saved': 67386}, {'latency': 19.337327480316162, 'throughput': 5.17134542515205, 'expert_loads_saved': 69631}, {'latency': 19.58468770980835, 'throughput': 5.106029847487345, 'expert_loads_saved': 71876}, {'latency': 19.408073902130127, 'throughput': 5.1524948072783525, 'expert_loads_saved': 74121}, {'latency': 19.4654860496521, 'throughput': 5.1372978689010065, 'expert_loads_saved': 76366}, {'latency': 19.409980535507202, 'throughput': 5.151988680105438, 'expert_loads_saved': 78611}, {'latency': 19.326763153076172, 'throughput': 5.174172167783996, 'expert_loads_saved': 80856}, {'latency': 19.35196542739868, 'throughput': 5.167433787289591, 'expert_loads_saved': 83101}, {'latency': 19.40666961669922, 'throughput': 5.152867646798662, 'expert_loads_saved': 85346}, {'latency': 19.391326427459717, 'throughput': 5.156944800763694, 'expert_loads_saved': 87591}, {'latency': 19.467477798461914, 'throughput': 5.136772263734175, 'expert_loads_saved': 89836}, {'latency': 19.329036474227905, 'throughput': 5.173563624515561, 'expert_loads_saved': 92081}, {'latency': 19.386852502822876, 'throughput': 5.158134874417558, 'expert_loads_saved': 94326}, {'latency': 19.54813575744629, 'throughput': 5.115577323628313, 'expert_loads_saved': 96571}, {'latency': 19.39699912071228, 'throughput': 5.155436641393624, 'expert_loads_saved': 98816}, {'latency': 19.426504135131836, 'throughput': 5.147606553623569, 'expert_loads_saved': 101061}, {'latency': 19.488174438476562, 'throughput': 5.13131695919986, 'expert_loads_saved': 103306}, {'latency': 19.3702232837677, 'throughput': 5.162563101882273, 'expert_loads_saved': 105551}, {'latency': 19.515562772750854, 'throughput': 5.124115618106989, 'expert_loads_saved': 107796}, {'latency': 19.541146993637085, 'throughput': 5.117406876503289, 'expert_loads_saved': 110041}, {'latency': 19.437612056732178, 'throughput': 5.144664874889568, 'expert_loads_saved': 112286}]\n",
      "Running with configs: 3, 4, 2, BIASING, 0.05, 50, 1\n"
     ]
    },
    {
     "data": {
      "application/vnd.jupyter.widget-view+json": {
       "model_id": "fa270359a0314a859ca036229356db5f",
       "version_major": 2,
       "version_minor": 0
      },
      "text/plain": [
       "Loading experts:   0%|          | 0/32 [00:00<?, ?it/s]"
      ]
     },
     "metadata": {},
     "output_type": "display_data"
    },
    {
     "name": "stdout",
     "output_type": "stream",
     "text": [
      "Batch: ['Can you explain the theory of relativity in simple terms?'] | Input_ids: torch.Size([1, 13])\n",
      "Total Latency :16.492210865020752 sec, Throughput:6.063468434792789, Expert Loads saved:776 \n",
      "Total Latency :16.561957359313965 sec, Throughput:6.037933671152879, Expert Loads saved:1588 \n",
      "Total Latency :16.555693864822388 sec, Throughput:6.040217994878514, Expert Loads saved:2397 \n",
      "Total Latency :16.560113191604614 sec, Throughput:6.038606067662413, Expert Loads saved:3149 \n",
      "Total Latency :16.514193296432495 sec, Throughput:6.055397209235928, Expert Loads saved:3926 \n",
      "Total Latency :16.529194116592407 sec, Throughput:6.049901725070647, Expert Loads saved:4741 \n",
      "Total Latency :16.6395206451416 sec, Throughput:6.009788510896674, Expert Loads saved:5536 \n",
      "Total Latency :16.467782497406006 sec, Throughput:6.072463005614261, Expert Loads saved:6357 \n",
      "Total Latency :16.473708629608154 sec, Throughput:6.070278541910731, Expert Loads saved:7166 \n",
      "Total Latency :16.646726608276367 sec, Throughput:6.007187019595931, Expert Loads saved:7966 \n",
      "Total Latency :16.742944717407227 sec, Throughput:5.972665005339978, Expert Loads saved:8788 \n",
      "Total Latency :16.940842866897583 sec, Throughput:5.902894016885078, Expert Loads saved:9553 \n",
      "Total Latency :16.855968713760376 sec, Throughput:5.932616611845332, Expert Loads saved:10310 \n",
      "Total Latency :16.522698402404785 sec, Throughput:6.052280176308584, Expert Loads saved:11087 \n",
      "Total Latency :16.614651203155518 sec, Throughput:6.018784190968007, Expert Loads saved:11949 \n",
      "Total Latency :16.782905101776123 sec, Throughput:5.958443987710869, Expert Loads saved:12744 \n",
      "Total Latency :16.6916024684906 sec, Throughput:5.991036522033997, Expert Loads saved:13493 \n",
      "Total Latency :16.64656162261963 sec, Throughput:6.0072465573982745, Expert Loads saved:14301 \n",
      "Total Latency :16.615477085113525 sec, Throughput:6.018485023797122, Expert Loads saved:15107 \n",
      "Total Latency :16.515655517578125 sec, Throughput:6.054861091863226, Expert Loads saved:15913 \n",
      "Total Latency :16.633854150772095 sec, Throughput:6.011835807479308, Expert Loads saved:16665 \n",
      "Total Latency :16.69098401069641 sec, Throughput:5.991258510337978, Expert Loads saved:17442 \n",
      "Total Latency :16.577514171600342 sec, Throughput:6.032267501922233, Expert Loads saved:18257 \n",
      "Total Latency :16.687859773635864 sec, Throughput:5.9923801707624555, Expert Loads saved:19052 \n",
      "Total Latency :16.559417247772217 sec, Throughput:6.0388598525985735, Expert Loads saved:19873 \n",
      "Total Latency :16.62252402305603 sec, Throughput:6.015933552647988, Expert Loads saved:20682 \n",
      "Total Latency :16.63410973548889 sec, Throughput:6.011743435036375, Expert Loads saved:21482 \n",
      "Total Latency :16.88019561767578 sec, Throughput:5.924101963325998, Expert Loads saved:22304 \n",
      "Total Latency :16.82595992088318 sec, Throughput:5.943197325454648, Expert Loads saved:23069 \n",
      "Total Latency :16.891204357147217 sec, Throughput:5.920240965984569, Expert Loads saved:23826 \n",
      "Total Latency :16.59782838821411 sec, Throughput:6.02488456086271, Expert Loads saved:24603 \n",
      "Total Latency :16.95349359512329 sec, Throughput:5.898489266469845, Expert Loads saved:25465 \n",
      "Total Latency :16.81833243370056 sec, Throughput:5.945892697400848, Expert Loads saved:26260 \n",
      "Total Latency :16.77168846130371 sec, Throughput:5.962428900985365, Expert Loads saved:27009 \n",
      "Total Latency :16.659592151641846 sec, Throughput:6.002547906921284, Expert Loads saved:27817 \n",
      "Total Latency :16.668637990951538 sec, Throughput:5.999290407187699, Expert Loads saved:28623 \n",
      "Total Latency :16.678280353546143 sec, Throughput:5.995821984053528, Expert Loads saved:29429 \n",
      "Total Latency :16.83507204055786 sec, Throughput:5.9399805215616, Expert Loads saved:30181 \n",
      "Total Latency :16.738672733306885 sec, Throughput:5.974189327509723, Expert Loads saved:30958 \n",
      "Total Latency :16.65168285369873 sec, Throughput:6.005399026548698, Expert Loads saved:31773 \n",
      "Total Latency :16.750325202941895 sec, Throughput:5.970033344930926, Expert Loads saved:32568 \n",
      "Total Latency :16.67595410346985 sec, Throughput:5.996658384853224, Expert Loads saved:33389 \n",
      "Total Latency :16.641227960586548 sec, Throughput:6.009171933516097, Expert Loads saved:34198 \n",
      "Total Latency :16.857101917266846 sec, Throughput:5.932217797032437, Expert Loads saved:34998 \n",
      "Total Latency :16.961211442947388 sec, Throughput:5.895805281148171, Expert Loads saved:35820 \n",
      "Total Latency :16.75686764717102 sec, Throughput:5.967702443295392, Expert Loads saved:36585 \n",
      "Total Latency :16.93071150779724 sec, Throughput:5.90642631610291, Expert Loads saved:37342 \n",
      "Total Latency :16.688682079315186 sec, Throughput:5.992084906689256, Expert Loads saved:38119 \n",
      "Total Latency :16.750510454177856 sec, Throughput:5.96996731971582, Expert Loads saved:38981 \n"
     ]
    },
    {
     "name": "stderr",
     "output_type": "stream",
     "text": [
      "17it [4:35:06, 910.57s/it]"
     ]
    },
    {
     "name": "stdout",
     "output_type": "stream",
     "text": [
      "Total Latency :16.89674711227417 sec, Throughput:5.918298908986913, Expert Loads saved:39776 \n",
      "Config: 16 Result: [{'latency': 16.492210865020752, 'throughput': 6.063468434792789, 'expert_loads_saved': 776}, {'latency': 16.561957359313965, 'throughput': 6.037933671152879, 'expert_loads_saved': 1588}, {'latency': 16.555693864822388, 'throughput': 6.040217994878514, 'expert_loads_saved': 2397}, {'latency': 16.560113191604614, 'throughput': 6.038606067662413, 'expert_loads_saved': 3149}, {'latency': 16.514193296432495, 'throughput': 6.055397209235928, 'expert_loads_saved': 3926}, {'latency': 16.529194116592407, 'throughput': 6.049901725070647, 'expert_loads_saved': 4741}, {'latency': 16.6395206451416, 'throughput': 6.009788510896674, 'expert_loads_saved': 5536}, {'latency': 16.467782497406006, 'throughput': 6.072463005614261, 'expert_loads_saved': 6357}, {'latency': 16.473708629608154, 'throughput': 6.070278541910731, 'expert_loads_saved': 7166}, {'latency': 16.646726608276367, 'throughput': 6.007187019595931, 'expert_loads_saved': 7966}, {'latency': 16.742944717407227, 'throughput': 5.972665005339978, 'expert_loads_saved': 8788}, {'latency': 16.940842866897583, 'throughput': 5.902894016885078, 'expert_loads_saved': 9553}, {'latency': 16.855968713760376, 'throughput': 5.932616611845332, 'expert_loads_saved': 10310}, {'latency': 16.522698402404785, 'throughput': 6.052280176308584, 'expert_loads_saved': 11087}, {'latency': 16.614651203155518, 'throughput': 6.018784190968007, 'expert_loads_saved': 11949}, {'latency': 16.782905101776123, 'throughput': 5.958443987710869, 'expert_loads_saved': 12744}, {'latency': 16.6916024684906, 'throughput': 5.991036522033997, 'expert_loads_saved': 13493}, {'latency': 16.64656162261963, 'throughput': 6.0072465573982745, 'expert_loads_saved': 14301}, {'latency': 16.615477085113525, 'throughput': 6.018485023797122, 'expert_loads_saved': 15107}, {'latency': 16.515655517578125, 'throughput': 6.054861091863226, 'expert_loads_saved': 15913}, {'latency': 16.633854150772095, 'throughput': 6.011835807479308, 'expert_loads_saved': 16665}, {'latency': 16.69098401069641, 'throughput': 5.991258510337978, 'expert_loads_saved': 17442}, {'latency': 16.577514171600342, 'throughput': 6.032267501922233, 'expert_loads_saved': 18257}, {'latency': 16.687859773635864, 'throughput': 5.9923801707624555, 'expert_loads_saved': 19052}, {'latency': 16.559417247772217, 'throughput': 6.0388598525985735, 'expert_loads_saved': 19873}, {'latency': 16.62252402305603, 'throughput': 6.015933552647988, 'expert_loads_saved': 20682}, {'latency': 16.63410973548889, 'throughput': 6.011743435036375, 'expert_loads_saved': 21482}, {'latency': 16.88019561767578, 'throughput': 5.924101963325998, 'expert_loads_saved': 22304}, {'latency': 16.82595992088318, 'throughput': 5.943197325454648, 'expert_loads_saved': 23069}, {'latency': 16.891204357147217, 'throughput': 5.920240965984569, 'expert_loads_saved': 23826}, {'latency': 16.59782838821411, 'throughput': 6.02488456086271, 'expert_loads_saved': 24603}, {'latency': 16.95349359512329, 'throughput': 5.898489266469845, 'expert_loads_saved': 25465}, {'latency': 16.81833243370056, 'throughput': 5.945892697400848, 'expert_loads_saved': 26260}, {'latency': 16.77168846130371, 'throughput': 5.962428900985365, 'expert_loads_saved': 27009}, {'latency': 16.659592151641846, 'throughput': 6.002547906921284, 'expert_loads_saved': 27817}, {'latency': 16.668637990951538, 'throughput': 5.999290407187699, 'expert_loads_saved': 28623}, {'latency': 16.678280353546143, 'throughput': 5.995821984053528, 'expert_loads_saved': 29429}, {'latency': 16.83507204055786, 'throughput': 5.9399805215616, 'expert_loads_saved': 30181}, {'latency': 16.738672733306885, 'throughput': 5.974189327509723, 'expert_loads_saved': 30958}, {'latency': 16.65168285369873, 'throughput': 6.005399026548698, 'expert_loads_saved': 31773}, {'latency': 16.750325202941895, 'throughput': 5.970033344930926, 'expert_loads_saved': 32568}, {'latency': 16.67595410346985, 'throughput': 5.996658384853224, 'expert_loads_saved': 33389}, {'latency': 16.641227960586548, 'throughput': 6.009171933516097, 'expert_loads_saved': 34198}, {'latency': 16.857101917266846, 'throughput': 5.932217797032437, 'expert_loads_saved': 34998}, {'latency': 16.961211442947388, 'throughput': 5.895805281148171, 'expert_loads_saved': 35820}, {'latency': 16.75686764717102, 'throughput': 5.967702443295392, 'expert_loads_saved': 36585}, {'latency': 16.93071150779724, 'throughput': 5.90642631610291, 'expert_loads_saved': 37342}, {'latency': 16.688682079315186, 'throughput': 5.992084906689256, 'expert_loads_saved': 38119}, {'latency': 16.750510454177856, 'throughput': 5.96996731971582, 'expert_loads_saved': 38981}, {'latency': 16.89674711227417, 'throughput': 5.918298908986913, 'expert_loads_saved': 39776}]\n",
      "Running with configs: 4, 4, 2, BIASING, 0.05, 50, 1\n"
     ]
    },
    {
     "data": {
      "application/vnd.jupyter.widget-view+json": {
       "model_id": "850db5e798924b96a666708c70f2bb77",
       "version_major": 2,
       "version_minor": 0
      },
      "text/plain": [
       "Loading experts:   0%|          | 0/32 [00:00<?, ?it/s]"
      ]
     },
     "metadata": {},
     "output_type": "display_data"
    },
    {
     "name": "stdout",
     "output_type": "stream",
     "text": [
      "Batch: ['What are the health benefits of daily exercise?'] | Input_ids: torch.Size([1, 10])\n",
      "Total Latency :17.502889156341553 sec, Throughput:5.713342472020885, Expert Loads saved:897 \n",
      "Total Latency :17.369927644729614 sec, Throughput:5.75707637045581, Expert Loads saved:1824 \n",
      "Total Latency :17.93077516555786 sec, Throughput:5.577003731109402, Expert Loads saved:2789 \n",
      "Total Latency :17.599050521850586 sec, Throughput:5.68212471893539, Expert Loads saved:3653 \n",
      "Total Latency :17.71922755241394 sec, Throughput:5.643586872181498, Expert Loads saved:4567 \n",
      "Total Latency :17.697823524475098 sec, Throughput:5.650412315486456, Expert Loads saved:5512 \n",
      "Total Latency :17.614876747131348 sec, Throughput:5.677019569057467, Expert Loads saved:6436 \n",
      "Total Latency :17.459588527679443 sec, Throughput:5.727511839208906, Expert Loads saved:7336 \n",
      "Total Latency :17.663245916366577 sec, Throughput:5.661473574760178, Expert Loads saved:8215 \n",
      "Total Latency :17.56931471824646 sec, Throughput:5.691741630431713, Expert Loads saved:9154 \n",
      "Total Latency :17.67494773864746 sec, Throughput:5.657725356739997, Expert Loads saved:10135 \n",
      "Total Latency :17.730735540390015 sec, Throughput:5.639923948569612, Expert Loads saved:11074 \n",
      "Total Latency :17.965357780456543 sec, Throughput:5.566268215865098, Expert Loads saved:12008 \n",
      "Total Latency :17.463207721710205 sec, Throughput:5.726324830671304, Expert Loads saved:12962 \n",
      "Total Latency :17.759316444396973 sec, Throughput:5.630847353449226, Expert Loads saved:13870 \n",
      "Total Latency :17.693135023117065 sec, Throughput:5.651909617450182, Expert Loads saved:14803 \n",
      "Total Latency :17.56294083595276 sec, Throughput:5.693807257796594, Expert Loads saved:15708 \n",
      "Total Latency :17.689080238342285 sec, Throughput:5.653205178143926, Expert Loads saved:16594 \n",
      "Total Latency :17.606867790222168 sec, Throughput:5.679601913949408, Expert Loads saved:17531 \n",
      "Total Latency :17.8057758808136 sec, Throughput:5.616155154898575, Expert Loads saved:18462 \n",
      "Total Latency :17.569685697555542 sec, Throughput:5.6916214507988, Expert Loads saved:19437 \n",
      "Total Latency :17.748921394348145 sec, Throughput:5.634145184272627, Expert Loads saved:20432 \n",
      "Total Latency :17.771845817565918 sec, Throughput:5.62687753576833, Expert Loads saved:21401 \n",
      "Total Latency :17.523178339004517 sec, Throughput:5.706727288017828, Expert Loads saved:22300 \n",
      "Total Latency :17.729604959487915 sec, Throughput:5.640283595065973, Expert Loads saved:23273 \n",
      "Total Latency :17.663767337799072 sec, Throughput:5.661306452220296, Expert Loads saved:24199 \n",
      "Total Latency :17.66347050666809 sec, Throughput:5.661401589356364, Expert Loads saved:25176 \n",
      "Total Latency :17.65753746032715 sec, Throughput:5.663303856762553, Expert Loads saved:26043 \n",
      "Total Latency :17.691648960113525 sec, Throughput:5.6523843665140365, Expert Loads saved:26966 \n",
      "Total Latency :17.67299175262451 sec, Throughput:5.658351534348992, Expert Loads saved:27872 \n",
      "Total Latency :17.68953800201416 sec, Throughput:5.653058886479332, Expert Loads saved:28851 \n",
      "Total Latency :17.712876081466675 sec, Throughput:5.645610545688395, Expert Loads saved:29840 \n",
      "Total Latency :17.53436827659607 sec, Throughput:5.70308541616949, Expert Loads saved:30763 \n",
      "Total Latency :17.76823925971985 sec, Throughput:5.628019666906303, Expert Loads saved:31735 \n",
      "Total Latency :17.917665481567383 sec, Throughput:5.581084215623625, Expert Loads saved:32732 \n",
      "Total Latency :17.78341293334961 sec, Throughput:5.623217566548651, Expert Loads saved:33718 \n",
      "Total Latency :17.98830771446228 sec, Throughput:5.559166631311392, Expert Loads saved:34680 \n",
      "Total Latency :17.764524936676025 sec, Throughput:5.629196410062362, Expert Loads saved:35590 \n",
      "Total Latency :17.58453893661499 sec, Throughput:5.686813874418815, Expert Loads saved:36473 \n",
      "Total Latency :17.49991536140442 sec, Throughput:5.714313351511816, Expert Loads saved:37473 \n",
      "Total Latency :17.74766182899475 sec, Throughput:5.634545043935183, Expert Loads saved:38397 \n",
      "Total Latency :17.640394687652588 sec, Throughput:5.668807403158338, Expert Loads saved:39327 \n",
      "Total Latency :17.71199893951416 sec, Throughput:5.645890130272501, Expert Loads saved:40242 \n",
      "Total Latency :17.886516332626343 sec, Throughput:5.590803605372418, Expert Loads saved:41236 \n",
      "Total Latency :17.826066732406616 sec, Throughput:5.609762461968494, Expert Loads saved:42094 \n",
      "Total Latency :17.64306330680847 sec, Throughput:5.667949962034649, Expert Loads saved:43035 \n",
      "Total Latency :17.6910297870636 sec, Throughput:5.652582195815649, Expert Loads saved:43978 \n",
      "Total Latency :17.722477912902832 sec, Throughput:5.642551819866854, Expert Loads saved:44922 \n",
      "Total Latency :17.706543922424316 sec, Throughput:5.647629511333139, Expert Loads saved:45866 \n"
     ]
    },
    {
     "name": "stderr",
     "output_type": "stream",
     "text": [
      "18it [4:50:07, 907.63s/it]"
     ]
    },
    {
     "name": "stdout",
     "output_type": "stream",
     "text": [
      "Total Latency :17.730583667755127 sec, Throughput:5.639972257758226, Expert Loads saved:46810 \n",
      "Config: 17 Result: [{'latency': 17.502889156341553, 'throughput': 5.713342472020885, 'expert_loads_saved': 897}, {'latency': 17.369927644729614, 'throughput': 5.75707637045581, 'expert_loads_saved': 1824}, {'latency': 17.93077516555786, 'throughput': 5.577003731109402, 'expert_loads_saved': 2789}, {'latency': 17.599050521850586, 'throughput': 5.68212471893539, 'expert_loads_saved': 3653}, {'latency': 17.71922755241394, 'throughput': 5.643586872181498, 'expert_loads_saved': 4567}, {'latency': 17.697823524475098, 'throughput': 5.650412315486456, 'expert_loads_saved': 5512}, {'latency': 17.614876747131348, 'throughput': 5.677019569057467, 'expert_loads_saved': 6436}, {'latency': 17.459588527679443, 'throughput': 5.727511839208906, 'expert_loads_saved': 7336}, {'latency': 17.663245916366577, 'throughput': 5.661473574760178, 'expert_loads_saved': 8215}, {'latency': 17.56931471824646, 'throughput': 5.691741630431713, 'expert_loads_saved': 9154}, {'latency': 17.67494773864746, 'throughput': 5.657725356739997, 'expert_loads_saved': 10135}, {'latency': 17.730735540390015, 'throughput': 5.639923948569612, 'expert_loads_saved': 11074}, {'latency': 17.965357780456543, 'throughput': 5.566268215865098, 'expert_loads_saved': 12008}, {'latency': 17.463207721710205, 'throughput': 5.726324830671304, 'expert_loads_saved': 12962}, {'latency': 17.759316444396973, 'throughput': 5.630847353449226, 'expert_loads_saved': 13870}, {'latency': 17.693135023117065, 'throughput': 5.651909617450182, 'expert_loads_saved': 14803}, {'latency': 17.56294083595276, 'throughput': 5.693807257796594, 'expert_loads_saved': 15708}, {'latency': 17.689080238342285, 'throughput': 5.653205178143926, 'expert_loads_saved': 16594}, {'latency': 17.606867790222168, 'throughput': 5.679601913949408, 'expert_loads_saved': 17531}, {'latency': 17.8057758808136, 'throughput': 5.616155154898575, 'expert_loads_saved': 18462}, {'latency': 17.569685697555542, 'throughput': 5.6916214507988, 'expert_loads_saved': 19437}, {'latency': 17.748921394348145, 'throughput': 5.634145184272627, 'expert_loads_saved': 20432}, {'latency': 17.771845817565918, 'throughput': 5.62687753576833, 'expert_loads_saved': 21401}, {'latency': 17.523178339004517, 'throughput': 5.706727288017828, 'expert_loads_saved': 22300}, {'latency': 17.729604959487915, 'throughput': 5.640283595065973, 'expert_loads_saved': 23273}, {'latency': 17.663767337799072, 'throughput': 5.661306452220296, 'expert_loads_saved': 24199}, {'latency': 17.66347050666809, 'throughput': 5.661401589356364, 'expert_loads_saved': 25176}, {'latency': 17.65753746032715, 'throughput': 5.663303856762553, 'expert_loads_saved': 26043}, {'latency': 17.691648960113525, 'throughput': 5.6523843665140365, 'expert_loads_saved': 26966}, {'latency': 17.67299175262451, 'throughput': 5.658351534348992, 'expert_loads_saved': 27872}, {'latency': 17.68953800201416, 'throughput': 5.653058886479332, 'expert_loads_saved': 28851}, {'latency': 17.712876081466675, 'throughput': 5.645610545688395, 'expert_loads_saved': 29840}, {'latency': 17.53436827659607, 'throughput': 5.70308541616949, 'expert_loads_saved': 30763}, {'latency': 17.76823925971985, 'throughput': 5.628019666906303, 'expert_loads_saved': 31735}, {'latency': 17.917665481567383, 'throughput': 5.581084215623625, 'expert_loads_saved': 32732}, {'latency': 17.78341293334961, 'throughput': 5.623217566548651, 'expert_loads_saved': 33718}, {'latency': 17.98830771446228, 'throughput': 5.559166631311392, 'expert_loads_saved': 34680}, {'latency': 17.764524936676025, 'throughput': 5.629196410062362, 'expert_loads_saved': 35590}, {'latency': 17.58453893661499, 'throughput': 5.686813874418815, 'expert_loads_saved': 36473}, {'latency': 17.49991536140442, 'throughput': 5.714313351511816, 'expert_loads_saved': 37473}, {'latency': 17.74766182899475, 'throughput': 5.634545043935183, 'expert_loads_saved': 38397}, {'latency': 17.640394687652588, 'throughput': 5.668807403158338, 'expert_loads_saved': 39327}, {'latency': 17.71199893951416, 'throughput': 5.645890130272501, 'expert_loads_saved': 40242}, {'latency': 17.886516332626343, 'throughput': 5.590803605372418, 'expert_loads_saved': 41236}, {'latency': 17.826066732406616, 'throughput': 5.609762461968494, 'expert_loads_saved': 42094}, {'latency': 17.64306330680847, 'throughput': 5.667949962034649, 'expert_loads_saved': 43035}, {'latency': 17.6910297870636, 'throughput': 5.652582195815649, 'expert_loads_saved': 43978}, {'latency': 17.722477912902832, 'throughput': 5.642551819866854, 'expert_loads_saved': 44922}, {'latency': 17.706543922424316, 'throughput': 5.647629511333139, 'expert_loads_saved': 45866}, {'latency': 17.730583667755127, 'throughput': 5.639972257758226, 'expert_loads_saved': 46810}]\n",
      "Running with configs: 5, 4, 2, BIASING, 0.05, 50, 1\n"
     ]
    },
    {
     "data": {
      "application/vnd.jupyter.widget-view+json": {
       "model_id": "784c9eec9c4c42a09c9d0d64bf3882a2",
       "version_major": 2,
       "version_minor": 0
      },
      "text/plain": [
       "Loading experts:   0%|          | 0/32 [00:00<?, ?it/s]"
      ]
     },
     "metadata": {},
     "output_type": "display_data"
    },
    {
     "name": "stdout",
     "output_type": "stream",
     "text": [
      "Batch: ['What are the main causes of climate change?'] | Input_ids: torch.Size([1, 10])\n",
      "Total Latency :20.062532663345337 sec, Throughput:4.984415560987575, Expert Loads saved:1087 \n",
      "Total Latency :19.76108431816101 sec, Throughput:5.060451055719503, Expert Loads saved:2153 \n",
      "Total Latency :19.920937299728394 sec, Throughput:5.019844121559653, Expert Loads saved:3247 \n",
      "Total Latency :19.56750988960266 sec, Throughput:5.110512301472541, Expert Loads saved:4314 \n",
      "Total Latency :19.965257167816162 sec, Throughput:5.0087008226069445, Expert Loads saved:5319 \n",
      "Total Latency :19.542032957077026 sec, Throughput:5.117174872217459, Expert Loads saved:6343 \n",
      "Total Latency :19.754781246185303 sec, Throughput:5.062065671788203, Expert Loads saved:7326 \n",
      "Total Latency :19.01836371421814 sec, Throughput:5.258075905091664, Expert Loads saved:8420 \n",
      "Total Latency :19.419079065322876 sec, Throughput:5.149574790010122, Expert Loads saved:9533 \n",
      "Total Latency :19.77348804473877 sec, Throughput:5.057276681470849, Expert Loads saved:10628 \n",
      "Total Latency :19.721880197525024 sec, Throughput:5.070510468497288, Expert Loads saved:11683 \n",
      "Total Latency :19.670439958572388 sec, Throughput:5.083770378832831, Expert Loads saved:12773 \n",
      "Total Latency :19.642638683319092 sec, Throughput:5.09096571047361, Expert Loads saved:13836 \n",
      "Total Latency :19.7607684135437 sec, Throughput:5.060531954388052, Expert Loads saved:14926 \n",
      "Total Latency :19.654609203338623 sec, Throughput:5.087865088816598, Expert Loads saved:15989 \n",
      "Total Latency :19.746835470199585 sec, Throughput:5.064102557136932, Expert Loads saved:17079 \n",
      "Total Latency :19.652153730392456 sec, Throughput:5.08850080107749, Expert Loads saved:18142 \n",
      "Total Latency :19.674983739852905 sec, Throughput:5.082596322427641, Expert Loads saved:19232 \n",
      "Total Latency :19.66252040863037 sec, Throughput:5.085817988832576, Expert Loads saved:20295 \n",
      "Total Latency :19.805288553237915 sec, Throughput:5.049156427647769, Expert Loads saved:21385 \n",
      "Total Latency :19.875930786132812 sec, Throughput:5.0312109191771155, Expert Loads saved:22448 \n",
      "Total Latency :19.76606512069702 sec, Throughput:5.059175885001518, Expert Loads saved:23538 \n",
      "Total Latency :19.695424795150757 sec, Throughput:5.077321308886984, Expert Loads saved:24601 \n",
      "Total Latency :19.724838733673096 sec, Throughput:5.069749940681939, Expert Loads saved:25691 \n",
      "Total Latency :19.677331686019897 sec, Throughput:5.081989854907347, Expert Loads saved:26754 \n",
      "Total Latency :19.777231216430664 sec, Throughput:5.056319507298944, Expert Loads saved:27844 \n",
      "Total Latency :19.74723505973816 sec, Throughput:5.064000083935091, Expert Loads saved:28907 \n",
      "Total Latency :19.880642890930176 sec, Throughput:5.030018422876123, Expert Loads saved:29997 \n",
      "Total Latency :19.591487169265747 sec, Throughput:5.104257738885466, Expert Loads saved:31060 \n",
      "Total Latency :19.67702007293701 sec, Throughput:5.082070335311393, Expert Loads saved:32150 \n",
      "Total Latency :19.71031427383423 sec, Throughput:5.073485821215528, Expert Loads saved:33213 \n",
      "Total Latency :19.713319778442383 sec, Throughput:5.072712314511105, Expert Loads saved:34303 \n",
      "Total Latency :19.63062834739685 sec, Throughput:5.094080445634877, Expert Loads saved:35366 \n",
      "Total Latency :19.72307825088501 sec, Throughput:5.0702024667733, Expert Loads saved:36456 \n",
      "Total Latency :19.720852613449097 sec, Throughput:5.070774674914545, Expert Loads saved:37519 \n",
      "Total Latency :19.681732416152954 sec, Throughput:5.080853549148408, Expert Loads saved:38609 \n",
      "Total Latency :19.61398434638977 sec, Throughput:5.098403171633326, Expert Loads saved:39672 \n",
      "Total Latency :19.80380415916443 sec, Throughput:5.049534887150654, Expert Loads saved:40762 \n",
      "Total Latency :19.720831871032715 sec, Throughput:5.070780008367027, Expert Loads saved:41825 \n",
      "Total Latency :19.842906713485718 sec, Throughput:5.0395842425665185, Expert Loads saved:42915 \n",
      "Total Latency :19.888864994049072 sec, Throughput:5.027939001542868, Expert Loads saved:43978 \n",
      "Total Latency :19.704427242279053 sec, Throughput:5.0750016110812775, Expert Loads saved:45068 \n",
      "Total Latency :19.774057865142822 sec, Throughput:5.057130948133682, Expert Loads saved:46131 \n",
      "Total Latency :19.831135511398315 sec, Throughput:5.042575597475149, Expert Loads saved:47221 \n",
      "Total Latency :19.778596878051758 sec, Throughput:5.055970381345386, Expert Loads saved:48284 \n",
      "Total Latency :19.84668803215027 sec, Throughput:5.0386240685603, Expert Loads saved:49374 \n",
      "Total Latency :19.686518907546997 sec, Throughput:5.07961821333807, Expert Loads saved:50437 \n",
      "Total Latency :19.81047296524048 sec, Throughput:5.04783506054905, Expert Loads saved:51527 \n",
      "Total Latency :19.766749382019043 sec, Throughput:5.059000752595451, Expert Loads saved:52590 \n"
     ]
    },
    {
     "name": "stderr",
     "output_type": "stream",
     "text": [
      "19it [5:06:50, 936.44s/it]"
     ]
    },
    {
     "name": "stdout",
     "output_type": "stream",
     "text": [
      "Total Latency :19.82347822189331 sec, Throughput:5.044523412120416, Expert Loads saved:53680 \n",
      "Config: 18 Result: [{'latency': 20.062532663345337, 'throughput': 4.984415560987575, 'expert_loads_saved': 1087}, {'latency': 19.76108431816101, 'throughput': 5.060451055719503, 'expert_loads_saved': 2153}, {'latency': 19.920937299728394, 'throughput': 5.019844121559653, 'expert_loads_saved': 3247}, {'latency': 19.56750988960266, 'throughput': 5.110512301472541, 'expert_loads_saved': 4314}, {'latency': 19.965257167816162, 'throughput': 5.0087008226069445, 'expert_loads_saved': 5319}, {'latency': 19.542032957077026, 'throughput': 5.117174872217459, 'expert_loads_saved': 6343}, {'latency': 19.754781246185303, 'throughput': 5.062065671788203, 'expert_loads_saved': 7326}, {'latency': 19.01836371421814, 'throughput': 5.258075905091664, 'expert_loads_saved': 8420}, {'latency': 19.419079065322876, 'throughput': 5.149574790010122, 'expert_loads_saved': 9533}, {'latency': 19.77348804473877, 'throughput': 5.057276681470849, 'expert_loads_saved': 10628}, {'latency': 19.721880197525024, 'throughput': 5.070510468497288, 'expert_loads_saved': 11683}, {'latency': 19.670439958572388, 'throughput': 5.083770378832831, 'expert_loads_saved': 12773}, {'latency': 19.642638683319092, 'throughput': 5.09096571047361, 'expert_loads_saved': 13836}, {'latency': 19.7607684135437, 'throughput': 5.060531954388052, 'expert_loads_saved': 14926}, {'latency': 19.654609203338623, 'throughput': 5.087865088816598, 'expert_loads_saved': 15989}, {'latency': 19.746835470199585, 'throughput': 5.064102557136932, 'expert_loads_saved': 17079}, {'latency': 19.652153730392456, 'throughput': 5.08850080107749, 'expert_loads_saved': 18142}, {'latency': 19.674983739852905, 'throughput': 5.082596322427641, 'expert_loads_saved': 19232}, {'latency': 19.66252040863037, 'throughput': 5.085817988832576, 'expert_loads_saved': 20295}, {'latency': 19.805288553237915, 'throughput': 5.049156427647769, 'expert_loads_saved': 21385}, {'latency': 19.875930786132812, 'throughput': 5.0312109191771155, 'expert_loads_saved': 22448}, {'latency': 19.76606512069702, 'throughput': 5.059175885001518, 'expert_loads_saved': 23538}, {'latency': 19.695424795150757, 'throughput': 5.077321308886984, 'expert_loads_saved': 24601}, {'latency': 19.724838733673096, 'throughput': 5.069749940681939, 'expert_loads_saved': 25691}, {'latency': 19.677331686019897, 'throughput': 5.081989854907347, 'expert_loads_saved': 26754}, {'latency': 19.777231216430664, 'throughput': 5.056319507298944, 'expert_loads_saved': 27844}, {'latency': 19.74723505973816, 'throughput': 5.064000083935091, 'expert_loads_saved': 28907}, {'latency': 19.880642890930176, 'throughput': 5.030018422876123, 'expert_loads_saved': 29997}, {'latency': 19.591487169265747, 'throughput': 5.104257738885466, 'expert_loads_saved': 31060}, {'latency': 19.67702007293701, 'throughput': 5.082070335311393, 'expert_loads_saved': 32150}, {'latency': 19.71031427383423, 'throughput': 5.073485821215528, 'expert_loads_saved': 33213}, {'latency': 19.713319778442383, 'throughput': 5.072712314511105, 'expert_loads_saved': 34303}, {'latency': 19.63062834739685, 'throughput': 5.094080445634877, 'expert_loads_saved': 35366}, {'latency': 19.72307825088501, 'throughput': 5.0702024667733, 'expert_loads_saved': 36456}, {'latency': 19.720852613449097, 'throughput': 5.070774674914545, 'expert_loads_saved': 37519}, {'latency': 19.681732416152954, 'throughput': 5.080853549148408, 'expert_loads_saved': 38609}, {'latency': 19.61398434638977, 'throughput': 5.098403171633326, 'expert_loads_saved': 39672}, {'latency': 19.80380415916443, 'throughput': 5.049534887150654, 'expert_loads_saved': 40762}, {'latency': 19.720831871032715, 'throughput': 5.070780008367027, 'expert_loads_saved': 41825}, {'latency': 19.842906713485718, 'throughput': 5.0395842425665185, 'expert_loads_saved': 42915}, {'latency': 19.888864994049072, 'throughput': 5.027939001542868, 'expert_loads_saved': 43978}, {'latency': 19.704427242279053, 'throughput': 5.0750016110812775, 'expert_loads_saved': 45068}, {'latency': 19.774057865142822, 'throughput': 5.057130948133682, 'expert_loads_saved': 46131}, {'latency': 19.831135511398315, 'throughput': 5.042575597475149, 'expert_loads_saved': 47221}, {'latency': 19.778596878051758, 'throughput': 5.055970381345386, 'expert_loads_saved': 48284}, {'latency': 19.84668803215027, 'throughput': 5.0386240685603, 'expert_loads_saved': 49374}, {'latency': 19.686518907546997, 'throughput': 5.07961821333807, 'expert_loads_saved': 50437}, {'latency': 19.81047296524048, 'throughput': 5.04783506054905, 'expert_loads_saved': 51527}, {'latency': 19.766749382019043, 'throughput': 5.059000752595451, 'expert_loads_saved': 52590}, {'latency': 19.82347822189331, 'throughput': 5.044523412120416, 'expert_loads_saved': 53680}]\n",
      "Running with configs: 6, 4, 2, BIASING, 0.05, 50, 1\n"
     ]
    },
    {
     "data": {
      "application/vnd.jupyter.widget-view+json": {
       "model_id": "5c3c1d035512470e8cd4b3c6628baf53",
       "version_major": 2,
       "version_minor": 0
      },
      "text/plain": [
       "Loading experts:   0%|          | 0/32 [00:00<?, ?it/s]"
      ]
     },
     "metadata": {},
     "output_type": "display_data"
    },
    {
     "name": "stdout",
     "output_type": "stream",
     "text": [
      "Batch: ['How can one improve their time management skills?'] | Input_ids: torch.Size([1, 10])\n",
      "Total Latency :21.873337268829346 sec, Throughput:4.571776074723871, Expert Loads saved:1039 \n",
      "Total Latency :21.73957848548889 sec, Throughput:4.599905194424525, Expert Loads saved:2070 \n",
      "Total Latency :21.85190224647522 sec, Throughput:4.576260632692987, Expert Loads saved:3101 \n",
      "Total Latency :21.84433627128601 sec, Throughput:4.577845660224899, Expert Loads saved:4132 \n",
      "Total Latency :21.860982179641724 sec, Throughput:4.574359888236224, Expert Loads saved:5163 \n",
      "Total Latency :22.102371215820312 sec, Throughput:4.524401432929628, Expert Loads saved:6194 \n",
      "Total Latency :21.810094356536865 sec, Throughput:4.585032891892476, Expert Loads saved:7225 \n",
      "Total Latency :21.9184091091156 sec, Throughput:4.562374919738642, Expert Loads saved:8256 \n",
      "Total Latency :21.91471266746521 sec, Throughput:4.563144473642173, Expert Loads saved:9287 \n",
      "Total Latency :21.94744563102722 sec, Throughput:4.5563388870470405, Expert Loads saved:10318 \n",
      "Total Latency :21.926433801651 sec, Throughput:4.560705170052335, Expert Loads saved:11349 \n",
      "Total Latency :21.83831477165222 sec, Throughput:4.579107914032247, Expert Loads saved:12380 \n",
      "Total Latency :21.72015357017517 sec, Throughput:4.6040190128910545, Expert Loads saved:13411 \n",
      "Total Latency :21.46644139289856 sec, Throughput:4.65843397933118, Expert Loads saved:14442 \n",
      "Total Latency :21.39552593231201 sec, Throughput:4.673874356553101, Expert Loads saved:15473 \n",
      "Total Latency :21.431586980819702 sec, Throughput:4.666010038803727, Expert Loads saved:16504 \n",
      "Total Latency :21.418832778930664 sec, Throughput:4.668788492450824, Expert Loads saved:17535 \n",
      "Total Latency :21.42269015312195 sec, Throughput:4.667947829391862, Expert Loads saved:18566 \n",
      "Total Latency :21.422972917556763 sec, Throughput:4.667886216578607, Expert Loads saved:19597 \n",
      "Total Latency :21.41927218437195 sec, Throughput:4.668692714636801, Expert Loads saved:20628 \n",
      "Total Latency :21.44663166999817 sec, Throughput:4.662736859508369, Expert Loads saved:21659 \n",
      "Total Latency :21.440450191497803 sec, Throughput:4.664081169324278, Expert Loads saved:22690 \n",
      "Total Latency :21.438049793243408 sec, Throughput:4.6646034021022205, Expert Loads saved:23721 \n",
      "Total Latency :21.434357404708862 sec, Throughput:4.665406949780134, Expert Loads saved:24752 \n",
      "Total Latency :21.43254780769348 sec, Throughput:4.6658008603206635, Expert Loads saved:25783 \n",
      "Total Latency :21.62414264678955 sec, Throughput:4.624460799829518, Expert Loads saved:26814 \n",
      "Total Latency :21.44750213623047 sec, Throughput:4.66254761812443, Expert Loads saved:27845 \n",
      "Total Latency :21.465916872024536 sec, Throughput:4.658547808424854, Expert Loads saved:28876 \n",
      "Total Latency :21.446350574493408 sec, Throughput:4.662797973606385, Expert Loads saved:29907 \n",
      "Total Latency :21.44680094718933 sec, Throughput:4.662700057050015, Expert Loads saved:30938 \n",
      "Total Latency :21.443530321121216 sec, Throughput:4.663411224853357, Expert Loads saved:31969 \n",
      "Total Latency :21.470011472702026 sec, Throughput:4.657659364884116, Expert Loads saved:33000 \n",
      "Total Latency :21.45746421813965 sec, Throughput:4.660382931710183, Expert Loads saved:34031 \n",
      "Total Latency :21.613693952560425 sec, Throughput:4.626696399953127, Expert Loads saved:35062 \n",
      "Total Latency :21.517029285430908 sec, Throughput:4.647481707324235, Expert Loads saved:36093 \n",
      "Total Latency :21.50133776664734 sec, Throughput:4.6508734054268475, Expert Loads saved:37124 \n",
      "Total Latency :21.50344729423523 sec, Throughput:4.6504171462223445, Expert Loads saved:38155 \n",
      "Total Latency :21.49597930908203 sec, Throughput:4.652032762133805, Expert Loads saved:39186 \n",
      "Total Latency :21.492451429367065 sec, Throughput:4.652796370327539, Expert Loads saved:40217 \n",
      "Total Latency :21.470067739486694 sec, Throughput:4.657647158517572, Expert Loads saved:41248 \n",
      "Total Latency :21.485751390457153 sec, Throughput:4.6542472814990665, Expert Loads saved:42279 \n",
      "Total Latency :21.50070333480835 sec, Throughput:4.65101064103824, Expert Loads saved:43310 \n",
      "Total Latency :21.516982555389404 sec, Throughput:4.64749180060811, Expert Loads saved:44341 \n",
      "Total Latency :21.53679347038269 sec, Throughput:4.643216741504235, Expert Loads saved:45372 \n",
      "Total Latency :21.661758184432983 sec, Throughput:4.616430446161293, Expert Loads saved:46403 \n",
      "Total Latency :21.79306173324585 sec, Throughput:4.588616378186437, Expert Loads saved:47434 \n",
      "Total Latency :21.74953866004944 sec, Throughput:4.597798673481044, Expert Loads saved:48465 \n",
      "Total Latency :21.869667053222656 sec, Throughput:4.572543320236065, Expert Loads saved:49496 \n",
      "Total Latency :22.046958923339844 sec, Throughput:4.535772953889607, Expert Loads saved:50527 \n"
     ]
    },
    {
     "name": "stderr",
     "output_type": "stream",
     "text": [
      "20it [5:25:05, 975.29s/it]"
     ]
    },
    {
     "name": "stdout",
     "output_type": "stream",
     "text": [
      "Total Latency :21.674078702926636 sec, Throughput:4.6138062600325, Expert Loads saved:51558 \n",
      "Config: 19 Result: [{'latency': 21.873337268829346, 'throughput': 4.571776074723871, 'expert_loads_saved': 1039}, {'latency': 21.73957848548889, 'throughput': 4.599905194424525, 'expert_loads_saved': 2070}, {'latency': 21.85190224647522, 'throughput': 4.576260632692987, 'expert_loads_saved': 3101}, {'latency': 21.84433627128601, 'throughput': 4.577845660224899, 'expert_loads_saved': 4132}, {'latency': 21.860982179641724, 'throughput': 4.574359888236224, 'expert_loads_saved': 5163}, {'latency': 22.102371215820312, 'throughput': 4.524401432929628, 'expert_loads_saved': 6194}, {'latency': 21.810094356536865, 'throughput': 4.585032891892476, 'expert_loads_saved': 7225}, {'latency': 21.9184091091156, 'throughput': 4.562374919738642, 'expert_loads_saved': 8256}, {'latency': 21.91471266746521, 'throughput': 4.563144473642173, 'expert_loads_saved': 9287}, {'latency': 21.94744563102722, 'throughput': 4.5563388870470405, 'expert_loads_saved': 10318}, {'latency': 21.926433801651, 'throughput': 4.560705170052335, 'expert_loads_saved': 11349}, {'latency': 21.83831477165222, 'throughput': 4.579107914032247, 'expert_loads_saved': 12380}, {'latency': 21.72015357017517, 'throughput': 4.6040190128910545, 'expert_loads_saved': 13411}, {'latency': 21.46644139289856, 'throughput': 4.65843397933118, 'expert_loads_saved': 14442}, {'latency': 21.39552593231201, 'throughput': 4.673874356553101, 'expert_loads_saved': 15473}, {'latency': 21.431586980819702, 'throughput': 4.666010038803727, 'expert_loads_saved': 16504}, {'latency': 21.418832778930664, 'throughput': 4.668788492450824, 'expert_loads_saved': 17535}, {'latency': 21.42269015312195, 'throughput': 4.667947829391862, 'expert_loads_saved': 18566}, {'latency': 21.422972917556763, 'throughput': 4.667886216578607, 'expert_loads_saved': 19597}, {'latency': 21.41927218437195, 'throughput': 4.668692714636801, 'expert_loads_saved': 20628}, {'latency': 21.44663166999817, 'throughput': 4.662736859508369, 'expert_loads_saved': 21659}, {'latency': 21.440450191497803, 'throughput': 4.664081169324278, 'expert_loads_saved': 22690}, {'latency': 21.438049793243408, 'throughput': 4.6646034021022205, 'expert_loads_saved': 23721}, {'latency': 21.434357404708862, 'throughput': 4.665406949780134, 'expert_loads_saved': 24752}, {'latency': 21.43254780769348, 'throughput': 4.6658008603206635, 'expert_loads_saved': 25783}, {'latency': 21.62414264678955, 'throughput': 4.624460799829518, 'expert_loads_saved': 26814}, {'latency': 21.44750213623047, 'throughput': 4.66254761812443, 'expert_loads_saved': 27845}, {'latency': 21.465916872024536, 'throughput': 4.658547808424854, 'expert_loads_saved': 28876}, {'latency': 21.446350574493408, 'throughput': 4.662797973606385, 'expert_loads_saved': 29907}, {'latency': 21.44680094718933, 'throughput': 4.662700057050015, 'expert_loads_saved': 30938}, {'latency': 21.443530321121216, 'throughput': 4.663411224853357, 'expert_loads_saved': 31969}, {'latency': 21.470011472702026, 'throughput': 4.657659364884116, 'expert_loads_saved': 33000}, {'latency': 21.45746421813965, 'throughput': 4.660382931710183, 'expert_loads_saved': 34031}, {'latency': 21.613693952560425, 'throughput': 4.626696399953127, 'expert_loads_saved': 35062}, {'latency': 21.517029285430908, 'throughput': 4.647481707324235, 'expert_loads_saved': 36093}, {'latency': 21.50133776664734, 'throughput': 4.6508734054268475, 'expert_loads_saved': 37124}, {'latency': 21.50344729423523, 'throughput': 4.6504171462223445, 'expert_loads_saved': 38155}, {'latency': 21.49597930908203, 'throughput': 4.652032762133805, 'expert_loads_saved': 39186}, {'latency': 21.492451429367065, 'throughput': 4.652796370327539, 'expert_loads_saved': 40217}, {'latency': 21.470067739486694, 'throughput': 4.657647158517572, 'expert_loads_saved': 41248}, {'latency': 21.485751390457153, 'throughput': 4.6542472814990665, 'expert_loads_saved': 42279}, {'latency': 21.50070333480835, 'throughput': 4.65101064103824, 'expert_loads_saved': 43310}, {'latency': 21.516982555389404, 'throughput': 4.64749180060811, 'expert_loads_saved': 44341}, {'latency': 21.53679347038269, 'throughput': 4.643216741504235, 'expert_loads_saved': 45372}, {'latency': 21.661758184432983, 'throughput': 4.616430446161293, 'expert_loads_saved': 46403}, {'latency': 21.79306173324585, 'throughput': 4.588616378186437, 'expert_loads_saved': 47434}, {'latency': 21.74953866004944, 'throughput': 4.597798673481044, 'expert_loads_saved': 48465}, {'latency': 21.869667053222656, 'throughput': 4.572543320236065, 'expert_loads_saved': 49496}, {'latency': 22.046958923339844, 'throughput': 4.535772953889607, 'expert_loads_saved': 50527}, {'latency': 21.674078702926636, 'throughput': 4.6138062600325, 'expert_loads_saved': 51558}]\n"
     ]
    },
    {
     "name": "stderr",
     "output_type": "stream",
     "text": [
      "\n"
     ]
    }
   ],
   "source": [
    "profiling_results = []\n",
    "from tqdm import tqdm\n",
    "import pickle\n",
    "\n",
    "for i, rc in tqdm(enumerate(run_configs)):\n",
    "    result = run_for_config(**rc) # run_for_config(offload_per_layer=4, attn_bits=4, ffn_bits=2, routing_strategy='BIASING', alpha=0.05, n= 3)\n",
    "    print (f\"Config: {i} Result: {result}\")\n",
    "    profiling_results.append(result)\n",
    "\n",
    "    with open(\"profiling_results.pkl\", \"wb\") as fp:\n",
    "        pickle.dump(profiling_results, fp)"
   ]
  },
  {
   "cell_type": "markdown",
   "metadata": {},
   "source": [
    "## Plotting Performance Gain"
   ]
  },
  {
   "cell_type": "code",
   "execution_count": null,
   "metadata": {},
   "outputs": [],
   "source": [
    "import pandas as pd\n",
    "import numpy as np\n",
    "import pickle\n",
    "\n",
    "profiling_results = pickle.load(open(\"profiling_results.pkl\", \"rb\"))"
   ]
  },
  {
   "cell_type": "code",
   "execution_count": null,
   "metadata": {},
   "outputs": [],
   "source": [
    "records = []\n",
    "\n",
    "for config_num in range(len(run_configs)):\n",
    "    cfg = run_configs[config_num]\n",
    "    \n",
    "    result = profiling_results[config_num]\n",
    "    \n",
    "    latencies = []\n",
    "    loads_saved = []\n",
    "    throughputs = []\n",
    "    \n",
    "    for r in result:\n",
    "        latencies.append(r['latency'])\n",
    "        throughputs.append(r['throughput'])\n",
    "        loads_saved.append(r['expert_loads_saved'])\n",
    "    \n",
    "    cfg['config_num'] = config_num\n",
    "    cfg['mean_latency'] = np.mean(latencies)\n",
    "    cfg['std_latency'] = np.std(latencies)\n",
    "    cfg['mean_loads_saved'] = np.mean(loads_saved)\n",
    "    cfg['std_loads_saved'] = np.std(loads_saved)\n",
    "    cfg['mean_throughput'] = np.mean(throughputs)\n",
    "    cfg['std_throughput'] = np.std(throughputs)\n",
    "    \n",
    "    records.append(cfg)"
   ]
  },
  {
   "cell_type": "code",
   "execution_count": null,
   "metadata": {},
   "outputs": [],
   "source": [
    "df = pd.DataFrame.from_records(records)\n",
    "df['label'] = df.apply(lambda x: f\"{x['routing_strategy']}__{x['alpha']}\" if 'THRESHOLDING' == x['routing_strategy'] else x['routing_strategy'], axis = 1)\n",
    "df"
   ]
  },
  {
   "cell_type": "code",
   "execution_count": null,
   "metadata": {},
   "outputs": [],
   "source": [
    "sub_dfs = {}\n",
    "for offloads in [3, 4, 5, 6]:\n",
    "    sub_dfs[offloads] = df[df['offload_per_layer'] == offloads]"
   ]
  },
  {
   "cell_type": "code",
   "execution_count": null,
   "metadata": {},
   "outputs": [],
   "source": [
    "import matplotlib.pyplot as plt\n",
    "\n",
    "fig, (ax1, ax2, ax3) = plt.subplots(1, 3, figsize=(15, 5))  # 1 row, 3 columns\n",
    "\n",
    "# plt.style.use('seaborn-darkgrid')\n",
    "    \n",
    "# Create a figure and an axis object\n",
    "#fig, ax = plt.subplots()\n",
    "\n",
    "# Get unique labels for color coding\n",
    "labels = df['label'].unique()\n",
    "\n",
    "# Assign colors to each label (can also use a colormap if preferred)\n",
    "colors = plt.cm.get_cmap('tab10', len(labels))\n",
    "\n",
    "# Iterate over each label to plot\n",
    "for i, label in enumerate(labels):\n",
    "    # Filter data for the current label\n",
    "    sub_df = df[df['label'] == label]\n",
    "\n",
    "    # Plot error bars\n",
    "    ax1.errorbar(sub_df['offload_per_layer'], sub_df['mean_latency'],\n",
    "                yerr=sub_df['std_latency'], label=label,\n",
    "                color=colors(i), elinewidth=3, capsize=3)\n",
    "\n",
    "# Labeling the axes\n",
    "ax1.set_xlabel('Offloads per Layer')\n",
    "ax1.set_ylabel('Latency')\n",
    "\n",
    "ax1.set_xticks([3, 4, 5, 6])\n",
    "\n",
    "# Add a title\n",
    "ax1.set_title('Latency per sequence trends')\n",
    "\n",
    "# Add legend\n",
    "ax1.legend(title='Label', loc='upper left')\n",
    "\n",
    "# Show plot\n",
    "# plt.show()\n",
    "\n",
    "# plt.style.use('seaborn-darkgrid')\n",
    "    \n",
    "# Create a figure and an axis object\n",
    "# fig, ax = plt.subplots()\n",
    "\n",
    "# Get unique labels for color coding\n",
    "labels = df['label'].unique()\n",
    "\n",
    "# Assign colors to each label (can also use a colormap if preferred)\n",
    "colors = plt.cm.get_cmap('tab10', len(labels))\n",
    "\n",
    "# Iterate over each label to plot\n",
    "for i, label in enumerate(labels):\n",
    "    # Filter data for the current label\n",
    "    sub_df = df[df['label'] == label]\n",
    "\n",
    "    # Plot error bars\n",
    "    ax2.errorbar(sub_df['offload_per_layer'], sub_df['mean_throughput'],\n",
    "                yerr=sub_df['std_throughput'], label=label,\n",
    "                color=colors(i), elinewidth=3, capsize=3)\n",
    "\n",
    "# Labeling the axes\n",
    "ax2.set_xlabel('Offloads per Layer')\n",
    "ax2.set_ylabel('Throughput')\n",
    "\n",
    "ax2.set_xticks([3, 4, 5, 6])\n",
    "\n",
    "# Add a title\n",
    "ax2.set_title('Generation seconds/token trends')\n",
    "\n",
    "# Add legend\n",
    "# ax2.legend(title='Label')\n",
    "\n",
    "# Show plot\n",
    "# plt.show()\n",
    "\n",
    "# plt.style.use('seaborn-darkgrid')\n",
    "    \n",
    "# Create a figure and an axis object\n",
    "# fig, ax = plt.subplots()\n",
    "\n",
    "# Get unique labels for color coding\n",
    "labels = df['label'].unique()\n",
    "\n",
    "# Assign colors to each label (can also use a colormap if preferred)\n",
    "colors = plt.cm.get_cmap('tab10', len(labels))\n",
    "\n",
    "# Iterate over each label to plot\n",
    "for i, label in enumerate(labels):\n",
    "    # Filter data for the current label\n",
    "    sub_df = df[df['label'] == label]\n",
    "\n",
    "    # Plot error bars\n",
    "    ax3.errorbar(sub_df['offload_per_layer'], sub_df['mean_loads_saved'],\n",
    "                yerr=sub_df['std_loads_saved'], label=label,\n",
    "                color=colors(i), elinewidth=0, capsize=0)\n",
    "\n",
    "# Labeling the axes\n",
    "ax3.set_xlabel('Offloads per Layer')\n",
    "ax3.set_ylabel('Expert loads saved')\n",
    "\n",
    "ax3.set_xticks([3, 4, 5, 6])\n",
    "\n",
    "# Add a title\n",
    "ax3.set_title('Avg expert loads saved ')\n",
    "\n",
    "# Add legend\n",
    "# ax3.legend(title='Label')\n",
    "\n",
    "# Show plot\n",
    "plt.show()"
   ]
  }
 ],
 "metadata": {
  "kernelspec": {
   "display_name": "Python 3 (ipykernel)",
   "language": "python",
   "name": "python3"
  },
  "language_info": {
   "codemirror_mode": {
    "name": "ipython",
    "version": 3
   },
   "file_extension": ".py",
   "mimetype": "text/x-python",
   "name": "python",
   "nbconvert_exporter": "python",
   "pygments_lexer": "ipython3",
   "version": "3.9.12"
  }
 },
 "nbformat": 4,
 "nbformat_minor": 4
}
